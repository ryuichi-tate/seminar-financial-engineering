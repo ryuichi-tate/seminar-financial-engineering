{
 "metadata": {
  "language_info": {
   "codemirror_mode": {
    "name": "ipython",
    "version": 3
   },
   "file_extension": ".py",
   "mimetype": "text/x-python",
   "name": "python",
   "nbconvert_exporter": "python",
   "pygments_lexer": "ipython3",
   "version": "3.7.0-final"
  },
  "orig_nbformat": 2,
  "kernelspec": {
   "name": "python3",
   "display_name": "Python 3"
  }
 },
 "nbformat": 4,
 "nbformat_minor": 2,
 "cells": [
  {
   "source": [
    "# トラッキング"
   ],
   "cell_type": "markdown",
   "metadata": {}
  },
  {
   "source": [
    "## (a) "
   ],
   "cell_type": "markdown",
   "metadata": {}
  },
  {
   "source": [
    "\\begin{align}\n",
    "{\\boldsymbol\\alpha} &= [\\alpha_1, \\alpha_2, \\cdots, \\alpha_n]^T \\\\\n",
    "\\\\\n",
    "{\\bf r} &= [r_1, r_2, \\cdots, r_n]^T\n",
    "\\end{align}\n",
    "とする。"
   ],
   "cell_type": "markdown",
   "metadata": {}
  },
  {
   "source": [
    "最適化問題として表記すると、\n",
    "\\begin{align}\n",
    "\\min_{\\alpha}\\mbox{Var}[r-r_M]\\\\\n",
    "s.t. \\sum_{i=1}^n\\alpha_i = 1\n",
    "\\end{align}"
   ],
   "cell_type": "markdown",
   "metadata": {}
  },
  {
   "source": [
    "ここで、共分散について、\n",
    "\\begin{align}\n",
    "\\sigma_{ij} &= \\mbox{Cov}[r_i, r_j]\\ \\ \\ (i,j = 1,2,\\cdots,n)\\\\\n",
    "\\\\\n",
    "V &= \\mbox{Var}[{\\bf r}] = \\left[\n",
    "  \\begin{array}{cccc}\n",
    "    \\sigma_{11} & \\sigma_{12} & \\cdots & \\sigma_{1n} \\\\\n",
    "    \\sigma_{21} & \\sigma_{22} & \\cdots & \\sigma_{2n} \\\\\n",
    "    \\vdots & \\vdots & \\ddots & \\vdots \\\\\n",
    "    \\sigma_{n1} & \\sigma_{n2} & \\cdots & \\sigma_{nn} \\\\\n",
    "  \\end{array}\n",
    "\\right]\\\\\n",
    "\\\\\n",
    "\\sigma_{iM} &= \\mbox{Cov}[r_i, r_M]\\ \\ \\ (i = 1,2,\\cdots,n)\\\\\n",
    "\\\\\n",
    "V_{:M} &=  \\mbox{Cov}[{\\bf r}, r_M] = \\left[\n",
    "  \\begin{array}{c}\n",
    "    \\sigma_{1M} \\\\\n",
    "    \\sigma_{2M} \\\\\n",
    "    \\vdots \\\\\n",
    "    \\sigma_{nM} \\\\\n",
    "  \\end{array}\n",
    "\\right]\n",
    "\\end{align}\n",
    "とおく。"
   ],
   "cell_type": "markdown",
   "metadata": {}
  },
  {
   "source": [
    "\\begin{align}\n",
    "\\mbox{Var}[r-r_M] &= \\mbox{Var}\\left[\\sum_{i=1}^n\\alpha_ir_i-r_M\\right] \\\\\n",
    "\\\\ \n",
    "&= \\mbox{Var}\\left[{\\boldsymbol\\alpha}^T{\\bf r} - r_M\\right] \\\\\n",
    "\\\\\n",
    "&= {\\boldsymbol\\alpha}^T\\mbox{Var}[{\\bf r}]{\\boldsymbol\\alpha} - 2{\\boldsymbol\\alpha}^T\\mbox{Cov}[{\\bf r}, r_M] + \\mbox{Var}[r_M]\\\\\n",
    "\\\\\n",
    "&= {\\boldsymbol\\alpha}^TV{\\boldsymbol\\alpha} - 2{\\boldsymbol\\alpha}^TV_{:M} + \\sigma_{MM}\\\\\n",
    "\\end{align}"
   ],
   "cell_type": "markdown",
   "metadata": {}
  },
  {
   "source": [
    "したがって最適化問題におけるラグランジアン$L$は、\n",
    "\\begin{align}\n",
    "L &= \\mbox{Var}[r-r_M] - \\lambda\\left(\\sum_{i=1}^n\\alpha_i-1\\right)\\\\\n",
    "\\\\\n",
    "&= {\\boldsymbol\\alpha}^TV{\\boldsymbol\\alpha} - 2{\\boldsymbol\\alpha}^TV_{:M} + \\sigma_{MM} - \\lambda\\left(\\sum_{i=1}^n\\alpha_i-1\\right)\\\\\n",
    "\\end{align}"
   ],
   "cell_type": "markdown",
   "metadata": {}
  },
  {
   "source": [
    "\\begin{align}\n",
    "\\frac{\\partial L}{\\partial {\\boldsymbol\\alpha}} &= (V+V^T){\\boldsymbol\\alpha} - 2V_{:M} -\\lambda{\\bf 1} \\\\\n",
    "\\\\\n",
    "&= 2V{\\boldsymbol\\alpha} - 2V_{:M} -\\lambda{\\bf 1}\n",
    "\\end{align}"
   ],
   "cell_type": "markdown",
   "metadata": {}
  },
  {
   "source": [
    "したがって${\\boldsymbol\\alpha}$が満たすべき式は、$\\frac{\\partial L}{\\partial {\\boldsymbol\\alpha}}=0$である、\n",
    "\\begin{align}\n",
    "2V{\\boldsymbol\\alpha} = 2V_{:M} + \\lambda{\\bf 1}\n",
    "\\end{align}\n",
    "と、元の制約式の\n",
    "\\begin{align}\n",
    "\\sum_{i=1}^n\\alpha_i=1\n",
    "\\end{align}\n",
    "である。"
   ],
   "cell_type": "markdown",
   "metadata": {}
  },
  {
   "source": [
    "## (b)"
   ],
   "cell_type": "markdown",
   "metadata": {}
  },
  {
   "source": [
    "目標ポートフォリオの期待収益率を$\\bar r_M$、$i$番目の資産の期待収益率を$\\bar r_i$とする。<br>\n",
    "追加の制約式は、新しく作成するポートフォリオの期待収益率と目標収益率が一致するための、\n",
    "\\begin{align}\n",
    "\\bar r_M = \\sum_{i=1}^n\\alpha_i\\bar r_i\n",
    "\\end{align}\n",
    "となる。"
   ],
   "cell_type": "markdown",
   "metadata": {}
  },
  {
   "source": [
    "したがってラグランジアン$L$は、\n",
    "\\begin{align}\n",
    "L &= {\\boldsymbol\\alpha}^TV{\\boldsymbol\\alpha} - 2{\\boldsymbol\\alpha}^TV_{:M} + \\sigma_{MM} - \\lambda\\left(\\sum_{i=1}^n\\alpha_i-1\\right) - \\mu\\left(\\sum_{i=1}^n\\alpha_i\\bar r_i - \\bar r_M\\right)\\\\\n",
    "\\end{align}"
   ],
   "cell_type": "markdown",
   "metadata": {}
  },
  {
   "source": [
    "\\begin{align}\n",
    "\\frac{\\partial L}{\\partial {\\boldsymbol\\alpha}} &= (V+V^T){\\boldsymbol\\alpha} - 2V_{:M} -\\lambda{\\bf 1} - \\mu\\bar{\\bf r}\\\\\n",
    "\\\\\n",
    "&= 2V{\\boldsymbol\\alpha} - 2V_{:M} -\\lambda{\\bf 1} - \\mu\\bar{\\bf r}\n",
    "\\end{align}"
   ],
   "cell_type": "markdown",
   "metadata": {}
  },
  {
   "source": [
    "したがって${\\boldsymbol\\alpha}$が満たすべき式は、$\\frac{\\partial L}{\\partial {\\boldsymbol\\alpha}}=0$である、\n",
    "\\begin{align}\n",
    "2V{\\boldsymbol\\alpha} = 2V_{:M} + \\lambda{\\bf 1} + \\mu\\bar{\\bf r}\n",
    "\\end{align}\n",
    "と、元の制約式の\n",
    "\\begin{align}\n",
    "&\\sum_{i=1}^n\\alpha_i=1\\\\\n",
    "\\\\\n",
    "&\\sum_{i=1}^n\\alpha_i\\bar r_i = \\bar r_M\n",
    "\\end{align}\n",
    "である。"
   ],
   "cell_type": "markdown",
   "metadata": {}
  }
 ]
}