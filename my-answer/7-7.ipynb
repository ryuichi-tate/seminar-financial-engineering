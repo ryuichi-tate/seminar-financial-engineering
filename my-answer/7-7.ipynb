{
 "metadata": {
  "language_info": {
   "codemirror_mode": {
    "name": "ipython",
    "version": 3
   },
   "file_extension": ".py",
   "mimetype": "text/x-python",
   "name": "python",
   "nbconvert_exporter": "python",
   "pygments_lexer": "ipython3",
   "version": "3.7.0-final"
  },
  "orig_nbformat": 2,
  "kernelspec": {
   "name": "Python 3.7.0 64-bit ('anaconda3-5.3.1': pyenv)",
   "display_name": "Python 3.7.0 64-bit ('anaconda3-5.3.1': pyenv)",
   "metadata": {
    "interpreter": {
     "hash": "69a136449174336f9e0368e6e2a94f5fcdb528bd494f723889be5ddb2edd6305"
    }
   }
  }
 },
 "nbformat": 4,
 "nbformat_minor": 2,
 "cells": [
  {
   "source": [
    "# ゼロベータ資産"
   ],
   "cell_type": "markdown",
   "metadata": {}
  },
  {
   "source": [
    "## (a)"
   ],
   "cell_type": "markdown",
   "metadata": {}
  },
  {
   "source": [
    "収益率が$r_p = (1-\\alpha) r_0 + \\alpha r_1$であるポートフォリオを考える。このポートフォリオの収益率の分散を$\\sigma_p^2$とする。"
   ],
   "cell_type": "markdown",
   "metadata": {}
  },
  {
   "source": [
    "\\begin{align}\n",
    "\\sigma_p^2 &= (1-\\alpha)^2\\sigma_0^2 + 2\\alpha(1-\\alpha)\\sigma_{01} + \\alpha^2\\sigma_1^2 \\\\\n",
    "\\\\\n",
    "\\frac{\\partial}{\\partial\\alpha}\\sigma_p^2 &= -2(1-\\alpha)\\sigma_0^2 + 2(1-2\\alpha)\\sigma_{01} + 2\\alpha\\sigma_1^2\\\\\n",
    "\\\\\n",
    "\\left. \\frac{\\partial}{\\partial\\alpha}\\sigma_p^2 \\right|_{\\alpha=0} &= -2\\sigma_0^2 + 2\\sigma_{01}\n",
    "\\end{align}"
   ],
   "cell_type": "markdown",
   "metadata": {}
  },
  {
   "source": [
    "このポートフォリオ$r_p$について、$\\alpha=0$の時は最小分散ポートフォリオとなるので、その時の$\\sigma_p$は最小となる。つまり$\\partial\\sigma_p^2/\\partial\\alpha=0$となる。"
   ],
   "cell_type": "markdown",
   "metadata": {}
  },
  {
   "source": [
    "\\begin{align}\n",
    "\\left. \\frac{\\partial}{\\partial\\alpha}\\sigma_p^2 \\right|_{\\alpha=0} &= 0\\\\\n",
    "\\\\\n",
    "-2\\sigma_0^2 + 2\\sigma_{01} &= 0\\\\\n",
    "\\\\\n",
    "\\therefore \\sigma_0^2 &= \\sigma_{01}\\ \\ \\ \\ (A=1)\n",
    "\\end{align}"
   ],
   "cell_type": "markdown",
   "metadata": {}
  },
  {
   "source": [
    "## (b)"
   ],
   "cell_type": "markdown",
   "metadata": {}
  },
  {
   "source": [
    "\\begin{align}\n",
    "0 = \\sigma_{1,z} &= Cov[r_1, r_z]\\\\\n",
    "\\\\\n",
    "&= Cov[r_1,\\ (1-\\alpha)r_0+\\alpha r_1]\\\\\n",
    "\\\\\n",
    "&= (1-\\alpha)Cov[r_1,\\ r_0]+\\alpha Cov[r_1,\\ r_1]\\\\\n",
    "\\\\\n",
    "&= (1-\\alpha)\\sigma_{01}+\\alpha\\sigma_1^2\\\\\n",
    "\\\\\n",
    "\\therefore \\alpha &= \\frac{\\sigma_{01}}{\\sigma_{01}-\\sigma_1^2}\n",
    "\\end{align} "
   ],
   "cell_type": "markdown",
   "metadata": {}
  },
  {
   "source": [
    "\n",
    "(a)より、任意の資産$r_0$について$\\sigma_{01}=\\sigma_0^2$が成り立つので、\n",
    "\\begin{align}\n",
    "\\alpha &= \\frac{\\sigma_{0}}{\\sigma_0^2-\\sigma_1^2}\n",
    "\\end{align}\n",
    "\n",
    "ここで$w_0$は分散最小点なので$\\sigma_0\\leq\\sigma_1$、つまり$\\alpha\\leq0$"
   ],
   "cell_type": "markdown",
   "metadata": {}
  },
  {
   "source": [
    "## (c)"
   ],
   "cell_type": "markdown",
   "metadata": {}
  },
  {
   "source": [
    "(b)より、$w_z$のポートフォリオの配分$\\alpha$は負になったので、$w_z$のポートフォリオは最小分散集合の中だが効率的フロンティアではない領域（つまり$w_0$より下の領域）に位置する。"
   ],
   "cell_type": "markdown",
   "metadata": {}
  },
  {
   "source": [
    "## (d)"
   ],
   "cell_type": "markdown",
   "metadata": {}
  },
  {
   "source": [
    "条件より、\n",
    "\\begin{align}\n",
    "\\bar r_M &= 0.15\\\\\n",
    "\\bar r_z &= 0.09\\\\\n",
    "\\sigma_M &= 0.15\\\\\n",
    "\\sigma_i &= 0.05\\\\\n",
    "\\sigma_{iM} &= 0.5\\times\\sigma_i\\times\\sigma_M = 0.00375\\\\\n",
    "\\beta_{iM} &= \\frac{\\sigma_{iM}}{\\sigma_M^2} = \\frac{1}{6}\n",
    "\\end{align}"
   ],
   "cell_type": "markdown",
   "metadata": {}
  },
  {
   "cell_type": "code",
   "execution_count": 2,
   "metadata": {},
   "outputs": [
    {
     "output_type": "stream",
     "name": "stdout",
     "text": [
      "0.00375 0.16666666666666666\n"
     ]
    }
   ],
   "source": [
    "sigma_iM = 0.5*0.05*0.15\n",
    "beta_iM = sigma_iM/(0.15**2)\n",
    "print(sigma_iM, beta_iM)"
   ]
  },
  {
   "source": [
    "\\begin{align}\n",
    "\\bar r_i = \\bar r_z + \\beta_{iM}(\\bar r_M -\\bar r_z) = 0.1\n",
    "\\end{align}"
   ],
   "cell_type": "markdown",
   "metadata": {}
  },
  {
   "cell_type": "code",
   "execution_count": 3,
   "metadata": {},
   "outputs": [
    {
     "output_type": "execute_result",
     "data": {
      "text/plain": [
       "0.09999999999999999"
      ]
     },
     "metadata": {},
     "execution_count": 3
    }
   ],
   "source": [
    "0.09 + beta_iM*(0.15 - 0.09)"
   ]
  }
 ]
}