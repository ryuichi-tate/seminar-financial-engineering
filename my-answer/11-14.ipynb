{
 "cells": [
  {
   "cell_type": "markdown",
   "metadata": {},
   "source": [
    "# 一般の正の状態価格"
   ]
  },
  {
   "cell_type": "markdown",
   "metadata": {},
   "source": [
    "$N\\times S$の行列$D$を、$N$個の証券の$S$個分の状態における収益を格納した行列とする。<br>\n",
    "（つまり$D$の$(n,s)$要素は、状態$s$になった時の$n$番目の証券から得られる収益を表す）"
   ]
  },
  {
   "cell_type": "markdown",
   "metadata": {},
   "source": [
    "$N$個の各証券の現在価格（購入価格）を並べた$N$次元ベクトルを$q$とする。"
   ]
  },
  {
   "cell_type": "markdown",
   "metadata": {},
   "source": [
    "あるポートフォリオにおける、$N$個の証券の重みを表す$N$次元ベクトルを$x$とする。"
   ]
  },
  {
   "cell_type": "markdown",
   "metadata": {},
   "source": [
    "そのポートフォリオの現在価格は$q\\cdot x$と表せ、またそのポートフォリオの$S$個の状態における収益を表すベクトルは$D^{\\mathrm{T}}x$と表せる。"
   ]
  },
  {
   "cell_type": "markdown",
   "metadata": {},
   "source": [
    "今、以下のような$(S+1)\\times N$の行列$A$を考える。"
   ]
  },
  {
   "cell_type": "markdown",
   "metadata": {},
   "source": [
    "\\begin{align}\n",
    "A=\n",
    "\\begin{bmatrix}\n",
    "D^{\\mathrm{T}} \\\\\n",
    "------\\\\\n",
    "-q^{\\mathrm{T}} \\\\\n",
    "\\end{bmatrix}\n",
    "\\end{align}"
   ]
  },
  {
   "cell_type": "markdown",
   "metadata": {},
   "source": [
    "$p=Ax$で計算される$(S+1)$次元ベクトル$p$を考える。"
   ]
  },
  {
   "cell_type": "markdown",
   "metadata": {},
   "source": [
    "$p$の最初の$S$次元までの要素からなるベクトルは、ポートフォリオ$x$の$S$個の状態における収益を表す。（つまり$D^{\\mathrm{T}}x$）<br>\n",
    "一方、$p$の$(S+1)$次元目の要素の値は、ポートフォリオ$x$の現在価格$q\\cdot x$の符号が反転したもの（つまり負）である。"
   ]
  },
  {
   "cell_type": "markdown",
   "metadata": {},
   "source": [
    "もし裁定の機会が存在しない市場ならば、$p$の全ての要素が非負であってはならない。（$p$の全ての要素が$0$になるならセーフ）<br>\n",
    "もし全ての要素が非負で、なおかつ$0$でない要素が存在すると、\n",
    "- そのポートフォリオは現在価格が負（つまり最初にお金をもらう）で将来の収益が絶対にマイナスにならない→無リスクでお金を生み出せる\n",
    "- そのポートフォリオは現在価格が$0$（つまりタダ）で将来収益を得られることはあっても損する可能性はない\n",
    "\n",
    "の二つのどちらかになってしまうからである。"
   ]
  },
  {
   "cell_type": "markdown",
   "metadata": {},
   "source": [
    "問題文の行列理論より、この時行列$A$に対して$A^{\\mathrm{T}}y=0$を満たす$(S+1)$次元ベクトル$y>0$が存在する。"
   ]
  },
  {
   "cell_type": "markdown",
   "metadata": {},
   "source": [
    "\\begin{align}\n",
    "A^{\\mathrm{T}}y=0\n",
    "\\end{align}\n",
    "\n",
    "\\begin{align}\n",
    "\\begin{bmatrix}\n",
    "D_{11} & D_{12} & D_{13} & \\cdots & D_{1S} & -q_1 \\\\\n",
    "D_{21} & D_{22} & D_{23} & \\cdots & D_{2S} & -q_2 \\\\\n",
    "\\vdots\\\\\n",
    "D_{N1} & D_{N2} & D_{N3} & \\cdots & D_{NS} & -q_N \\\\\n",
    "\\end{bmatrix}\n",
    "\\times\n",
    "\\begin{bmatrix}\n",
    "y_1 \\\\\n",
    "y_2 \\\\\n",
    "\\vdots\\\\\n",
    "y_{S+1} \\\\\n",
    "\\end{bmatrix}\n",
    "=\n",
    "\\begin{bmatrix}\n",
    "0 \\\\\n",
    "0 \\\\\n",
    "\\vdots\\\\\n",
    "0 \\\\\n",
    "\\end{bmatrix}\n",
    "\\end{align}"
   ]
  },
  {
   "cell_type": "markdown",
   "metadata": {},
   "source": [
    "\\begin{eqnarray}\n",
    "  \\begin{cases}\n",
    "    D_{11}y_1 + D_{12}y_2 + D_{13}y_3 + \\cdots D_{1S}y_S - q_1y_{S+1} = 0& \\\\\n",
    "    D_{21}y_1 + D_{22}y_2 + D_{23}y_3 + \\cdots D_{2S}y_S - q_2y_{S+1} = 0& \\\\\n",
    "    \\ \\ \\ \\ \\ \\ \\ \\ \\ \\ \\ \\ \\ \\ \\ \\ \\ \\ \\ \\ \\ \\ \\ \\ \\ \\ \\ \\  \\ \\ \\ \\ \\ \\ \\ \\ \\ \\ \\ \\ \\ \\ \\ \\ \\vdots\\\\\n",
    "    D_{N1}y_1 + D_{N2}y_2 + D_{N3}y_3 + \\cdots D_{NS}y_S - q_Ny_{S+1} = 0& \\\\\n",
    "  \\end{cases}\n",
    "\\end{eqnarray}"
   ]
  },
  {
   "cell_type": "markdown",
   "metadata": {},
   "source": [
    "任意の$s\\in\\{1,2,\\cdots,S\\}$に対して$\\psi_s=\\frac{y_s}{y_{S+1}}$とすると、$\\psi_s>0$である。"
   ]
  },
  {
   "cell_type": "markdown",
   "metadata": {},
   "source": [
    "\\begin{eqnarray}\n",
    "  \\begin{cases}\n",
    "    D_{11}\\psi_1 + D_{12}\\psi_2 + D_{13}\\psi_3 + \\cdots D_{1S}\\psi_S = q_1 & \\\\\n",
    "    D_{21}\\psi_1 + D_{22}\\psi_2 + D_{23}\\psi_3 + \\cdots D_{2S}\\psi_S = q_2 & \\\\\n",
    "    \\ \\ \\ \\ \\ \\ \\ \\ \\ \\ \\ \\ \\ \\ \\ \\ \\ \\ \\ \\ \\ \\ \\ \\ \\ \\ \\ \\  \\ \\ \\ \\ \\ \\ \\ \\ \\ \\ \\ \\ \\ \\ \\ \\ \\vdots\\\\\n",
    "    D_{N1}\\psi_1 + D_{N2}\\psi_2 + D_{N3}\\psi_3 + \\cdots D_{NS}\\psi_S = q_N & \\\\\n",
    "  \\end{cases}\n",
    "\\end{eqnarray}"
   ]
  },
  {
   "cell_type": "markdown",
   "metadata": {},
   "source": [
    "これは、市場に存在する$N$個の証券の現在価格$q_1,q_2,\\cdots,q_N$が、それぞれ自分の$S$個の状態における収益の線型結合で表せているので、教科書の式(11.13)と同じ形式になっていることが分かる。<br>\n",
    "すなわち$\\psi_s$は基本状態債券の現在価格を表す。<br>\n",
    "つまりベクトル$\\psi$は正の状態価格であり、その存在が証明された。"
   ]
  }
 ],
 "metadata": {
  "kernelspec": {
   "display_name": "Python 3",
   "language": "python",
   "name": "python3"
  },
  "language_info": {
   "codemirror_mode": {
    "name": "ipython",
    "version": 3
   },
   "file_extension": ".py",
   "mimetype": "text/x-python",
   "name": "python",
   "nbconvert_exporter": "python",
   "pygments_lexer": "ipython3",
   "version": "3.7.0"
  }
 },
 "nbformat": 4,
 "nbformat_minor": 2
}
