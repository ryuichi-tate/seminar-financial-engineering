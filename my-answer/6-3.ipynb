{
 "metadata": {
  "language_info": {
   "codemirror_mode": {
    "name": "ipython",
    "version": 3
   },
   "file_extension": ".py",
   "mimetype": "text/x-python",
   "name": "python",
   "nbconvert_exporter": "python",
   "pygments_lexer": "ipython3",
   "version": "3.7.0-final"
  },
  "orig_nbformat": 2,
  "kernelspec": {
   "name": "python3",
   "display_name": "Python 3"
  }
 },
 "nbformat": 4,
 "nbformat_minor": 2,
 "cells": [
  {
   "source": [
    "# 2つの互いに相関がある資産"
   ],
   "cell_type": "markdown",
   "metadata": {}
  },
  {
   "source": [
    "## (a)"
   ],
   "cell_type": "markdown",
   "metadata": {}
  },
  {
   "source": [
    "資産$A$の期待収益を$\\bar r_A$、資産$B$の期待収益を$\\bar r_B$とする。\n",
    "\\begin{align}\n",
    "\\bar r_A = 0.10,\\ \\sigma_A = 0.15\\\\\n",
    "\\bar r_b = 0.18,\\ \\sigma_B = 0.30\n",
    "\\end{align}\n",
    "\n",
    "ポートフォリオの期待収益を$\\bar r$、その標準偏差を$\\sigma$とすると、\n",
    "\\begin{align}\n",
    "\\bar r &= \\alpha\\bar r_A + (1-\\alpha)\\bar r_B\\\\\n",
    "\\sigma^2 &= \\alpha^2\\sigma_A^2 + 2\\alpha(1-\\alpha)\\sigma_{AB} + (1-\\alpha)^2\\sigma_B^2\n",
    "\\end{align}"
   ],
   "cell_type": "markdown",
   "metadata": {}
  },
  {
   "source": [
    "$A$と$B$の相関係数$\\rho=0.1$より、\n",
    "\\begin{align}\n",
    "\\sigma_{AB} &= \\rho\\sigma_A\\sigma_B\\\\\n",
    "\\\\\n",
    "&= 0.1\\times0.15\\times0.30\\\\\n",
    "\\\\\n",
    "&= 0.0045\n",
    "\\end{align}"
   ],
   "cell_type": "markdown",
   "metadata": {}
  },
  {
   "source": [
    "よって\n",
    "\\begin{align}\n",
    "\\sigma^2 &= 0.15^2\\alpha^2 + 2\\times0.0045\\times\\alpha(1-\\alpha) + 0.30^2(1-\\alpha)^2\\\\\n",
    "\\\\\n",
    "&= 0.1035\\alpha^2 - 0.171\\alpha + 0.09\\\\\n",
    "\\\\\n",
    "&= 0.1035(\\alpha - \\frac{19}{23})^2+\\mbox{Const.}\n",
    "\\end{align}\n",
    "より、ポートフォリオの標準偏差を最小化する$\\alpha$は<strong>$\\frac{19}{23}$</strong>である。"
   ],
   "cell_type": "markdown",
   "metadata": {}
  },
  {
   "source": [
    "## (b)"
   ],
   "cell_type": "markdown",
   "metadata": {}
  },
  {
   "source": [
    "\\begin{align}\n",
    "\\sigma &= \\sqrt{0.1035\\alpha^2 - 0.171\\alpha + 0.09}\\\\\n",
    "\\\\\n",
    "&= \\sqrt{0.1035\\times\\left(\\frac{19}{23}\\right)^2 - 0.171\\times\\frac{19}{23} + 0.09}\\\\\n",
    "\\\\\n",
    "&= 0.13917...\n",
    "\\end{align}"
   ],
   "cell_type": "markdown",
   "metadata": {}
  },
  {
   "cell_type": "code",
   "execution_count": 14,
   "metadata": {},
   "outputs": [
    {
     "output_type": "execute_result",
     "data": {
      "text/plain": "0.13917458538609448"
     },
     "metadata": {},
     "execution_count": 14
    }
   ],
   "source": [
    "import math\n",
    "math.sqrt(0.1035*(19/23)**2-0.171*19/23+0.09)"
   ]
  },
  {
   "source": [
    "よって最小標準偏差は$13.9\\%$"
   ],
   "cell_type": "markdown",
   "metadata": {}
  },
  {
   "source": [
    "## (c)"
   ],
   "cell_type": "markdown",
   "metadata": {}
  },
  {
   "source": [
    "\\begin{align}\n",
    "\\bar r &= \\alpha\\bar r_A + (1-\\alpha)\\bar r_B\\\\\n",
    "\\\\\n",
    "&= \\frac{19}{23}\\times0.10 + (1-\\frac{19}{23})\\times0.18\\\\\n",
    "\\\\\n",
    "&= \\frac{2.62}{23} = 0.1139...\n",
    "\\end{align}"
   ],
   "cell_type": "markdown",
   "metadata": {}
  },
  {
   "source": [
    "よってポートフォリオの期待収益率は$11.4\\%$"
   ],
   "cell_type": "markdown",
   "metadata": {}
  }
 ]
}