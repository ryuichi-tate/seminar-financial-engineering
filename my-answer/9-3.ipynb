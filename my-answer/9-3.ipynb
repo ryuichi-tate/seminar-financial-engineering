{
 "cells": [
  {
   "cell_type": "markdown",
   "metadata": {},
   "source": [
    "# 一見賢い提案"
   ]
  },
  {
   "cell_type": "markdown",
   "metadata": {},
   "source": [
    "ガビンジョーンズって誰だ"
   ]
  },
  {
   "cell_type": "markdown",
   "metadata": {},
   "source": []
  },
  {
   "cell_type": "markdown",
   "metadata": {},
   "source": [
    "半月ごとの収益率を$\\rho_i$とし、これらはi.i.d.とする。（$i=1,2,\\cdots,24$）（$Var[\\rho_i]=\\sigma_{\\rho}^2$）"
   ]
  },
  {
   "cell_type": "markdown",
   "metadata": {},
   "source": [
    "ガビン・ジョーンズの方法による収益率のデータは\n",
    "\\begin{align}\n",
    "\\rho_1 + \\rho_2, \\rho_2+\\rho_3,\\cdots, \\rho_{23} + \\rho_{24}\n",
    "\\end{align}\n",
    "の23個である。このデータを$r'_i$とする。つまり\n",
    "\\begin{align}\n",
    "r'_i = \\rho_i+\\rho_{i+1}\n",
    "\\end{align}"
   ]
  },
  {
   "cell_type": "markdown",
   "metadata": {},
   "source": [
    "対して、通常の12ヶ月分のデータを$r_j$とする。（$j=1,2,\\cdots,12$）つまり、\n",
    "\\begin{align}\n",
    "r_j = \\rho_{2j-1}+\\rho_{2j}\n",
    "\\end{align}"
   ]
  },
  {
   "cell_type": "markdown",
   "metadata": {},
   "source": [
    "ガビン・ジョーンズの方法による標本平均を$\\bar r'$とすると、\n",
    "\\begin{align}\n",
    "\\bar r' &= \\frac{1}{23}\\sum_{i=1}^{23}r_i'\\\\\n",
    "\\\\\n",
    "Var[\\bar r']&=Var\\left[\\frac{1}{23}\\sum_{i=1}^{23}r_i' \\right]\\\\\n",
    "&= \\left(\\frac{1}{23}\\right)^2Var\\left[\\sum_{i=1}^{23}(\\rho_i+\\rho_{i+1})\\right]\\\\\n",
    "&=  \\left(\\frac{1}{23}\\right)^2Var\\left[\\rho_1+2\\sum_{i=2}^{23}\\rho_i+\\rho_{24}\\right]\\\\\n",
    "&=  \\left(\\frac{1}{23}\\right)^2\\left(Var[\\rho_1]+4\\sum_{i=2}^{23}Var[\\rho_i]+Var[\\rho_{24}]\\right)\\\\\n",
    "&= \\frac{90}{23^2}\\sigma_{\\rho}^2\\\\\n",
    "&= 0.170\\sigma_{\\rho}^2\n",
    "\\end{align}"
   ]
  },
  {
   "cell_type": "code",
   "execution_count": 3,
   "metadata": {},
   "outputs": [
    {
     "data": {
      "text/plain": [
       "0.17013232514177695"
      ]
     },
     "execution_count": 3,
     "metadata": {},
     "output_type": "execute_result"
    }
   ],
   "source": [
    "90/23/23"
   ]
  },
  {
   "cell_type": "markdown",
   "metadata": {},
   "source": [
    "通常の標本平均は\n",
    "\\begin{align}\n",
    "\\bar r &= \\frac{1}{12}\\sum_{j=1}^{12}r_j\\\\\n",
    "\\\\\n",
    "Var[\\bar r] &= Var\\left[\\frac{1}{12}\\sum_{j=1}^{12}r_j\\right]\\\\\n",
    "&= \\left(\\frac{1}{12}\\right)^2Var\\left[\\sum_{j=1}^{12}( \\rho_{2j-1}+\\rho_{2j})\\right]\\\\\n",
    "&= \\left(\\frac{1}{12}\\right)^2Var\\left[\\sum_{i=1}^{24} \\rho_j\\right]\\\\\n",
    "&= \\left(\\frac{1}{12}\\right)^2\\sum_{i=1}^{24}Var[ \\rho_j]\\\\\n",
    "&= \\frac{24}{12^2}\\sigma_{\\rho}^2\\\\\n",
    "&= 0.167\\sigma_{\\rho}^2\n",
    "\\end{align}"
   ]
  },
  {
   "cell_type": "code",
   "execution_count": 2,
   "metadata": {},
   "outputs": [
    {
     "data": {
      "text/plain": [
       "0.16666666666666666"
      ]
     },
     "execution_count": 2,
     "metadata": {},
     "output_type": "execute_result"
    }
   ],
   "source": [
    "24/12/12"
   ]
  },
  {
   "cell_type": "markdown",
   "metadata": {},
   "source": [
    "余計なことした分上がった？(笑)"
   ]
  }
 ],
 "metadata": {
  "kernelspec": {
   "display_name": "Python 3",
   "language": "python",
   "name": "python3"
  },
  "language_info": {
   "codemirror_mode": {
    "name": "ipython",
    "version": 3
   },
   "file_extension": ".py",
   "mimetype": "text/x-python",
   "name": "python",
   "nbconvert_exporter": "python",
   "pygments_lexer": "ipython3",
   "version": "3.7.0"
  }
 },
 "nbformat": 4,
 "nbformat_minor": 2
}
