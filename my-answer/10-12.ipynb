{
 "cells": [
  {
   "cell_type": "markdown",
   "metadata": {},
   "source": [
    "# $h$を変更する"
   ]
  },
  {
   "cell_type": "markdown",
   "metadata": {},
   "source": [
    "## (a)"
   ]
  },
  {
   "cell_type": "markdown",
   "metadata": {},
   "source": [
    "$X\\sim\\mathcal{N}(\\mu,\\sigma^2)$の時、\n",
    "\\begin{align}\n",
    "V = \\mbox{VaR}_h(X) = -\\sigma F^{-1}_{N}(h) - \\mu\n",
    "\\end{align}\n",
    "となる。"
   ]
  },
  {
   "cell_type": "markdown",
   "metadata": {},
   "source": [
    "資本が$\\Delta$増加する、と言うことは準備金は$\\Delta$減少する。準備金が減少すると言うことは、新しいポジション$X'$は元のポジション$X$の変化から定数$\\Delta$を引いた値をとる。\n",
    "\\begin{align}\n",
    "X' = X - \\Delta\n",
    "\\end{align}\n",
    "よって\n",
    "\\begin{align}\n",
    "X'\\sim \\mathcal{N}(\\mu-\\Delta, \\sigma^2)\n",
    "\\end{align}"
   ]
  },
  {
   "cell_type": "markdown",
   "metadata": {},
   "source": [
    "資本の変化$\\Delta$に対してVarを一定にするように損失許容割合$h$を$h'$へ変化させる。<br>\n",
    "すなわち\n",
    "\\begin{align}\n",
    "\\mbox{VaR}_h(X) &= \\mbox{VaR}_{h'}(X')\\\\\n",
    "-\\sigma F^{-1}_{N}(h) - \\mu &= -\\sigma F^{-1}_{N}(h') - (\\mu - \\Delta)\\\\\n",
    "\\Delta &= \\sigma\\left( F^{-1}_{N}(h') -  F^{-1}_{N}(h)\\right)\n",
    "\\end{align}"
   ]
  },
  {
   "cell_type": "markdown",
   "metadata": {},
   "source": [
    "## (b)"
   ]
  },
  {
   "cell_type": "markdown",
   "metadata": {},
   "source": [
    "\\begin{align}\n",
    "\\Delta &= \\sigma\\left( F^{-1}_{N}(h') -  F^{-1}_{N}(h)\\right)\\\\\n",
    "&= \\sigma(h'-h)\\cdot\\frac{ F^{-1}_{N}(h') -  F^{-1}_{N}(h)}{h'-h}\\\\\n",
    "&\\simeq \\sigma(h'-h)\\cdot\\frac{d}{dh}F^{-1}_{N}(h) \\\\\n",
    "&= \\sigma(h'-h)\\cdot\\frac{1}{f(F_N^{-1}(h))}\n",
    "\\end{align}"
   ]
  },
  {
   "cell_type": "markdown",
   "metadata": {},
   "source": [
    "## (c)"
   ]
  },
  {
   "cell_type": "markdown",
   "metadata": {},
   "source": [
    "よくわからない\n",
    "\\begin{align}\n",
    "\\sigma(h'-h) = f(F_N^{-1}(h))\\Delta\n",
    "\\end{align}"
   ]
  },
  {
   "cell_type": "markdown",
   "metadata": {},
   "source": [
    "$\\lim_{h\\rightarrow 0} -\\frac{\\sigma h}{f(F_N^{-1}(h))}$"
   ]
  },
  {
   "cell_type": "markdown",
   "metadata": {},
   "source": [
    "## (d)"
   ]
  },
  {
   "cell_type": "markdown",
   "metadata": {},
   "source": [
    "$h=0.01$, $\\mu=-100$, $\\sigma=20$, $\\Delta=10$の時、\n",
    "\\begin{align}\n",
    "h' &= \\frac{f(F_N^{-1}(h))\\Delta}{\\sigma} + h\\\\\n",
    "&= 0.023\n",
    "\\end{align}"
   ]
  },
  {
   "cell_type": "code",
   "execution_count": 21,
   "metadata": {
    "scrolled": true
   },
   "outputs": [
    {
     "data": {
      "text/plain": [
       "0.011332607110172904"
      ]
     },
     "execution_count": 21,
     "metadata": {},
     "output_type": "execute_result"
    }
   ],
   "source": [
    "from scipy.stats import norm  # 正規分布\n",
    "norm.pdf(x=norm.ppf(q=0.01))*1 / 20 + 0.01"
   ]
  },
  {
   "cell_type": "markdown",
   "metadata": {},
   "source": [
    "## (e)"
   ]
  },
  {
   "cell_type": "markdown",
   "metadata": {},
   "source": [
    "$h=0.01$, $\\mu=-100$, $\\sigma=20$, $\\Delta=10$の時、\n",
    "\\begin{align}\n",
    "\\Delta &= \\sigma\\left( F^{-1}_{N}(h') -  F^{-1}_{N}(h)\\right)\\\\\n",
    "\\\\\n",
    "h' &= F_N\\left(\\frac{\\Delta}{\\sigma}+F_N^{-1}(h)\\right)\\\\\n",
    "&= 0.03390\n",
    "\\end{align}"
   ]
  },
  {
   "cell_type": "code",
   "execution_count": 22,
   "metadata": {},
   "outputs": [
    {
     "data": {
      "text/plain": [
       "0.011412598437839278"
      ]
     },
     "execution_count": 22,
     "metadata": {},
     "output_type": "execute_result"
    }
   ],
   "source": [
    "norm.cdf(x=1/20+norm.ppf(q=0.01))"
   ]
  }
 ],
 "metadata": {
  "kernelspec": {
   "display_name": "Python 3",
   "language": "python",
   "name": "python3"
  },
  "language_info": {
   "codemirror_mode": {
    "name": "ipython",
    "version": 3
   },
   "file_extension": ".py",
   "mimetype": "text/x-python",
   "name": "python",
   "nbconvert_exporter": "python",
   "pygments_lexer": "ipython3",
   "version": "3.7.0"
  }
 },
 "nbformat": 4,
 "nbformat_minor": 2
}
