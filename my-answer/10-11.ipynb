{
 "cells": [
  {
   "cell_type": "markdown",
   "metadata": {},
   "source": [
    "# 信頼水準の修正"
   ]
  },
  {
   "cell_type": "markdown",
   "metadata": {},
   "source": [
    "## (a)"
   ]
  },
  {
   "cell_type": "markdown",
   "metadata": {},
   "source": [
    "信頼水準$70\\%$のVaRは、$\\mbox{VaR}_{0.3}[X_1]=4$\n",
    "\n",
    "よってCVaRの計算には、$P[X_1=-4]$の確率$20\\%$を半分用いる。\n",
    "\n",
    "\\begin{align}\n",
    "\\mbox{CVaR}_{0.3}[X_1] = \\frac{9\\times 0.2 + 4\\times 0.1}{0.3} = \\frac{22}{3}\n",
    "\\end{align}"
   ]
  },
  {
   "cell_type": "markdown",
   "metadata": {},
   "source": [
    "## (b)"
   ]
  },
  {
   "cell_type": "markdown",
   "metadata": {},
   "source": [
    "この問題におけるCVaRの計算は、二つの値を取り、片方の確率が$\\frac{2}{3}$でもう片方が$\\frac{1}{3}$である確率分布に特徴付けられる。"
   ]
  }
 ],
 "metadata": {
  "kernelspec": {
   "display_name": "Python 3",
   "language": "python",
   "name": "python3"
  },
  "language_info": {
   "codemirror_mode": {
    "name": "ipython",
    "version": 3
   },
   "file_extension": ".py",
   "mimetype": "text/x-python",
   "name": "python",
   "nbconvert_exporter": "python",
   "pygments_lexer": "ipython3",
   "version": "3.7.0"
  }
 },
 "nbformat": 4,
 "nbformat_minor": 2
}
