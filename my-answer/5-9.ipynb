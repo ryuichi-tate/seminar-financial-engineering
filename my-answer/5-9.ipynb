{
 "metadata": {
  "language_info": {
   "codemirror_mode": {
    "name": "ipython",
    "version": 3
   },
   "file_extension": ".py",
   "mimetype": "text/x-python",
   "name": "python",
   "nbconvert_exporter": "python",
   "pygments_lexer": "ipython3",
   "version": "3.7.0-final"
  },
  "orig_nbformat": 2,
  "kernelspec": {
   "name": "python_defaultSpec_1598093157438",
   "display_name": "Python 3.7.0 64-bit ('anaconda3-5.3.1': pyenv)"
  }
 },
 "nbformat": 4,
 "nbformat_minor": 2,
 "cells": [
  {
   "cell_type": "markdown",
   "metadata": {},
   "source": [
    "# Little Bear Oil"
   ]
  },
  {
   "cell_type": "markdown",
   "metadata": {},
   "source": [
    "## (a)\n",
    "$(1-0.2)\\times(1-0.2)=1\\times(1-0.36)$なので、<br>\n",
    "上：(c)<br>\n",
    "中：(b)<br>\n",
    "下：(a)<br>\n",
    "と対応させると綺麗な3項格子のグラフになる。"
   ]
  },
  {
   "cell_type": "markdown",
   "metadata": {},
   "source": [
    "## (b)\n",
    "第$i$年目初めにおける残りの埋蔵量のとりうる値は、問5-5より、$(2i-1)$通りである。($1\\leq i \\leq n$)<br>\n",
    "$V_{i,j}$を第$i$年目初めにおいて$j$通り目の残存埋蔵量の時に、以降得られる利益の現在価値の最大値とする。($1\\leq j \\leq2n-1$)<br>\n",
    "また$w_{i,j}$を第$i$年目初めにおいて$j$通り目の残存埋蔵量とする。\n",
    "すると、\n",
    "\\begin{align}\n",
    "V_{n,j} &= 0 \\ \\ (j=1,2,\\cdots,2n-1)\\\\\n",
    "V_{i,j} &= \\max\\left(\\frac{1}{1+r}V_{i+1,j}+0.36w_{i,j}\\times10-120000,\\ \\frac{1}{1+r}V_{i+1,j+1}+0.20w_{i,j}\\times10-50000,\\ \\frac{1}{1+r}V_{i+1,j+2}\\right)\\\\\n",
    "w_{1,1} &= 100000\\\\\n",
    "w_{i,j} &= \\max\\left(0.64w_{i-1,j},\\ 0.8w_{i-1,j-1},\\ 1.0w_{i-1,j-2}\\right)\n",
    "\\end{align}"
   ]
  },
  {
   "cell_type": "code",
   "execution_count": 88,
   "metadata": {},
   "outputs": [],
   "source": [
    "import numpy as np"
   ]
  },
  {
   "cell_type": "code",
   "execution_count": 89,
   "metadata": {},
   "outputs": [],
   "source": [
    "n = 4\n",
    "r = 0.1"
   ]
  },
  {
   "cell_type": "code",
   "execution_count": 90,
   "metadata": {},
   "outputs": [
    {
     "output_type": "execute_result",
     "data": {
      "text/plain": "array([[100000. ,  64000. ,  40960. ,  26214.4],\n       [     0. ,  80000. ,  51200. ,  32768. ],\n       [     0. , 100000. ,  64000. ,  40960. ],\n       [     0. ,      0. ,  80000. ,  51200. ],\n       [     0. ,      0. , 100000. ,  64000. ],\n       [     0. ,      0. ,      0. ,  80000. ],\n       [     0. ,      0. ,      0. , 100000. ]])"
     },
     "metadata": {},
     "execution_count": 90
    }
   ],
   "source": [
    "w = np.zeros((n,2*n-1))\n",
    "w[0][0] = 100000\n",
    "for i in range(1,n):\n",
    "    for j in range(2*i+1):\n",
    "        w[i][j] = max(w[i-1][j]*0.64, w[i-1][j-1]*0.8, w[i-1][j-2]*1)\n",
    "w.T"
   ]
  },
  {
   "cell_type": "code",
   "execution_count": 101,
   "metadata": {
    "tags": []
   },
   "outputs": [],
   "source": [
    "V = np.zeros((n,2*n-1))\n",
    "C = np.empty_like(V)*np.nan\n",
    "for i in np.arange(n-2, -1, -1):\n",
    "    for j in range(2*i+1):\n",
    "        V[i][j]=1\n",
    "        choice = [V[i+1][j]/(1+r)+0.36*w[i][j]*10-120000, V[i+1][j+1]/(1+r)+0.20*w[i][j]*10-50000, V[i+1][j+2]/(1+r)]\n",
    "        V[i][j] = max(choice)\n",
    "        C[i][j] = np.argmax(choice)"
   ]
  },
  {
   "cell_type": "code",
   "execution_count": 103,
   "metadata": {},
   "outputs": [
    {
     "output_type": "execute_result",
     "data": {
      "text/plain": "array([[ 0.,  0.,  1., nan],\n       [nan,  0.,  0., nan],\n       [nan,  0.,  0., nan],\n       [nan, nan,  0., nan],\n       [nan, nan,  0., nan],\n       [nan, nan, nan, nan],\n       [nan, nan, nan, nan]])"
     },
     "metadata": {},
     "execution_count": 103
    }
   ],
   "source": [
    "# 各状態における最適な選択肢\n",
    "C.T"
   ]
  },
  {
   "cell_type": "code",
   "execution_count": 104,
   "metadata": {},
   "outputs": [
    {
     "output_type": "execute_result",
     "data": {
      "text/plain": "366743.80165289255"
     },
     "metadata": {},
     "execution_count": 104
    }
   ],
   "source": [
    "# 最適戦略をとった時の最初の価値\n",
    "V.T[0][0]"
   ]
  },
  {
   "cell_type": "markdown",
   "metadata": {},
   "source": [
    "よって最適戦略は、(c)→(c)→(b)で、その時の油井の現在価値は366743.80ドルである。"
   ]
  }
 ]
}