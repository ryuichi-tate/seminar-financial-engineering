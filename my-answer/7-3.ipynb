{
 "metadata": {
  "language_info": {
   "codemirror_mode": {
    "name": "ipython",
    "version": 3
   },
   "file_extension": ".py",
   "mimetype": "text/x-python",
   "name": "python",
   "nbconvert_exporter": "python",
   "pygments_lexer": "ipython3",
   "version": "3.7.0-final"
  },
  "orig_nbformat": 2,
  "kernelspec": {
   "name": "Python 3.7.0 64-bit ('anaconda3-5.3.1': pyenv)",
   "display_name": "Python 3.7.0 64-bit ('anaconda3-5.3.1': pyenv)",
   "metadata": {
    "interpreter": {
     "hash": "69a136449174336f9e0368e6e2a94f5fcdb528bd494f723889be5ddb2edd6305"
    }
   }
  }
 },
 "nbformat": 4,
 "nbformat_minor": 2,
 "cells": [
  {
   "source": [
    "# 収益の限界"
   ],
   "cell_type": "markdown",
   "metadata": {}
  },
  {
   "source": [
    "## (a)"
   ],
   "cell_type": "markdown",
   "metadata": {}
  },
  {
   "source": [
    "購入可能な資産が3つのみの世界を考える。<br>\n",
    "そしてこの3つから構成されるポートフォリオのうち、与えられた重み${\\bf w}$と${\\bf v}$のポートフォリオが、どちらも最小分散集合（効率的フロンティア P.202）上の商品の一つである。(P.209参照)"
   ],
   "cell_type": "markdown",
   "metadata": {}
  },
  {
   "source": [
    "2-ファンド定理より、この二つのポートフォリオの組み合わせにによって最小分散集合を構成できる。<br>\n",
    "そしてマーケットポートフォリオは最小分散集合上に存在する。<br>\n",
    "したがってマーケットポートフォリオはこの二つのポートフォリオを組み合わせたポートフォリオのどれかということになる。"
   ],
   "cell_type": "markdown",
   "metadata": {}
  },
  {
   "source": [
    "マーケットポートフォリオは市場を構成する資本全てを、その全体に比例する割合で含むものであるので、配分の重みは非負の値となる。"
   ],
   "cell_type": "markdown",
   "metadata": {}
  },
  {
   "source": [
    "重み${\\bf w}$のポートフォリオの期待収益率は、\n",
    "\\begin{align}\n",
    "0.1*0.6 + 0.2*0.2 + 0.1*0.2 = 0.12\n",
    "\\end{align}\n",
    "より、$12\\%$。<br>\n",
    "重み${\\bf v}$のポートフォリオの期待収益率は、\n",
    "\\begin{align}\n",
    "0.1*0.8 + 0.2*(-0.2) + 0.1*0.4 = 0.08\n",
    "\\end{align}\n",
    "より、$8\\%$。"
   ],
   "cell_type": "markdown",
   "metadata": {}
  },
  {
   "source": [
    "すなわち\n",
    "\\begin{align}\n",
    "\\max_{\\alpha}\\ (\\min_{\\alpha})\\  0.12\\alpha + 0.08(1-\\alpha)\\\\\n",
    "s.t.\\ 0.6\\alpha+0.8(1-\\alpha)\\geq 0\\\\\n",
    "0.2\\alpha-0.2(1-\\alpha)\\geq 0\\\\\n",
    "0.2\\alpha+0.4(1-\\alpha)\\geq 0\\\\\n",
    "\\end{align}"
   ],
   "cell_type": "markdown",
   "metadata": {}
  },
  {
   "cell_type": "code",
   "execution_count": 14,
   "metadata": {},
   "outputs": [
    {
     "output_type": "execute_result",
     "data": {
      "text/plain": [
       "0.5"
      ]
     },
     "metadata": {},
     "execution_count": 14
    }
   ],
   "source": [
    "import pulp\n",
    "problem = pulp.LpProblem(name=\"min\", sense=pulp.LpMinimize)\n",
    "alpha = pulp.LpVariable(name = \"alpha\")\n",
    "problem += 0.12*alpha + 0.08*(1-alpha)\n",
    "problem += 0.6*alpha + 0.8*(1-alpha) >= 0\n",
    "problem += 0.2*alpha - 0.2*(1-alpha) >= 0\n",
    "problem += 0.2*alpha + 0.4*(1-alpha) >= 0\n",
    "problem.solve()\n",
    "alpha.value()"
   ]
  },
  {
   "cell_type": "code",
   "execution_count": 15,
   "metadata": {},
   "outputs": [
    {
     "output_type": "execute_result",
     "data": {
      "text/plain": [
       "2.0"
      ]
     },
     "metadata": {},
     "execution_count": 15
    }
   ],
   "source": [
    "problem = pulp.LpProblem(name=\"max\", sense=pulp.LpMaximize)\n",
    "alpha = pulp.LpVariable(name = \"alpha\")\n",
    "problem += 0.12*alpha + 0.08*(1-alpha)\n",
    "problem += 0.6*alpha + 0.8*(1-alpha) >= 0\n",
    "problem += 0.2*alpha - 0.2*(1-alpha) >= 0\n",
    "problem += 0.2*alpha + 0.4*(1-alpha) >= 0\n",
    "problem.solve()\n",
    "alpha.value()"
   ]
  },
  {
   "source": [
    "よって、最大のマーケットポートフォリオを与える$\\alpha$は$2$なので、その時のポートフォリオの収益は\n",
    "\\begin{align}\n",
    "2*0.12 + (-1)*0.08 = 0.16\n",
    "\\end{align}\n",
    "また、最小のマーケットポートフォリオを与える$\\alpha$は$0.5$なので、その時のポートフォリオの収益は\n",
    "\\begin{align}\n",
    "0.5*0.12 + 0.5*0.08 = 0.10\n",
    "\\end{align}\n",
    "よって\n",
    "\\begin{align}\n",
    "0.10\\leq \\bar r_M \\leq 0.16\n",
    "\\end{align}"
   ],
   "cell_type": "markdown",
   "metadata": {}
  },
  {
   "source": [
    "## (b)"
   ],
   "cell_type": "markdown",
   "metadata": {}
  },
  {
   "source": [
    "市場ポートフォリオは効率的（つまり効率的フロンティア上にある）なので、最小分散ポートフォリオの期待収益率よりは大きくなることが必要である。したがって、\n",
    "\\begin{align}\n",
    "0.12 \\leq \\bar r_M \\leq 0.16\n",
    "\\end{align}"
   ],
   "cell_type": "markdown",
   "metadata": {}
  }
 ]
}