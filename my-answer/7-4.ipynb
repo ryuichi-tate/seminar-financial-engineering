{
 "metadata": {
  "language_info": {
   "codemirror_mode": {
    "name": "ipython",
    "version": 3
   },
   "file_extension": ".py",
   "mimetype": "text/x-python",
   "name": "python",
   "nbconvert_exporter": "python",
   "pygments_lexer": "ipython3",
   "version": 3
  },
  "orig_nbformat": 2
 },
 "nbformat": 4,
 "nbformat_minor": 2,
 "cells": [
  {
   "source": [
    "# CAPM公式の手軽な導き方"
   ],
   "cell_type": "markdown",
   "metadata": {}
  },
  {
   "source": [
    "\\begin{align}\n",
    "\\sum_{i=1}^n\\sigma_{ki}\\lambda w_i = \\bar r_k - r_f\\ \\ \\ (k=1,2,\\cdots,n)\\tag{6.9}\n",
    "\\end{align}\n",
    "からCAPMを導出する。\n",
    "\n",
    "(6.9)式の意味について。<br>\n",
    "購入可能なリスク資産$n$個の期待収益率とお互いの共分散が$\\bar r_i$と$\\sigma_{ij}$($k=1,2,\\cdots n$)で与えられている。<br>\n",
    "この方程式の解**$w_i$($i=1,2,\\cdots,n$)はマーケットポートフォリオを表す$n$資産の重みとなる**。"
   ],
   "cell_type": "markdown",
   "metadata": {}
  },
  {
   "source": [
    "\\begin{align}\n",
    "\\sum_{i=1}^n\\sigma_{ki}\\lambda w_i &= \\lambda\\sum_{i=1}^nw_iCov[r_k,r_i]\\\\\n",
    "\\\\\n",
    "&= \\lambda Cov\\left[r_k,\\ \\sum_{i=1}^nw_ir_i\\right]\\\\\n",
    "\\\\\n",
    "&= \\lambda Cov\\left[r_k,r_M\\right]\\\\\n",
    "\\end{align}\n",
    "\n",
    "\\begin{align}\n",
    "\\therefore \\lambda Cov\\left[r_k,r_M\\right] = \\bar r_k - r_f \\tag{*}\n",
    "\\end{align}"
   ],
   "cell_type": "markdown",
   "metadata": {}
  },
  {
   "source": [
    "(6.9)式は$k$番目の資産の代わりにマーケットポートフォリオ$r_M$を用いても成り立つ。"
   ],
   "cell_type": "markdown",
   "metadata": {}
  },
  {
   "source": [
    "\\begin{align}\n",
    "\\sum_{i=1}^n\\sigma_{Mi}\\lambda w_i = \\bar r_M - r_f\\ \\ \\ (k=1,2,\\cdots,n)\n",
    "\\end{align}\n",
    "\n",
    "\\begin{align}\n",
    "(左辺) &= \\sum_{i=1}^n\\sigma_{Mi}\\lambda w_i \\\\\n",
    "\\\\\n",
    "&= \\lambda\\sum_{i=1}^n w_i Cov[r_M,r_i]\\\\\n",
    "\\\\\n",
    "&= \\lambda Cov\\left[r_M,\\ \\sum_{i=1}^nw_ir_i\\right]\\\\\n",
    "\\\\\n",
    "&= \\lambda Cov\\left[r_M,\\ r_M\\right]\\\\\n",
    "\\\\\n",
    "&= \\lambda \\sigma_M^2\n",
    "\\end{align}\n",
    "\n",
    "\\begin{align}\n",
    "\\therefore\\ \\lambda \\sigma_M^2 = \\bar r_M - r_f \\tag{**}\n",
    "\\end{align}"
   ],
   "cell_type": "markdown",
   "metadata": {}
  },
  {
   "source": [
    "($**$)と(*)から$\\lambda$を消去すると\n",
    "\\begin{align}\n",
    "\\bar r_k - r_f = \\frac{\\sigma_{Mi}}{\\sigma_M^2}(\\bar r_M - r_f)\n",
    "\\end{align}"
   ],
   "cell_type": "markdown",
   "metadata": {}
  }
 ]
}