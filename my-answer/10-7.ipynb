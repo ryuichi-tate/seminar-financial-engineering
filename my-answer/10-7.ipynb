{
 "cells": [
  {
   "cell_type": "markdown",
   "metadata": {},
   "source": [
    "# 標準的な尺度"
   ]
  },
  {
   "cell_type": "markdown",
   "metadata": {},
   "source": [
    "平行移動不変性\n",
    "\\begin{align}\n",
    "\\rho(X+C) &= \\mathbb{E}[-(X+C)] + a\\sigma(X+C)\\\\\n",
    "&=  \\mathbb{E}[-X] - C + a\\sqrt{Var[X+C]}\\\\\n",
    "&= \\mathbb{E}[-X] - C + a\\sqrt{Var[X]}\\\\\n",
    "&= \\mathbb{E}[-X] - C + a\\sigma(X)\\\\\n",
    "&= \\rho(X) -C\n",
    "\\end{align}\n",
    "成り立つ。"
   ]
  },
  {
   "cell_type": "markdown",
   "metadata": {},
   "source": [
    "劣加法性\n",
    "\\begin{align}\n",
    "\\rho(X_1)+\\rho(X_2)-\\rho(X_1+X_2) &=  \\mathbb{E}[-X_1]+ a\\sigma(X_1) + \\mathbb{E}[-X_2] + a\\sigma(X_2)-\\mathbb{E}[-(X_1+X_2)] - a\\sigma(X_1+X_2)\\\\\n",
    "&= a(\\sigma(X_1) + \\sigma(X_2) - \\sigma(X_1+X_2))\n",
    "\\end{align}\n",
    "\n",
    "\\begin{align}\n",
    "(\\sigma(X_1) + \\sigma(X_2))^2 - ( \\sigma(X_1+X_2))^2 &= \\mbox{Var}[X_1] + 2\\sigma(X_1)\\sigma(X_2)+\\mbox{Var}[X_2] - \\mbox{Var}[X_1+X_2]\\\\\n",
    "&= \\mbox{Var}[X_1] + 2\\sigma(X_1)\\sigma(X_2)+\\mbox{Var}[X_2] - (\\mbox{Var}[X_1]+2\\mbox{Cov}[X_1,X_2]+\\mbox{Var}[X_2])\\\\\n",
    "&= 2(\\sigma(X_1)\\sigma(X_2) - \\mbox{Cov}[X_1,X_2])\\\\\n",
    "&= 2(1-\\rho)\\sigma(X_1)\\sigma(X_2)\\\\\n",
    "&\\geq 0\n",
    "\\\\\n",
    "\\sigma(X_1) + \\sigma(X_2) &\\geq  \\sigma(X_1+X_2)\n",
    "\\end{align}\n",
    "よって\n",
    "\\begin{align}\n",
    "\\rho(X_1)+\\rho(X_2)\\geq\\rho(X_1+X_2)\n",
    "\\end{align}\n",
    "劣加法性あり？"
   ]
  },
  {
   "cell_type": "markdown",
   "metadata": {},
   "source": [
    "正の同次性\n",
    "\\begin{align}\n",
    "\\rho(\\lambda X) &= \\mathbb{E}[-\\lambda X] + a\\sigma(\\lambda X)\\\\\n",
    "&= \\lambda\\mathbb{E}[-X] + a\\lambda\\sigma(X)\\\\\n",
    "&= \\lambda\\rho(X)\n",
    "\\end{align}\n",
    "成り立つ"
   ]
  },
  {
   "cell_type": "markdown",
   "metadata": {},
   "source": [
    "単調性\n",
    "\n",
    "標準偏差は単調性がないので、多分成り立たない"
   ]
  }
 ],
 "metadata": {
  "kernelspec": {
   "display_name": "Python 3",
   "language": "python",
   "name": "python3"
  },
  "language_info": {
   "codemirror_mode": {
    "name": "ipython",
    "version": 3
   },
   "file_extension": ".py",
   "mimetype": "text/x-python",
   "name": "python",
   "nbconvert_exporter": "python",
   "pygments_lexer": "ipython3",
   "version": "3.7.0"
  }
 },
 "nbformat": 4,
 "nbformat_minor": 2
}
