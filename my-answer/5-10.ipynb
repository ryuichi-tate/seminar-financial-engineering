{
 "metadata": {
  "language_info": {
   "codemirror_mode": {
    "name": "ipython",
    "version": 3
   },
   "file_extension": ".py",
   "mimetype": "text/x-python",
   "name": "python",
   "nbconvert_exporter": "python",
   "pygments_lexer": "ipython3",
   "version": 3
  },
  "orig_nbformat": 2
 },
 "nbformat": 4,
 "nbformat_minor": 2,
 "cells": [
  {
   "cell_type": "markdown",
   "metadata": {},
   "source": [
    "# 多期間調和定理"
   ]
  },
  {
   "cell_type": "markdown",
   "metadata": {},
   "source": [
    "初期状態における企業の価値$V_0$は実現可能な配当のキャッシュフロー流列$(x_0,x_1,\\cdots,x_n)$の現在価値の中で最も高い値で評価される。\n",
    "\\begin{align}\n",
    "V_0 = \\max\\left[x_0+\\frac{x_1}{1+s_1}+\\frac{x_2}{(1+s_2)^2}+\\frac{x_3}{(1+s_3)^3}+\\cdots+\\frac{x_n}{(1+s_n)^n}\\right] \n",
    "\\end{align}\n",
    "ここで$s_i'$は一年後のスポット・レートなので、\n",
    "\\begin{align}\n",
    "(1+s_1)(1+s_i')^i = (1+s_{i+1})^{i+1}\n",
    "\\end{align}\n",
    "が成り立つ。\n",
    "よって\n",
    "\\begin{align}\n",
    "V_0 &= \\max\\left[x_0+\\frac{x_1}{1+s_1}+\\frac{x_2}{(1+s_2)^2}+\\frac{x_3}{(1+s_3)^3}+\\cdots+\\frac{x_n}{(1+s_n)^n}\\right] \\\\\n",
    "&= \\max\\left[x_0+\\frac{1}{1+s_1}\\left\\{x_1+\\frac{x_2}{1+s_1'}+\\frac{x_3}{(1+s_2')^2}+\\cdots+\\frac{x_n}{(1+s_{n-1}')^{n-1}}\\right\\}\\right] \\\\\n",
    "&= \\max_{x_0}\\left[x_0+\\frac{1}{1+s_1}V_1(x_0)\\right]\n",
    "\\end{align}"
   ]
  },
  {
   "cell_type": "markdown",
   "metadata": {},
   "source": [
    "問題文より$x_0^{\\ast}$は企業が投資家にとって最適計画を遂行した場合の配当のキャッシュ・フローの初期値なので、\n",
    "\\begin{align}\n",
    "&V_0 = x_0^{\\ast}+\\frac{1}{1+s_1}V_1(x_0^{\\ast})\\\\\n",
    "\\\\\n",
    "&\\therefore\\ \\frac{V_1(x_0^{\\ast})}{V_0-x_0^{\\ast}} = 1+s_1\n",
    "\\end{align}"
   ]
  },
  {
   "cell_type": "markdown",
   "metadata": {},
   "source": [
    "一方、$R$について、$\\bar x_0$は$R$を最大にする$x_0$なので、\n",
    "\\begin{align}\n",
    "\\frac{V_1(\\bar x_0)}{V_0-\\bar x_0} \\geq \\frac{V_1(x_0^{\\ast})}{V_0-x_0^{\\ast}}\n",
    "= 1+s_1 \\\\\n",
    "\\\\\n",
    "\\therefore\\ V_0 \\leq \\bar x_0 + \\frac{1}{1+s_1}V_0(\\bar x_0)\n",
    "\\end{align}"
   ]
  },
  {
   "cell_type": "markdown",
   "metadata": {},
   "source": [
    "$V_0$は$x_0 + \\frac{1}{1+s_1}V_0(x_0)$を最大にする$x_0$を選んだ場合の最大値であったはずなので、これは等式のみ成り立つはずである。\n",
    "\\begin{align}\n",
    "V_0 &= \\bar x_0 + \\frac{1}{1+s_1}V_0(\\bar x_0) \\\\\n",
    "\\\\\n",
    "x_0^{\\ast} + \\frac{1}{1+s_1}V_0(\\bar x_0^{\\ast}) &= \\bar x_0 + \\frac{1}{1+s_1}V_0(\\bar x_0) \\\\\n",
    "\\\\\n",
    "\\therefore\\ x_0^{\\ast} &= \\bar x_0\n",
    "\\end{align}"
   ]
  },
  {
   "cell_type": "markdown",
   "metadata": {},
   "source": [
    "よって$x_0=\\bar x_0$の時の$R$の値(Rの最大値)と$x_0=x_0^{\\ast}$の時の$R$の値は一致するので、\n",
    "\\begin{align}\n",
    "(Rの最大値) &= \\frac{V_1(\\bar x_0)}{V_0-\\bar x_0} \\\\\n",
    "\\\\\n",
    "&= \\frac{V_1(x_0^{\\ast})}{V_0-x_0^{\\ast}} \\\\ \n",
    "\\\\\n",
    "&= 1+s_1\n",
    "\\end{align}"
   ]
  },
  {
   "cell_type": "markdown",
   "metadata": {},
   "source": [
    "（投資家は最初に$V_0$を支払うとその企業の株を購入できるが、同時に$x_0$の配当が手に入るので、実質$V_0-x_0$の初期費用と考えられる。）"
   ]
  }
 ]
}