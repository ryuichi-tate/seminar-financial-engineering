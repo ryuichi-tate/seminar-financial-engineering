{
 "metadata": {
  "language_info": {
   "codemirror_mode": {
    "name": "ipython",
    "version": 3
   },
   "file_extension": ".py",
   "mimetype": "text/x-python",
   "name": "python",
   "nbconvert_exporter": "python",
   "pygments_lexer": "ipython3",
   "version": "3.7.0-final"
  },
  "orig_nbformat": 2,
  "kernelspec": {
   "name": "python_defaultSpec_1597991909904",
   "display_name": "Python 3.7.0 64-bit ('base': conda)"
  }
 },
 "nbformat": 4,
 "nbformat_minor": 2,
 "cells": [
  {
   "cell_type": "markdown",
   "metadata": {},
   "source": [
    "# 道路"
   ]
  },
  {
   "cell_type": "code",
   "execution_count": 3,
   "metadata": {},
   "outputs": [],
   "source": [
    "import pandas as pd"
   ]
  },
  {
   "cell_type": "code",
   "execution_count": 4,
   "metadata": {},
   "outputs": [
    {
     "output_type": "execute_result",
     "data": {
      "text/plain": "          支出  現在価値\nプロジェクト            \n1       2000  4000\n2       3000  5000\n3       1500  3000\n4       2200  4300\n5        500  1000\n6       1500  1500\n7       2500  2500\n8        100   300\n9        600  1000\n10      1000  2000",
      "text/html": "<div>\n<style scoped>\n    .dataframe tbody tr th:only-of-type {\n        vertical-align: middle;\n    }\n\n    .dataframe tbody tr th {\n        vertical-align: top;\n    }\n\n    .dataframe thead th {\n        text-align: right;\n    }\n</style>\n<table border=\"1\" class=\"dataframe\">\n  <thead>\n    <tr style=\"text-align: right;\">\n      <th></th>\n      <th>支出</th>\n      <th>現在価値</th>\n    </tr>\n    <tr>\n      <th>プロジェクト</th>\n      <th></th>\n      <th></th>\n    </tr>\n  </thead>\n  <tbody>\n    <tr>\n      <th>1</th>\n      <td>2000</td>\n      <td>4000</td>\n    </tr>\n    <tr>\n      <th>2</th>\n      <td>3000</td>\n      <td>5000</td>\n    </tr>\n    <tr>\n      <th>3</th>\n      <td>1500</td>\n      <td>3000</td>\n    </tr>\n    <tr>\n      <th>4</th>\n      <td>2200</td>\n      <td>4300</td>\n    </tr>\n    <tr>\n      <th>5</th>\n      <td>500</td>\n      <td>1000</td>\n    </tr>\n    <tr>\n      <th>6</th>\n      <td>1500</td>\n      <td>1500</td>\n    </tr>\n    <tr>\n      <th>7</th>\n      <td>2500</td>\n      <td>2500</td>\n    </tr>\n    <tr>\n      <th>8</th>\n      <td>100</td>\n      <td>300</td>\n    </tr>\n    <tr>\n      <th>9</th>\n      <td>600</td>\n      <td>1000</td>\n    </tr>\n    <tr>\n      <th>10</th>\n      <td>1000</td>\n      <td>2000</td>\n    </tr>\n  </tbody>\n</table>\n</div>"
     },
     "metadata": {},
     "execution_count": 4
    }
   ],
   "source": [
    "data = pd.DataFrame(data=[\n",
    "    [1, 2000, 4000],\n",
    "    [2, 3000, 5000],\n",
    "    [3, 1500, 3000],\n",
    "    [4, 2200, 4300],\n",
    "    [5,  500, 1000],\n",
    "    [6, 1500, 1500],\n",
    "    [7, 2500, 2500],\n",
    "    [8,  100,  300],\n",
    "    [9,  600, 1000],\n",
    "    [10,1000, 2000],\n",
    "    ],\n",
    "    columns=['プロジェクト', '支出', '現在価値']).set_index('プロジェクト')\n",
    "data"
   ]
  },
  {
   "cell_type": "markdown",
   "metadata": {},
   "source": [
    "## 定式化\n",
    "$i$番目のプロジェクトの採択の有無をバイナリ変数$x_i$（採択：1 不採択：0）、現在価値を$b_i$、支出を$c_i$とする。<br>\n",
    "最適化の定式化は、\n",
    "\\begin{align}\n",
    "\\max_{\\bf x}&\\sum_{i=1}^mb_ix_i\\\\\n",
    "s.t. &\\sum_{i=1}^{10}c_ix_i\\leq 5000\\\\\n",
    "&\\sum_{i=1}^4x_i\\leq 1\\\\\n",
    "&\\sum_{i=5}^7x_i\\leq 1\\\\\n",
    "&\\sum_{i=8}^{10}x_i\\leq 1\n",
    "\\end{align}\n",
    "さらに追加の制約は\n",
    "\\begin{align}\n",
    "x_2=x_6\\\\\n",
    "x_4=x_7\n",
    "\\end{align}\n",
    "となる。"
   ]
  },
  {
   "cell_type": "code",
   "execution_count": 32,
   "metadata": {},
   "outputs": [],
   "source": [
    "from pulp import *\n",
    "m = LpProblem(sense=LpMaximize) # 最大化問題として定式化\n",
    "x = [LpVariable('x{0}'.format(i+1), cat=LpBinary) for i in range(len(data))] # 0-1の変数xの設定\n",
    "m += (data['現在価値']*x).sum() # 目的関数\n",
    "m += (data['支出']*x).sum() <= 5000 # 制約条件\n",
    "m += sum(x[0:4]) <= 1 # 制約条件\n",
    "m += sum(x[4:7]) <= 1 # 制約条件\n",
    "m += sum(x[7:11]) <= 1 # 制約条件\n",
    "m += x[1] == x[5]\n",
    "m += x[3] == x[6]"
   ]
  },
  {
   "cell_type": "code",
   "execution_count": 33,
   "metadata": {},
   "outputs": [
    {
     "output_type": "execute_result",
     "data": {
      "text/plain": "1"
     },
     "metadata": {},
     "execution_count": 33
    }
   ],
   "source": [
    "m.solve() # ソルバーの実行"
   ]
  },
  {
   "cell_type": "code",
   "execution_count": 34,
   "metadata": {},
   "outputs": [
    {
     "output_type": "execute_result",
     "data": {
      "text/plain": "          支出  現在価値\nプロジェクト            \n4       2200  4300\n7       2500  2500\n8        100   300\n合計      4800  7100",
      "text/html": "<div>\n<style scoped>\n    .dataframe tbody tr th:only-of-type {\n        vertical-align: middle;\n    }\n\n    .dataframe tbody tr th {\n        vertical-align: top;\n    }\n\n    .dataframe thead th {\n        text-align: right;\n    }\n</style>\n<table border=\"1\" class=\"dataframe\">\n  <thead>\n    <tr style=\"text-align: right;\">\n      <th></th>\n      <th>支出</th>\n      <th>現在価値</th>\n    </tr>\n    <tr>\n      <th>プロジェクト</th>\n      <th></th>\n      <th></th>\n    </tr>\n  </thead>\n  <tbody>\n    <tr>\n      <th>4</th>\n      <td>2200</td>\n      <td>4300</td>\n    </tr>\n    <tr>\n      <th>7</th>\n      <td>2500</td>\n      <td>2500</td>\n    </tr>\n    <tr>\n      <th>8</th>\n      <td>100</td>\n      <td>300</td>\n    </tr>\n    <tr>\n      <th>合計</th>\n      <td>4800</td>\n      <td>7100</td>\n    </tr>\n  </tbody>\n</table>\n</div>"
     },
     "metadata": {},
     "execution_count": 34
    }
   ],
   "source": [
    "ans = [bool(value(x[i])) for i in range(len(data))]\n",
    "project = data[ans]\n",
    "project.loc['合計'] = project.sum(axis=0)\n",
    "project"
   ]
  },
  {
   "cell_type": "markdown",
   "metadata": {},
   "source": [
    "よって新しい追加条件の元ではプロジェクト1, 2, 3 が採択される。"
   ]
  }
 ]
}