{
 "metadata": {
  "language_info": {
   "codemirror_mode": {
    "name": "ipython",
    "version": 3
   },
   "file_extension": ".py",
   "mimetype": "text/x-python",
   "name": "python",
   "nbconvert_exporter": "python",
   "pygments_lexer": "ipython3",
   "version": "3.7.0-final"
  },
  "orig_nbformat": 2,
  "kernelspec": {
   "name": "python3",
   "display_name": "Python 3"
  }
 },
 "nbformat": 4,
 "nbformat_minor": 2,
 "cells": [
  {
   "source": [
    "# コイン投げ"
   ],
   "cell_type": "markdown",
   "metadata": {}
  },
  {
   "source": [
    "cそれぞれの資産の期待収益率とその分散を求める。\n",
    "\\begin{align}\n",
    "\\bar r_A &= \\frac{1}{2}\\times\\frac{4-1}{1} + \\frac{1}{2}\\times\\frac{0-1}{1} = 1\\\\\n",
    "\\\\\n",
    "\\bar r_B &= \\frac{1}{2}\\times\\frac{3-1}{1} + \\frac{1}{2}\\times\\frac{1-1}{1} = 1\\\\\n",
    "\\\\\n",
    "\\sigma_A^2 &= \\frac{1}{2}\\times\\left(\\frac{4-1}{1}\\right)^2 + \\frac{1}{2}\\times\\left(\\frac{0-1}{1}\\right)^2 - 1^2 = 4\\\\\n",
    "\\\\\n",
    "\\sigma_B^2 &= \\frac{1}{2}\\times\\left(\\frac{3-1}{1}\\right)^2 + \\frac{1}{2}\\times\\left(\\frac{1-1}{1}\\right)^2 - 1^2 = 1\\\\\n",
    "\\\\\n",
    "\\sigma_{AB} &= \\frac{1}{2}\\times\\left(\\frac{4-1}{1}\\times\\frac{3-1}{1}\\right) + \\frac{1}{2}\\times\\left(\\frac{0-1}{1}\\times\\frac{1-1}{1}\\right) - 1\\times1 = 2\n",
    "\\end{align}"
   ],
   "cell_type": "markdown",
   "metadata": {}
  },
  {
   "source": [
    "したがって、\n",
    "\\begin{align}\n",
    "\\bar{\\bf r} = \\left[\n",
    "\\begin{array}{c}\n",
    "  1 \\\\\n",
    "  1\n",
    "\\end{array}\n",
    "\\right]\n",
    "V = \\left[\n",
    "\\begin{array}{cc}\n",
    "  4 & 2 \\\\\n",
    "  2 & 1\n",
    "\\end{array}\n",
    "\\right]\n",
    "\\end{align}"
   ],
   "cell_type": "markdown",
   "metadata": {}
  },
  {
   "cell_type": "code",
   "execution_count": 21,
   "metadata": {},
   "outputs": [
    {
     "output_type": "execute_result",
     "data": {
      "text/plain": "0.0"
     },
     "metadata": {},
     "execution_count": 21
    }
   ],
   "source": [
    "import numpy as np\n",
    "from numpy.linalg import det\n",
    "V = np.matrix([[4.0,2.0],[2.0,1.0]])\n",
    "det(V)"
   ]
  },
  {
   "source": [
    "え、、計算できnai"
   ],
   "cell_type": "markdown",
   "metadata": {}
  },
  {
   "source": [
    "分散が0になるようにかな？by佐藤くん"
   ],
   "cell_type": "markdown",
   "metadata": {}
  },
  {
   "source": [
    "分散を計算する。\n",
    "\\begin{align}\n",
    "{\\bf w}^TV{\\bf w} &= 4w_A^2 + 4w_Aw_B + w_B^2 \\\\\n",
    "&= (2w_A + w_B)^2\n",
    "\\end{align}\n",
    "分散を$0$にするなら、\n",
    "\\begin{align}\n",
    "2w_A + w_B=0\n",
    "\\end{align}\n",
    "これと、$w_A+w_A=1$を合わせると、\n",
    "\\begin{align}\n",
    "w_A &= -1\\\\\n",
    "w_B &= 2\n",
    "\\end{align}"
   ],
   "cell_type": "markdown",
   "metadata": {}
  }
 ]
}