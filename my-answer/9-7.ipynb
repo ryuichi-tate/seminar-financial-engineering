{
 "cells": [
  {
   "cell_type": "markdown",
   "metadata": {},
   "source": [
    "# 非負制約"
   ]
  },
  {
   "cell_type": "markdown",
   "metadata": {},
   "source": [
    "最適化問題は、\n",
    "\\begin{align}\n",
    "\\max_{\\bf w}&\\ {\\bf w}^T\\bar{\\bf r}\\\\\n",
    "制約：{\\bf w}^TV{\\bf w}&\\leq0.038\\\\\n",
    "{\\bf w}^T{\\bf 1}&=1\n",
    "\\end{align}"
   ]
  },
  {
   "cell_type": "markdown",
   "metadata": {},
   "source": [
    "## (a)"
   ]
  },
  {
   "cell_type": "markdown",
   "metadata": {},
   "source": [
    "とりあえず解く<br>\n",
    "(参考：https://qiita.com/imaizume/items/44896c8e1dd0bcbacdd5)"
   ]
  },
  {
   "cell_type": "code",
   "execution_count": 132,
   "metadata": {},
   "outputs": [],
   "source": [
    "def objective(w):\n",
    "    w=np.array(w).reshape((3,1))\n",
    "    return -(w.T@r).item()"
   ]
  },
  {
   "cell_type": "code",
   "execution_count": 153,
   "metadata": {},
   "outputs": [],
   "source": [
    "def constraints1(w):\n",
    "    w = np.array(w).reshape((3,1))\n",
    "    return (0.038 - w.T@V@w).item()"
   ]
  },
  {
   "cell_type": "code",
   "execution_count": 154,
   "metadata": {},
   "outputs": [],
   "source": [
    "def constraints2(w):\n",
    "    return 1 - np.array(w).sum()"
   ]
  },
  {
   "cell_type": "code",
   "execution_count": 155,
   "metadata": {},
   "outputs": [],
   "source": [
    "V = np.array([[0.2**2,0.2*0.2*0.4,0.2*0.2*0.4],[0.2*0.2*0.4,0.2**2,0.2*0.2*0.4],[0.2*0.2*0.4,0.2*0.2*0.4,0.2**2]])\n",
    "r = np.array([[0.10],[0.074],[0.14]])"
   ]
  },
  {
   "cell_type": "code",
   "execution_count": 156,
   "metadata": {},
   "outputs": [
    {
     "name": "stdout",
     "output_type": "stream",
     "text": [
      "     fun: -0.14057734299106492\n",
      "     jac: array([-0.1  , -0.074, -0.14 ])\n",
      " message: 'Optimization terminated successfully'\n",
      "    nfev: 28\n",
      "     nit: 7\n",
      "    njev: 7\n",
      "  status: 0\n",
      " success: True\n",
      "       x: array([ 0.25752671, -0.16482442,  0.9072977 ])\n"
     ]
    }
   ],
   "source": [
    "from scipy.optimize import minimize\n",
    "cons = (\n",
    "    {'type': 'ineq', 'fun': constraints1},\n",
    "    {'type': 'eq', 'fun': constraints2},\n",
    ")\n",
    "result = minimize(objective, x0=[1/3,1/3,1/3], constraints=cons, method=\"SLSQP\")\n",
    "print(result)"
   ]
  },
  {
   "cell_type": "code",
   "execution_count": 164,
   "metadata": {},
   "outputs": [
    {
     "name": "stdout",
     "output_type": "stream",
     "text": [
      "14.058 %\n"
     ]
    }
   ],
   "source": [
    "print(- round(result.fun*100, 3), \"%\")"
   ]
  },
  {
   "cell_type": "markdown",
   "metadata": {},
   "source": [
    "### (b)"
   ]
  },
  {
   "cell_type": "code",
   "execution_count": 166,
   "metadata": {},
   "outputs": [],
   "source": [
    "def constraints3(w):\n",
    "    return w[0]\n",
    "def constraints4(w):\n",
    "    return w[1]\n",
    "def constraints5(w):\n",
    "    return w[2]"
   ]
  },
  {
   "cell_type": "code",
   "execution_count": 167,
   "metadata": {},
   "outputs": [
    {
     "name": "stdout",
     "output_type": "stream",
     "text": [
      "     fun: -0.1382574376347421\n",
      "     jac: array([-0.1  , -0.074, -0.14 ])\n",
      " message: 'Optimization terminated successfully'\n",
      "    nfev: 37\n",
      "     nit: 9\n",
      "    njev: 9\n",
      "  status: 0\n",
      " success: True\n",
      "       x: array([ 4.35640591e-02, -1.50615222e-16,  9.56435941e-01])\n"
     ]
    }
   ],
   "source": [
    "from scipy.optimize import minimize\n",
    "cons = (\n",
    "    {'type': 'ineq', 'fun': constraints1},\n",
    "    {'type': 'eq', 'fun': constraints2},\n",
    "    {'type': 'ineq', 'fun': constraints3},\n",
    "    {'type': 'ineq', 'fun': constraints4},\n",
    "    {'type': 'ineq', 'fun': constraints5},\n",
    ")\n",
    "result = minimize(objective, x0=[1/3,1/3,1/3], constraints=cons, method=\"SLSQP\")\n",
    "print(result)"
   ]
  },
  {
   "cell_type": "code",
   "execution_count": 168,
   "metadata": {},
   "outputs": [
    {
     "name": "stdout",
     "output_type": "stream",
     "text": [
      "13.826 %\n"
     ]
    }
   ],
   "source": [
    "print(- round(result.fun*100, 3), \"%\")"
   ]
  }
 ],
 "metadata": {
  "kernelspec": {
   "display_name": "Python 3",
   "language": "python",
   "name": "python3"
  },
  "language_info": {
   "codemirror_mode": {
    "name": "ipython",
    "version": 3
   },
   "file_extension": ".py",
   "mimetype": "text/x-python",
   "name": "python",
   "nbconvert_exporter": "python",
   "pygments_lexer": "ipython3",
   "version": "3.7.0"
  }
 },
 "nbformat": 4,
 "nbformat_minor": 2
}
