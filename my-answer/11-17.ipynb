{
 "cells": [
  {
   "cell_type": "markdown",
   "metadata": {},
   "source": [
    "# 一般のリスク中立価格付け"
   ]
  },
  {
   "cell_type": "markdown",
   "metadata": {},
   "source": [
    "収入$d$をもたらす資産の対数最適な価格は、教科書の式(11.12)より\n",
    "\\begin{align}\n",
    "p=\\mathbb{E}\\left[\\frac{d}{R^{\\ast}}\\right]\\tag{11.12}\n",
    "\\end{align}\n",
    "で与えられる。ここで$R^{\\ast}$は対数最適なポートフォリオの収入を表す確率変数である。"
   ]
  },
  {
   "cell_type": "markdown",
   "metadata": {},
   "source": [
    "また問題文より、任意の確率変数$x$に対し、\n",
    "\\begin{align}\n",
    "\\hat{E}[x] = \\mathbb{E}\\left[\\frac{Rx}{R^{\\ast}}\\right]\n",
    "\\end{align}\n",
    "と定期される。ただし$R$は現在価格が$1$の無リスク資産の収益である。"
   ]
  },
  {
   "cell_type": "markdown",
   "metadata": {},
   "source": [
    "よってここに$x=\\frac{d}{R}$を代入すると、\n",
    "\\begin{align}\n",
    "\\hat E\\left[\\frac{d}{R}\\right] = \\mathbb{E}\\left[\\frac{d}{R^{\\ast}}\\right]\n",
    "\\end{align}"
   ]
  },
  {
   "cell_type": "markdown",
   "metadata": {},
   "source": [
    "$R$は定数である。また右辺は、式(11.12)より、収入$d$をもたらす資産の価格$p$である。よって\n",
    "\\begin{align}\n",
    "\\frac{\\hat E\\left[d\\right]}{R}=p\n",
    "\\end{align}"
   ]
  }
 ],
 "metadata": {
  "kernelspec": {
   "display_name": "Python 3",
   "language": "python",
   "name": "python3"
  },
  "language_info": {
   "codemirror_mode": {
    "name": "ipython",
    "version": 3
   },
   "file_extension": ".py",
   "mimetype": "text/x-python",
   "name": "python",
   "nbconvert_exporter": "python",
   "pygments_lexer": "ipython3",
   "version": "3.7.0"
  }
 },
 "nbformat": 4,
 "nbformat_minor": 2
}
