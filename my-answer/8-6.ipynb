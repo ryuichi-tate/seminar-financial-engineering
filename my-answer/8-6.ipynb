{
 "cells": [
  {
   "cell_type": "markdown",
   "metadata": {},
   "source": [
    "# 3つのポートフォリオの場合のAPT"
   ]
  },
  {
   "cell_type": "code",
   "execution_count": 2,
   "metadata": {},
   "outputs": [],
   "source": [
    "import numpy as np"
   ]
  },
  {
   "cell_type": "markdown",
   "metadata": {},
   "source": [
    "## (a)"
   ]
  },
  {
   "cell_type": "markdown",
   "metadata": {},
   "source": [
    "APTによれば、この三つのポートフォリオと無リスク金利$r_f$において裁定取引は生じない。"
   ]
  },
  {
   "cell_type": "markdown",
   "metadata": {},
   "source": [
    "\\begin{align}\n",
    "\\bar r_i = r_f + b_{i1}\\lambda_1 + b_{i2}\\lambda_2\n",
    "\\end{align}\n",
    "に表の値を代入して解くと、"
   ]
  },
  {
   "cell_type": "code",
   "execution_count": 17,
   "metadata": {},
   "outputs": [
    {
     "name": "stdout",
     "output_type": "stream",
     "text": [
      "[[ 0.05]\n",
      " [ 0.05]\n",
      " [-0.02]]\n"
     ]
    }
   ],
   "source": [
    "r = np.matrix([[0.10],[0.01],[-0.02]])\n",
    "b = np.matrix([[1, 0], [0,2],[-1,1]])\n",
    "A = np.concatenate([np.ones([3,1]), b], axis=1)\n",
    "print(A**-1*r)"
   ]
  },
  {
   "cell_type": "markdown",
   "metadata": {},
   "source": [
    "\\begin{align}\n",
    "r_f &= 0.05 \\\\\n",
    "\\lambda_1 &= 0.05\\\\\n",
    "\\lambda_2 &= -0.02\n",
    "\\end{align}"
   ]
  },
  {
   "cell_type": "markdown",
   "metadata": {},
   "source": [
    "したがって$i=A,B,C$のそれぞれについて期待収益率$\\bar r_i$とファクター負荷$b_{i1}, b_{i2}$の関係は\n",
    "\\begin{align}\n",
    "\\bar r_i  = 0.05 + 0.05b_{i1} - 0.02b_{i2}\n",
    "\\end{align}\n",
    "となる(?)"
   ]
  },
  {
   "cell_type": "markdown",
   "metadata": {},
   "source": [
    "## (b)"
   ]
  },
  {
   "cell_type": "markdown",
   "metadata": {},
   "source": [
    "(a)の結果にポートフォリオDのファクター負荷を代入すると、期待収益率$\\bar r_D$は$13\\%$となり、$15\\%$より低い。したがって裁定取引の機会が生じる。\n",
    "\n",
    "具体的には、例えばポートフォリオAの割合を1、ポートフォリオBの割合を1、ポートフォリオCの割合を-1とするポートフォリオPを考える。このポートフォリオPのファクター負荷はポートフォリオDのファクター負荷と全く同一なので同じ変動をする。しかしPの期待収益率は$9\\%$である。\n",
    "\n",
    "なのでポートフォリオPを空売りし、その資金でポートフォリオDを購入すれば金が湧く。"
   ]
  }
 ],
 "metadata": {
  "kernelspec": {
   "display_name": "Python 3",
   "language": "python",
   "name": "python3"
  },
  "language_info": {
   "codemirror_mode": {
    "name": "ipython",
    "version": 3
   },
   "file_extension": ".py",
   "mimetype": "text/x-python",
   "name": "python",
   "nbconvert_exporter": "python",
   "pygments_lexer": "ipython3",
   "version": "3.7.0"
  }
 },
 "nbformat": 4,
 "nbformat_minor": 2
}
