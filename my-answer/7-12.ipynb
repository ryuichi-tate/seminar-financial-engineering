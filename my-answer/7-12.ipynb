{
 "metadata": {
  "language_info": {
   "codemirror_mode": {
    "name": "ipython",
    "version": 3
   },
   "file_extension": ".py",
   "mimetype": "text/x-python",
   "name": "python",
   "nbconvert_exporter": "python",
   "pygments_lexer": "ipython3",
   "version": 3
  },
  "orig_nbformat": 2
 },
 "nbformat": 4,
 "nbformat_minor": 2,
 "cells": [
  {
   "source": [
    "# 標準形式"
   ],
   "cell_type": "markdown",
   "metadata": {}
  },
  {
   "source": [
    "収益$x$をもたらす任意の資産を考える。この期待収益を$\\mathbb{E}[x]=\\bar x$、現在価値を$P_x$としている。\n",
    "\n",
    "ある市場性資産$M$に対し、\n",
    "\\begin{align}\n",
    "P_x = \\mathbb{E}[Mx]\\tag{7.11}\n",
    "\\end{align}\n",
    "がなりたつ。（そういう資産が存在する）"
   ],
   "cell_type": "markdown",
   "metadata": {}
  },
  {
   "source": [
    "現在価値が$1$で、収益が$R$で確定となる無リスク資産についても$P_x = \\mathbb{E}[Mx]$は成り立つので、\n",
    "\\begin{align}\n",
    "1 &= \\mathbb{E}[MR]\\\\\n",
    "\\\\\n",
    "&=\\mathbb{E}[M]\\cdot R\\\\\n",
    "\\\\\n",
    "\\therefore\\ \\mathbb{E}[M] &= \\frac{1}{R}\\tag{*}\n",
    "\\end{align}"
   ],
   "cell_type": "markdown",
   "metadata": {}
  },
  {
   "source": [
    "現在価値が$P_M$で、収益が$M$で表される市場性資産そのものについても$P_x = \\mathbb{E}[Mx]$は成り立つので、\n",
    "\\begin{align}\n",
    "P_M &= \\mathbb{E}[M\\cdot M]\\\\\n",
    "\\\\\n",
    "&=\\mathbb{E}[M^2]\\tag{**}\n",
    "\\end{align}"
   ],
   "cell_type": "markdown",
   "metadata": {}
  },
  {
   "source": [
    "よって、\n",
    "\\begin{align}\n",
    "P_x &= \\mathbb{E}[Mx]\\\\\n",
    "\\\\\n",
    "&= \\mathbb{E}[M]\\mathbb{E}[x] + Cov[x,\\ M]\\\\\n",
    "\\\\\n",
    "&= \\mathbb{E}[M]\\left(\\mathbb{E}[x] + \\frac{Cov[x,\\ M]}{\\mathbb{E}[M]}\\right)\\\\\n",
    "\\\\\n",
    "&= \\mathbb{E}[M]\\left(\\mathbb{E}[x] + \\frac{Cov[x,\\ M]}{\\sigma_M^2}\\cdot\\frac{\\sigma_M^2}{\\mathbb{E}[M]}\\right)\\\\\n",
    "\\\\\n",
    "&= \\mathbb{E}[M]\\left(\\mathbb{E}[x] + \\frac{Cov[x,\\ M]}{\\sigma_M^2}\\cdot\\frac{\\mathbb{E}[M^2]-\\mathbb{E}[M]^2}{\\mathbb{E}[M]}\\right)\\\\\n",
    "\\\\\n",
    "&= \\mathbb{E}[M]\\left\\{\\mathbb{E}[x] - \\frac{Cov[x,\\ M]}{\\sigma_M^2}\\cdot\\left(\\mathbb{E}[M]-\\frac{\\mathbb{E}[M^2]}{\\mathbb{E}[M]}\\right)\\right\\}\\\\\n",
    "\\\\\n",
    "&= \\mathbb{E}[M]\\left\\{\\bar x - \\frac{Cov[x,\\ M]}{\\sigma_M^2}\\cdot\\left(\\bar M-\\frac{\\mathbb{E}[M^2]}{\\mathbb{E}[M]}\\right)\\right\\}\\\\\n",
    "\\end{align}\n",
    "ここに($*$)式と($**$)式を代入すると、\n",
    "\\begin{align}\n",
    "P_x &= \\frac{1}{R}\\left\\{\\bar x - \\frac{Cov[x,\\ M]}{\\sigma_M^2}\\cdot(\\bar M-P_MR)\\right\\}\\\\\n",
    "\\end{align}\n",
    "が得られる。"
   ],
   "cell_type": "markdown",
   "metadata": {}
  },
  {
   "source": [
    "（以下は蛇足）"
   ],
   "cell_type": "markdown",
   "metadata": {}
  },
  {
   "source": [],
   "cell_type": "markdown",
   "metadata": {}
  },
  {
   "source": [],
   "cell_type": "markdown",
   "metadata": {}
  },
  {
   "source": [
    "収益$x$をもたらす任意の資産を考える。この期待収益を$\\bar x$、現在価値を$P_x$としている。収益率を$r_x$とすると、\n",
    "\\begin{align}\n",
    "r_x = \\frac{x}{P_x}-1\n",
    "\\end{align}"
   ],
   "cell_type": "markdown",
   "metadata": {}
  },
  {
   "source": [
    "当然この資産も市場に売り出されいるので、CAPM理論に従い、\n",
    "\\begin{align}\n",
    "\\bar r_x &= r_f + \\beta_{xM}(\\bar r_M - r_f)\\\\\n",
    "\\\\\n",
    "\\frac{\\bar x}{P_x}-1 &= r_f + \\beta_{xM}(\\bar r_M - r_f)\\\\\n",
    "\\\\\n",
    "P_x &= \\frac{\\bar x}{1+r_f + \\beta_{xM}(\\bar r_M - r_f)}\n",
    "\\end{align}\n",
    "を満たす。さらに$\\beta_{xM}=\\frac{\\sigma_{xM}}{\\sigma_M^2}$を代入すると、\n",
    "\n",
    "\\begin{align}\n",
    "P_x &= \\frac{\\bar x}{1+r_f + \\beta_{xM}(\\bar r_M - r_f)}\\\\\n",
    "\\\\\n",
    "&= \\frac{\\bar x}{1+r_f + \\frac{\\sigma_{xM}}{\\sigma_M^2}(\\bar r_M - r_f)}\\\\\n",
    "\\end{align}\n",
    "\n",
    "ここで$\\sigma_{xM}=Cov[r_x,\\ r_M]=Cov[x/P_x-1,\\ r_M]=Cov[x, r_M]/P_x$より、\n",
    "\n",
    "\\begin{align}\n",
    "P_x &= \\frac{\\bar x}{1+r_f + \\frac{Cov[x, r_M]}{P_x\\sigma_M^2}(\\bar r_M - r_f)}\\\\\n",
    "\\\\\n",
    "1 &= \\frac{\\bar x}{P_x(1+r_f) + Cov[x, r_M](\\bar r_M - r_f)/\\sigma_M^2}\\\\\n",
    "\\\\\n",
    "P_x &= \\frac{1}{1+r_f}\\left\\{\\bar x - \\frac{Cov[x, r_M]}{\\sigma_M^2}(\\bar r_M - r_f)\\right\\}\n",
    "\\end{align}"
   ],
   "cell_type": "markdown",
   "metadata": {}
  }
 ]
}