{
 "metadata": {
  "language_info": {
   "codemirror_mode": {
    "name": "ipython",
    "version": 3
   },
   "file_extension": ".py",
   "mimetype": "text/x-python",
   "name": "python",
   "nbconvert_exporter": "python",
   "pygments_lexer": "ipython3",
   "version": "3.7.0-final"
  },
  "orig_nbformat": 2,
  "kernelspec": {
   "name": "python3",
   "display_name": "Python 3"
  }
 },
 "nbformat": 4,
 "nbformat_minor": 2,
 "cells": [
  {
   "source": [
    "# マーコビッツ・モデル"
   ],
   "cell_type": "markdown",
   "metadata": {}
  },
  {
   "source": [
    "## (a)"
   ],
   "cell_type": "markdown",
   "metadata": {}
  },
  {
   "source": [
    "収益率$r_i$の資産への配分比率を$w_i$とおく。\n",
    "\\begin{align}\n",
    "  {\\bf w} = \\left[\n",
    "    \\begin{array}{c}\n",
    "      w_1 \\\\\n",
    "      w_2 \\\\\n",
    "      w_3\n",
    "    \\end{array}\n",
    "  \\right]\n",
    "\\end{align}"
   ],
   "cell_type": "markdown",
   "metadata": {}
  },
  {
   "source": [
    "期待収益$\\bar r_p$を実現するポートフォリオの分散最小化問題は、教科書P.203より\n",
    "\\begin{align}\n",
    "\\min_{\\bf w}\\frac{1}{2}&\\sum_{i,j}w_iw_j\\sigma_{ij}\\\\\n",
    "\\\\\n",
    "s.t. &\\sum_iw_i\\bar r_i = \\bar r_p\\\\\n",
    "&\\sum_iw_i=1\n",
    "\\end{align}"
   ],
   "cell_type": "markdown",
   "metadata": {}
  },
  {
   "source": [
    "ラグランジアン$L$は\n",
    "\\begin{align}\n",
    "L = \\frac{1}{2}&\\sum_{i,j}w_iw_j\\sigma_{ij} -\\lambda\\left(\\sum_iw_i\\bar r_i - \\bar r_p\\right) - \\mu\\left(\\sum_iw_i-1\\right)\\\\\n",
    "\\\\\n",
    "&= \\frac{1}{2}{\\bf w}^TV{\\bf w} - \\lambda({\\bf w}^T\\bar{\\bf r} - \\bar r_p) - \\mu\\left(\\sum_iw_i-1\\right)\\\\\n",
    "\\end{align}"
   ],
   "cell_type": "markdown",
   "metadata": {}
  },
  {
   "source": [
    "\\begin{align}\n",
    "\\frac{\\partial L}{\\partial {\\bf w}} = \\frac{1}{2}(V + V^T){\\bf w} - \\lambda\\bar{\\bf r} - \\mu{\\bf 1}\n",
    "\\end{align}"
   ],
   "cell_type": "markdown",
   "metadata": {}
  },
  {
   "source": [
    "$\\frac{\\partial L}{\\partial {\\bf w}} = {\\bf 0}$を解くと、\n",
    "\\begin{align}\n",
    "{\\bf w}&=\\frac{1}{2}(V + V^T)^{-1}(\\lambda\\bar{\\bf r} + \\mu{\\bf 1})\\\\\n",
    "\\\\\n",
    "&= \\frac{1}{2}\\left(\\left[\n",
    "    \\begin{array}{ccc}\n",
    "      2 & 1 & 0 \\\\\n",
    "      1 & 2 & 1 \\\\\n",
    "      0 & 1 & 2\n",
    "    \\end{array}\n",
    "  \\right] + \n",
    "  \\left[\n",
    "    \\begin{array}{ccc}\n",
    "      2 & 1 & 0 \\\\\n",
    "      1 & 2 & 1 \\\\\n",
    "      0 & 1 & 2\n",
    "    \\end{array}\n",
    "  \\right]^T\\right)^{-1}\\left(\\lambda \\left[\n",
    "    \\begin{array}{c}\n",
    "      0.4 \\\\\n",
    "      0.8 \\\\\n",
    "      0.8 \\\\\n",
    "    \\end{array}\n",
    "  \\right] + \\mu \\left[\n",
    "    \\begin{array}{c}\n",
    "      1 \\\\\n",
    "      1 \\\\\n",
    "      1 \\\\\n",
    "    \\end{array}\n",
    "  \\right]\\right)\\\\\n",
    "\\\\\n",
    "&= \\left[\n",
    "    \\begin{array}{c}\n",
    "      0.1\\lambda + 0.5\\mu \\\\\n",
    "      0.2\\lambda  \\\\\n",
    "      0.3\\lambda + 0.5\\mu \\\\\n",
    "    \\end{array}\n",
    "  \\right]\n",
    "\\end{align}"
   ],
   "cell_type": "markdown",
   "metadata": {}
  },
  {
   "cell_type": "code",
   "execution_count": 20,
   "metadata": {
    "tags": []
   },
   "outputs": [
    {
     "output_type": "stream",
     "name": "stdout",
     "text": "[[0.1]\n [0.2]\n [0.3]]\n[[5.00000000e-01]\n [1.11022302e-16]\n [5.00000000e-01]]\n"
    }
   ],
   "source": [
    "import numpy as np\n",
    "V = np.matrix([[2,1,0],[1,2,1],[0,1,2]])\n",
    "r = np.matrix([[0.4],[0.8],[0.8]])\n",
    "print(V**-1*r)\n",
    "print((V**-1).sum(axis = 1))"
   ]
  },
  {
   "source": [
    "これを制約式の$\\sum_iw_i\\bar r_i = \\bar r_p$と$\\sum_iw_i=1$に代入すると、\n",
    "\\begin{align}\n",
    "  \\begin{cases}\n",
    "    0.4(0.1\\lambda + 0.5\\mu) + 0.8\\times0.2\\lambda + 0.8(0.3\\lambda + 0.5\\mu) = \\bar r_p\\\\\n",
    "    (0.1\\lambda + 0.5\\mu) + 0.2\\lambda + (0.3\\lambda + 0.5\\mu) = 1\n",
    "  \\end{cases}\\\\\n",
    "\\end{align}\n",
    "\n",
    "\\begin{align}\n",
    "  \\begin{cases}\n",
    "    0.44\\lambda + 0.6\\mu = \\bar r_p\\\\\n",
    "    0.6\\lambda + \\mu = 1\n",
    "  \\end{cases}\\\\\n",
    "\\end{align}\n",
    "\n",
    "\\begin{align}\n",
    "  \\begin{cases}\n",
    "    \\lambda = 12.5\\bar r_p - 7.5 \\\\\n",
    "    \\mu = -7.5\\bar r_p + 5.5\n",
    "  \\end{cases}\n",
    "\\end{align}"
   ],
   "cell_type": "markdown",
   "metadata": {}
  },
  {
   "cell_type": "code",
   "execution_count": 22,
   "metadata": {},
   "outputs": [
    {
     "output_type": "execute_result",
     "data": {
      "text/plain": "matrix([[12.5, -7.5],\n        [-7.5,  5.5]])"
     },
     "metadata": {},
     "execution_count": 22
    }
   ],
   "source": [
    "A = np.matrix([[0.44,0.6],[0.6,1]])\n",
    "A **-1"
   ]
  },
  {
   "source": [
    "よって${\\bf w}$を$\\bar r_p$を用いて表すと、\n",
    "\\begin{align}\n",
    "w_1 &= -2.5\\bar r_p + 2 \\\\\n",
    "w_2 &=  2.5\\bar r_p - 1.5\\\\\n",
    "w_3 &= 0.5\n",
    "\\end{align}\n"
   ],
   "cell_type": "markdown",
   "metadata": {}
  },
  {
   "cell_type": "code",
   "execution_count": 42,
   "metadata": {},
   "outputs": [
    {
     "output_type": "execute_result",
     "data": {
      "text/plain": "matrix([[-2.5,  2. ],\n        [ 2.5, -1.5],\n        [ 0. ,  0.5]])"
     },
     "metadata": {},
     "execution_count": 42
    }
   ],
   "source": [
    "w = np.matrix([[0.1,0.5],[0.2,0.0],[0.3,0.5]])*A**-1\n",
    "w "
   ]
  },
  {
   "source": [
    "この時、ポートフォリオ収益率の分散は\n",
    "\\begin{align}\n",
    "{\\bf w}^TV{\\bf w} &= 12.5\\bar r_p^2 - 15\\bar r_p + 5.5\\\\\n",
    "\\\\\n",
    "&= 12.5(\\bar r_p - 0.6)^2 + 10\n",
    "\\end{align}\n",
    "となるので、これを最小にする$\\bar r_p$は$0.6$となる。"
   ],
   "cell_type": "markdown",
   "metadata": {}
  },
  {
   "cell_type": "code",
   "execution_count": 51,
   "metadata": {
    "tags": []
   },
   "outputs": [
    {
     "output_type": "stream",
     "name": "stdout",
     "text": "[[12.5]]\n[[-15.]]\n[[5.5]]\n"
    }
   ],
   "source": [
    "print(w[:,0].T*V*w[:,0])\n",
    "print(w[:,0].T*V*w[:,1] + w[:,1].T*V*w[:,0])\n",
    "print(w[:,1].T*V*w[:,1])"
   ]
  },
  {
   "source": [
    "$\\bar r_p=0.6$の時、\n",
    "\\begin{align}\n",
    "w_1 &= 0.5 \\\\\n",
    "w_2 &= 0 \\\\\n",
    "w_3 &= 0.5\n",
    "\\end{align}\n",
    "となる。"
   ],
   "cell_type": "markdown",
   "metadata": {}
  },
  {
   "source": [
    "## (b)"
   ],
   "cell_type": "markdown",
   "metadata": {}
  },
  {
   "source": [
    "(a)の途中で出てきた\n",
    "\\begin{align}\n",
    "{\\bf w}=\n",
    "\\left[\n",
    "  \\begin{array}{c}\n",
    "    0.1\\lambda + 0.5\\mu \\\\\n",
    "    0.2\\lambda  \\\\\n",
    "    0.3\\lambda + 0.5\\mu \\\\\n",
    "  \\end{array}\n",
    "\\right]\n",
    "\\end{align}\n",
    "に$\\lambda=1$,$\\mu=0$を代入すると、\n",
    "\\begin{align}\n",
    "w_1 &= 0.1 \\\\\n",
    "w_2 &= 0.2 \\\\\n",
    "w_3 &= 0.3 \\\\\n",
    "\\end{align}\n",
    "合計が$1$になるよう正規化すると、\n",
    "\\begin{align}\n",
    "w_1 &= \\frac{1}{6} \\\\\n",
    "w_2 &= \\frac{1}{3} \\\\\n",
    "w_3 &= \\frac{1}{2} \\\\\n",
    "\\end{align}"
   ],
   "cell_type": "markdown",
   "metadata": {}
  },
  {
   "source": [
    "## (c)"
   ],
   "cell_type": "markdown",
   "metadata": {}
  },
  {
   "source": [
    "教科書P.215の(6.10)式より、\n",
    "\\begin{align}\n",
    "\\sum_{i=1}^3\\sigma_{ki}v_i=\\bar r_k - r_f\n",
    "\\end{align}\n",
    "\\begin{align}\n",
    "V{\\bf v} &= \\bar{\\bf r} - r_f{\\bf 1}\\\\\n",
    "\\\\\n",
    "{\\bf v} &= V^{-1}(\\bar{\\bf r} - r_f{\\bf 1})\\\\\n",
    "&= \n",
    "\\left[\n",
    "  \\begin{array}{c}\n",
    "    0 \\\\\n",
    "    0.2 \\\\\n",
    "    0.2 \\\\\n",
    "  \\end{array}\n",
    "\\right]\n",
    "\\end{align}"
   ],
   "cell_type": "markdown",
   "metadata": {}
  },
  {
   "cell_type": "code",
   "execution_count": 53,
   "metadata": {},
   "outputs": [
    {
     "output_type": "execute_result",
     "data": {
      "text/plain": "matrix([[-2.77555756e-17],\n        [ 2.00000000e-01],\n        [ 2.00000000e-01]])"
     },
     "metadata": {},
     "execution_count": 53
    }
   ],
   "source": [
    "V**-1*(r - 0.2)"
   ]
  },
  {
   "source": [
    "正規化して、\n",
    "\\begin{align}\n",
    "{\\bf w} = \\left[\n",
    "  \\begin{array}{c}\n",
    "    0 \\\\\n",
    "    0.5 \\\\\n",
    "    0.5 \\\\\n",
    "  \\end{array}\n",
    "\\right]\n",
    "\\end{align}"
   ],
   "cell_type": "markdown",
   "metadata": {}
  }
 ]
}