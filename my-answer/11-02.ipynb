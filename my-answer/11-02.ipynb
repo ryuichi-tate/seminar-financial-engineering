{
 "cells": [
  {
   "cell_type": "markdown",
   "metadata": {},
   "source": [
    "# 富の独立性"
   ]
  },
  {
   "cell_type": "markdown",
   "metadata": {},
   "source": [
    "投資家にとって、ある確率的な収入$x$を得る投資機会に富$w$を投資するか否かの判断は以下の式にて行う。\n",
    "\\begin{align}\n",
    "\\mathbb{E}[U(W-w+x)]>\\mathbb{E}[U(W)]\n",
    "\\end{align}\n",
    "これは投資をすることによって得られる期待効用の方が、そのまま富を保持し続けることによって得られる期待効用よりも大きいことを表す。<br>\n",
    "この式を満たす時、投資家はこの投資機会に投資をしようと考える。\n",
    "\n",
    "問題では、この評価式が実は投資前に投資家が保持している富の総量$W$に依存しないことを示す。"
   ]
  },
  {
   "cell_type": "markdown",
   "metadata": {},
   "source": [
    "$U(x)=-e^{-ax}$の時、評価式は\n",
    "\\begin{align}\n",
    "\\mathbb{E}\\left[-e^{-(W-w+x)}\\right]&>\\mathbb{E}\\left[-e^{-W}\\right]\\\\\n",
    "e^{-W}\\mathbb{E}\\left[-e^{-(-w+x)}\\right]&>-e^{-W}\\\\\n",
    "\\mathbb{E}\\left[-e^{-(-w+x)}\\right]&>1\n",
    "\\end{align}\n",
    "よって$W$に依存しないことが示された。"
   ]
  }
 ],
 "metadata": {
  "kernelspec": {
   "display_name": "Python 3",
   "language": "python",
   "name": "python3"
  },
  "language_info": {
   "codemirror_mode": {
    "name": "ipython",
    "version": 3
   },
   "file_extension": ".py",
   "mimetype": "text/x-python",
   "name": "python",
   "nbconvert_exporter": "python",
   "pygments_lexer": "ipython3",
   "version": "3.7.0"
  }
 },
 "nbformat": 4,
 "nbformat_minor": 2
}
