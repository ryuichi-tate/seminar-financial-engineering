{
 "cells": [
  {
   "cell_type": "markdown",
   "metadata": {},
   "source": [
    "# APTファクター"
   ]
  },
  {
   "cell_type": "code",
   "execution_count": 2,
   "metadata": {},
   "outputs": [],
   "source": [
    "import numpy as np\n",
    "np.set_printoptions(precision=4)"
   ]
  },
  {
   "cell_type": "markdown",
   "metadata": {},
   "source": [
    "$\\lambda_0$は無リスク資産の収益率を表すが、裁定取引をなくすために、これは無リスク金利と一致せねばならない。\n",
    "\\begin{align}\n",
    "\\lambda_0 = r_f = 0.1\n",
    "\\end{align}"
   ]
  },
  {
   "cell_type": "markdown",
   "metadata": {},
   "source": [
    "教科書P.280の(8.7)式より\n",
    "\\begin{align}\n",
    "\\bar r_i = \\lambda_0 + b_{i1}\\lambda_1 + b_{i2}\\lambda_2\\\\\n",
    "\\end{align}\n",
    "よって株式1と株式2についてそれぞれ見ると、\n",
    "\\begin{align}\n",
    "\\bar r_1 = \\lambda_0 + b_{11}\\lambda_1 + b_{12}\\lambda_2\\\\\n",
    "\\bar r_2 = \\lambda_0 + b_{21}\\lambda_1 + b_{22}\\lambda_2\\\\\n",
    "\\end{align}\n",
    "\n",
    "よって\n",
    "\\begin{align}\n",
    "\\lambda_1 = 0.02\\\\\n",
    "\\lambda_2 = 0.01\n",
    "\\end{align}"
   ]
  },
  {
   "cell_type": "code",
   "execution_count": 13,
   "metadata": {},
   "outputs": [],
   "source": [
    "bar_r = np.matrix([[0.15],[0.20]])\n",
    "b = np.matrix([[2.0, 1.0],[3.0, 4.0]])\n",
    "lam = b**-1*(bar_r - 0.10)"
   ]
  },
  {
   "cell_type": "code",
   "execution_count": 15,
   "metadata": {},
   "outputs": [
    {
     "name": "stdout",
     "output_type": "stream",
     "text": [
      "[[0.02]\n",
      " [0.01]]\n"
     ]
    }
   ],
   "source": [
    "print(lam)"
   ]
  }
 ],
 "metadata": {
  "kernelspec": {
   "display_name": "Python 3",
   "language": "python",
   "name": "python3"
  },
  "language_info": {
   "codemirror_mode": {
    "name": "ipython",
    "version": 3
   },
   "file_extension": ".py",
   "mimetype": "text/x-python",
   "name": "python",
   "nbconvert_exporter": "python",
   "pygments_lexer": "ipython3",
   "version": "3.7.0"
  }
 },
 "nbformat": 4,
 "nbformat_minor": 2
}
