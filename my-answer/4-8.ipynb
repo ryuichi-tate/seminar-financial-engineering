{
 "metadata": {
  "language_info": {
   "codemirror_mode": {
    "name": "ipython",
    "version": 3
   },
   "file_extension": ".py",
   "mimetype": "text/x-python",
   "name": "python",
   "nbconvert_exporter": "python",
   "pygments_lexer": "ipython3",
   "version": 3
  },
  "orig_nbformat": 2,
  "kernelspec": {
   "name": "python_defaultSpec_1597020773136",
   "display_name": "Python 3.7.0 64-bit ('base': conda)"
  }
 },
 "nbformat": 4,
 "nbformat_minor": 2,
 "cells": [
  {
   "cell_type": "markdown",
   "metadata": {},
   "source": [
    "# 問4-8 実際のゼロ・クーポン債"
   ]
  },
  {
   "cell_type": "markdown",
   "metadata": {},
   "source": [
    "問題文にあるような実際の税金の支払い方を行う場合の債券(額面価格$100$)を投資家が購入する時のキャッシュフローは、\n",
    "\\begin{align}\n",
    "\\left(\\ -P_0,\\ -\\frac{100-P_0}{n}t,\\ -\\frac{100-P_0}{n}t,\\ \\cdots,\\ 100-\\frac{100-P_0}{n}t\\right)\n",
    "\\end{align}"
   ]
  },
  {
   "cell_type": "markdown",
   "metadata": {},
   "source": [
    "一方、問題4-7にある債券1と債券2をそれぞれ$\\alpha$単位と$\\beta$単位づつ購入する場合の投資家のキャッシュフローは、\n",
    "\\begin{align}\n",
    "\\left(\\ -(\\alpha P_1+\\beta P_2),\\ (10\\alpha+7\\beta)(1-t),\\ (10\\alpha+7\\beta)(1-t),\\ \\cdots,\\ 100(\\alpha+\\beta)-\\{100(\\alpha+\\beta)-(\\alpha P_1+\\beta P_2)\\}t\\ \\right)\n",
    "\\end{align}"
   ]
  },
  {
   "cell_type": "markdown",
   "metadata": {},
   "source": [
    "この二つのキャッシュフローが一致するように$\\alpha$と$\\beta$を選ぶ。初年度初め、$1$〜$9$年後時点、$10$年後でそれぞれ\n",
    "\\begin{eqnarray}\n",
    "  \\begin{cases}\n",
    "    -P_0 = -(\\alpha P_1+\\beta P_2) & \\\\\n",
    "    -\\frac{100-P_0}{n}t = (10\\alpha+7\\beta)(1-t) & \\\\\n",
    "    100-\\frac{100-P_0}{n}t = 100(\\alpha+\\beta)-\\{100(\\alpha+\\beta)-(\\alpha P_1+\\beta P_2)\\}t\n",
    "  \\end{cases}\n",
    "\\end{eqnarray}\n",
    "を満たせば良い。"
   ]
  },
  {
   "cell_type": "markdown",
   "metadata": {},
   "source": [
    "$n=10$、$t=0.3$、$P_1=92.21$、$P_2=75.84$を代入する\n",
    "\\begin{eqnarray}\n",
    "  \\begin{cases}\n",
    "    -P_0 = -(92.21\\alpha+75.84\\beta) & \\\\\n",
    "    -\\frac{100-P_0}{10}\\times0.3 = (10\\alpha+7\\beta)(1-0.3) & \\\\\n",
    "    100-\\frac{100-P_0}{10}\\times0.3 = 100(\\alpha+\\beta)-\\{100(\\alpha+\\beta)-(92.21\\alpha+75.84\\beta)\\}\\times0.3\n",
    "  \\end{cases}\n",
    "\\end{eqnarray}"
   ]
  },
  {
   "cell_type": "markdown",
   "metadata": {},
   "source": [
    "整理する\n",
    "\\begin{eqnarray}\n",
    "  \\begin{cases}\n",
    "    -P_0+92.21\\alpha+75.84\\beta = 0 & \\\\\n",
    "    0.03P_0 -7\\alpha -4.9\\beta = 3 & \\\\\n",
    "    0.03P_0 -97.663\\alpha -92.752\\beta = -97\n",
    "  \\end{cases}\n",
    "\\end{eqnarray}"
   ]
  },
  {
   "cell_type": "markdown",
   "metadata": {},
   "source": [
    "計算する"
   ]
  },
  {
   "cell_type": "code",
   "execution_count": 3,
   "metadata": {},
   "outputs": [],
   "source": [
    "import numpy as np\n",
    "\n",
    "A = np.matrix([\n",
    "    [-1, 92.21, 75.84],\n",
    "    [0.03, -7, -4.9],\n",
    "    [0.03, -97.663, -92.752]\n",
    "])\n",
    "\n",
    "b = np.matrix([\n",
    "    [0],\n",
    "    [3],\n",
    "    [-97]\n",
    "])"
   ]
  },
  {
   "cell_type": "code",
   "execution_count": 4,
   "metadata": {},
   "outputs": [
    {
     "output_type": "execute_result",
     "data": {
      "text/plain": "matrix([[31.57683805],\n        [-3.92661553],\n        [ 5.19053344]])"
     },
     "metadata": {},
     "execution_count": 4
    }
   ],
   "source": [
    "A**-1*b"
   ]
  },
  {
   "cell_type": "markdown",
   "metadata": {},
   "source": [
    "\\begin{eqnarray}\n",
    "  \\begin{cases}\n",
    "    P_0 = 31.58 & \\\\\n",
    "    \\alpha\\ = -3.927 & \\\\\n",
    "    \\beta\\  = 5.191\n",
    "  \\end{cases}\n",
    "\\end{eqnarray}"
   ]
  }
 ]
}