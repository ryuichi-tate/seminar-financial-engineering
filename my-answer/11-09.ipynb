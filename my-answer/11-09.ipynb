{
 "cells": [
  {
   "cell_type": "markdown",
   "metadata": {},
   "source": [
    "# 2次平均-分散"
   ]
  },
  {
   "cell_type": "markdown",
   "metadata": {},
   "source": [
    "1単位の富を持つ投資家が作成したポートフォリオによる最終的な収益（の確率変数）を$R$とすると、その$W$倍の富をもつ投資家の最終的な収益は$WR$となる。"
   ]
  },
  {
   "cell_type": "markdown",
   "metadata": {},
   "source": [
    "収益$X$に対する効用は$U(X)$で与えられるので、1単位の富を持つ投資家の期待効用は\n",
    "\\begin{align}\n",
    "\\mathbb{E}[U(R)] &= \\mathbb{E}[aR-\\frac{1}{2}bR^2]\\\\\n",
    "&=a\\mathbb{E}[R] - \\frac{1}{2}b\\mathbb{E}[R^2]\\\\\n",
    "&= a\\mathbb{E}[R] - \\frac{1}{2}b(Var[R]+\\mathbb{E}[R]^2)\\\\\n",
    "\\end{align}\n",
    "となる。<br>\n",
    "1単位の富を持つ投資家はこの式の値を最大にするよう、ポートフォリオの期待収益$\\mathbb{E}[R]$とその分散$Var[R]$を調節する。"
   ]
  },
  {
   "cell_type": "markdown",
   "metadata": {},
   "source": [
    "一方、富$W$を持つ投資家の期待効用は\n",
    "\\begin{align}\n",
    "\\mathbb{E}[U(WR)] &= \\mathbb{E}[aWR-\\frac{1}{2}b(WR)^2]\\\\\n",
    "&=aW\\mathbb{E}[R] - \\frac{1}{2}bW^2\\mathbb{E}[R^2]\\\\\n",
    "&= W\\left\\{a\\mathbb{E}[R] - \\frac{1}{2}bW(Var[R]+\\mathbb{E}[R]^2)\\right\\}\\\\\n",
    "\\end{align}\n",
    "であり、この投資家はこの式の値が最大になるようポートフォリオの期待収益$\\mathbb{E}[R]$とその分散$Var[R]$を調節する。"
   ]
  },
  {
   "cell_type": "markdown",
   "metadata": {},
   "source": [
    "したがって両者の最大化したい目的関数の形を統一するためには、富$W$をもつ投資家の効用関数の$b$に変わる新しい$b'$として\n",
    "\\begin{align}\n",
    "b' = \\frac{b}{W}\n",
    "\\end{align}\n",
    "とすれば良い。"
   ]
  }
 ],
 "metadata": {
  "kernelspec": {
   "display_name": "Python 3",
   "language": "python",
   "name": "python3"
  },
  "language_info": {
   "codemirror_mode": {
    "name": "ipython",
    "version": 3
   },
   "file_extension": ".py",
   "mimetype": "text/x-python",
   "name": "python",
   "nbconvert_exporter": "python",
   "pygments_lexer": "ipython3",
   "version": "3.7.0"
  }
 },
 "nbformat": 4,
 "nbformat_minor": 2
}
