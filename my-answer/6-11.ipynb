{
 "metadata": {
  "language_info": {
   "codemirror_mode": {
    "name": "ipython",
    "version": 3
   },
   "file_extension": ".py",
   "mimetype": "text/x-python",
   "name": "python",
   "nbconvert_exporter": "python",
   "pygments_lexer": "ipython3",
   "version": "3.7.0-final"
  },
  "orig_nbformat": 2,
  "kernelspec": {
   "name": "python3",
   "display_name": "Python 3"
  }
 },
 "nbformat": 4,
 "nbformat_minor": 2,
 "cells": [
  {
   "source": [
    "# 2つの類似資産"
   ],
   "cell_type": "markdown",
   "metadata": {}
  },
  {
   "source": [
    "2つの資産の収益率は同じ分散を持つ。これを$\\sigma^2$とおく。\n",
    "\n",
    "相関係数は$\\rho$で与えられるので、$\\rho=\\frac{\\sigma_{12}}{\\sigma_1\\sigma_2}$より、共分散は$\\rho\\sigma^2$と表せる。"
   ],
   "cell_type": "markdown",
   "metadata": {}
  },
  {
   "source": [
    "## (a)"
   ],
   "cell_type": "markdown",
   "metadata": {}
  },
  {
   "source": [
    "教科書のP.215の(6.10)式をそのまま用いる。(6.10)式は\n",
    "\\begin{align}\n",
    "\\sum_{I=1}^n\\sigma_{ki}v_i = \\bar r_k - r_f,\\ \\ \\ (k=1,2,\\cdots,n)\n",
    "\\end{align}\n",
    "なので、これを今回の2つの類似資産問題に書き換えると、\n",
    "\\begin{align}\n",
    "  \\begin{cases}\n",
    "    \\sigma^2v_1+\\rho\\sigma^2v_2 = \\bar r_1 - r_f \\\\\n",
    "    \\rho\\sigma^2v_1 + \\sigma^2v_1 = \\bar r_2 - r_f \\\\\n",
    "  \\end{cases}\n",
    "\\end{align}\n",
    "これを解くと、\n",
    "\\begin{align}\n",
    "v_1 = \\frac{\\bar r_1 -\\rho\\bar r_2 - (1-\\rho)r_f}{\\sigma^2(1-\\rho^2)}\\\\\n",
    "\\\\\n",
    "v_2 = \\frac{\\bar r_2 -\\rho\\bar r_1 - (1-\\rho)r_f}{\\sigma^2(1-\\rho^2)}\n",
    "\\end{align}\n",
    "$v_1$と$v_2$の合計で正規化すると、\n",
    "\\begin{align}\n",
    "v_1 + v_2 &= \\frac{\\bar r_1 -\\rho\\bar r_2 - (1-\\rho)r_f}{\\sigma^2(1-\\rho^2)} + \\frac{\\bar r_2 -\\rho\\bar r_1 - (1-\\rho)r_f}{\\sigma^2(1-\\rho^2)}\\\\\n",
    "\\\\\n",
    "&= \\frac{\\bar r_1 + \\bar r_2 -2r_f}{\\sigma^2(1+\\rho)}\n",
    "\\end{align}\n",
    "\\begin{align}\n",
    "w_1 = \\frac{v_1}{v_1+v_2} = \\frac{\\bar r_1 -\\rho\\bar r_2 - (1-\\rho)r_f}{(\\bar r_1 + \\bar r_2 -2r_f)(1-\\rho)}\\\\\n",
    "\\\\\n",
    "w_2 = \\frac{v_2}{v_1+v_2} = \\frac{\\bar r_2 -\\rho\\bar r_1 - (1-\\rho)r_f}{(\\bar r_1 + \\bar r_2 -2r_f)(1-\\rho)}\\\\\n",
    "\\end{align}"
   ],
   "cell_type": "markdown",
   "metadata": {}
  },
  {
   "source": [
    "$s_i = \\bar r_i - r_f$とすると、\n",
    "\\begin{align}\n",
    "w_1 = \\frac{s_1 -\\rho s_2 }{(s_1 + s_2)(1-\\rho)}\\\\\n",
    "\\\\\n",
    "w_2 = \\frac{s_2 -\\rho s_1 }{(s_1 + s_2)(1-\\rho)}\\\\\n",
    "\\end{align}"
   ],
   "cell_type": "markdown",
   "metadata": {}
  },
  {
   "source": [
    "## (b)"
   ],
   "cell_type": "markdown",
   "metadata": {}
  },
  {
   "source": [
    "\\begin{align}\n",
    "w_1 &= \\frac{0.10 - 0.6\\times0.08 - (1-0.6)\\times0.05}{(0.10 + 0.08 - 2\\times0.05)(1-0.6)} = 1.0\\\\\n",
    "\\\\\n",
    "w_2 &= \\frac{0.08 - 0.6\\times0.10 - (1-0.6)\\times0.05}{(0.10 + 0.08 - 2\\times0.05)(1-0.6)} = 0.0\\\\\n",
    "\\end{align}"
   ],
   "cell_type": "markdown",
   "metadata": {}
  },
  {
   "cell_type": "code",
   "execution_count": 3,
   "metadata": {},
   "outputs": [
    {
     "output_type": "execute_result",
     "data": {
      "text/plain": "1.0"
     },
     "metadata": {},
     "execution_count": 3
    }
   ],
   "source": [
    "r1 = 0.1\n",
    "rho = 0.6\n",
    "r2 = 0.08\n",
    "rf = 0.05\n",
    "s1 = r1 - rf\n",
    "s2 = r2 - rf\n",
    "w1 = (s1 - s2*rho)/(s1+s2)/(1-rho)\n",
    "w1"
   ]
  }
 ]
}