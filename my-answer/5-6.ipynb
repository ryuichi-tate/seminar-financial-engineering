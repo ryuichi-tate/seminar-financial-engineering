{
 "metadata": {
  "language_info": {
   "codemirror_mode": {
    "name": "ipython",
    "version": 3
   },
   "file_extension": ".py",
   "mimetype": "text/x-python",
   "name": "python",
   "nbconvert_exporter": "python",
   "pygments_lexer": "ipython3",
   "version": "3.7.0-final"
  },
  "orig_nbformat": 2,
  "kernelspec": {
   "name": "python_defaultSpec_1598230403248",
   "display_name": "Python 3.7.0 64-bit ('base': conda)"
  }
 },
 "nbformat": 4,
 "nbformat_minor": 2,
 "cells": [
  {
   "cell_type": "markdown",
   "metadata": {},
   "source": [
    "# 債券プロジェクト"
   ]
  },
  {
   "cell_type": "code",
   "execution_count": 1,
   "metadata": {},
   "outputs": [],
   "source": [
    "import pandas as pd\n",
    "import datetime\n",
    "import numpy as np"
   ]
  },
  {
   "cell_type": "markdown",
   "metadata": {},
   "source": [
    "$t'_0 = \\mbox{2021/11/05}$（現在）<br>\n",
    "$t_0  = \\mbox{2021/08/15}$（現在の直前にクーポンが支払われた時間）<br>\n",
    "とする。"
   ]
  },
  {
   "cell_type": "code",
   "execution_count": 2,
   "metadata": {},
   "outputs": [],
   "source": [
    "now = datetime.date(2021, 11, 5)\n",
    "t0 = datetime.date(2021, 8, 15)"
   ]
  },
  {
   "cell_type": "markdown",
   "metadata": {},
   "source": [
    "債務と債券情報の入力"
   ]
  },
  {
   "cell_type": "code",
   "execution_count": 3,
   "metadata": {},
   "outputs": [],
   "source": [
    "bond_data = pd.DataFrame(data=[\n",
    "    [6.625, datetime.date(2022, 2, 15), 100.00],\n",
    "    [9.125, datetime.date(2022, 2, 15), 100.69],\n",
    "    [7.875, datetime.date(2022, 8, 15), 100.75],\n",
    "    [8.250, datetime.date(2022, 8, 15), 101.03],\n",
    "    [8.250, datetime.date(2023, 2, 15), 101.22],\n",
    "    [8.375, datetime.date(2023, 2, 15), 101.38],\n",
    "    [8.000, datetime.date(2023, 8, 15), 100.81],\n",
    "    [8.750, datetime.date(2023, 8, 15), 102.03],\n",
    "    [6.875, datetime.date(2024, 2, 15),  98.16],\n",
    "    [8.875, datetime.date(2024, 2, 15), 102.28],\n",
    "    [6.875, datetime.date(2024, 8, 15),  97.41],\n",
    "    [8.625, datetime.date(2024, 8, 15), 101.72],\n",
    "    [7.750, datetime.date(2025, 2, 15),  99.16],\n",
    "    [11.25, datetime.date(2025, 2, 15), 109.13],\n",
    "    [8.500, datetime.date(2025, 8, 15), 101.41],\n",
    "    [10.50, datetime.date(2025, 8, 15), 107.84],\n",
    "    [7.875, datetime.date(2026, 2, 15),  99.41],\n",
    "    [8.875, datetime.date(2026, 2, 15), 103.00],\n",
    "    ],\n",
    "    columns=['クーポン', '満期日', '価格'])\n",
    "# 経過利息を価格に加える。（詳しくは問4-4参照）\n",
    "bond_data['価格'] = bond_data['価格'] + bond_data['クーポン']*(now - t0).days/365\n",
    "\n",
    "debt_data = pd.DataFrame(data=[\n",
    "    [datetime.date(2022, 2, 15),  2000],\n",
    "    [datetime.date(2022, 8, 15), 20000],\n",
    "    [datetime.date(2023, 2, 15),     0],\n",
    "    [datetime.date(2023, 8, 15), 25000],\n",
    "    [datetime.date(2024, 2, 15),  1000],\n",
    "    [datetime.date(2024, 8, 15),     0],\n",
    "    [datetime.date(2025, 2, 15), 20000],\n",
    "    [datetime.date(2025, 8, 15),  1000],\n",
    "    [datetime.date(2026, 2, 15), 15000],\n",
    "    ],\n",
    "    columns=['支払日', '債務価格'])"
   ]
  },
  {
   "cell_type": "code",
   "execution_count": 4,
   "metadata": {},
   "outputs": [
    {
     "output_type": "execute_result",
     "data": {
      "text/plain": "    クーポン         満期日          価格\n0  6.625  2022-02-15  101.488356\n1  9.125  2022-02-15  102.740000\n2  7.875  2022-08-15  102.519178\n3  8.250  2022-08-15  102.883425\n4  8.250  2023-02-15  103.073425",
      "text/html": "<div>\n<style scoped>\n    .dataframe tbody tr th:only-of-type {\n        vertical-align: middle;\n    }\n\n    .dataframe tbody tr th {\n        vertical-align: top;\n    }\n\n    .dataframe thead th {\n        text-align: right;\n    }\n</style>\n<table border=\"1\" class=\"dataframe\">\n  <thead>\n    <tr style=\"text-align: right;\">\n      <th></th>\n      <th>クーポン</th>\n      <th>満期日</th>\n      <th>価格</th>\n    </tr>\n  </thead>\n  <tbody>\n    <tr>\n      <th>0</th>\n      <td>6.625</td>\n      <td>2022-02-15</td>\n      <td>101.488356</td>\n    </tr>\n    <tr>\n      <th>1</th>\n      <td>9.125</td>\n      <td>2022-02-15</td>\n      <td>102.740000</td>\n    </tr>\n    <tr>\n      <th>2</th>\n      <td>7.875</td>\n      <td>2022-08-15</td>\n      <td>102.519178</td>\n    </tr>\n    <tr>\n      <th>3</th>\n      <td>8.250</td>\n      <td>2022-08-15</td>\n      <td>102.883425</td>\n    </tr>\n    <tr>\n      <th>4</th>\n      <td>8.250</td>\n      <td>2023-02-15</td>\n      <td>103.073425</td>\n    </tr>\n  </tbody>\n</table>\n</div>"
     },
     "metadata": {},
     "execution_count": 4
    }
   ],
   "source": [
    "bond_data.head()"
   ]
  },
  {
   "cell_type": "code",
   "execution_count": 5,
   "metadata": {},
   "outputs": [
    {
     "output_type": "execute_result",
     "data": {
      "text/plain": "          支払日   債務価格\n0  2022-02-15   2000\n1  2022-08-15  20000\n2  2023-02-15      0\n3  2023-08-15  25000\n4  2024-02-15   1000",
      "text/html": "<div>\n<style scoped>\n    .dataframe tbody tr th:only-of-type {\n        vertical-align: middle;\n    }\n\n    .dataframe tbody tr th {\n        vertical-align: top;\n    }\n\n    .dataframe thead th {\n        text-align: right;\n    }\n</style>\n<table border=\"1\" class=\"dataframe\">\n  <thead>\n    <tr style=\"text-align: right;\">\n      <th></th>\n      <th>支払日</th>\n      <th>債務価格</th>\n    </tr>\n  </thead>\n  <tbody>\n    <tr>\n      <th>0</th>\n      <td>2022-02-15</td>\n      <td>2000</td>\n    </tr>\n    <tr>\n      <th>1</th>\n      <td>2022-08-15</td>\n      <td>20000</td>\n    </tr>\n    <tr>\n      <th>2</th>\n      <td>2023-02-15</td>\n      <td>0</td>\n    </tr>\n    <tr>\n      <th>3</th>\n      <td>2023-08-15</td>\n      <td>25000</td>\n    </tr>\n    <tr>\n      <th>4</th>\n      <td>2024-02-15</td>\n      <td>1000</td>\n    </tr>\n  </tbody>\n</table>\n</div>"
     },
     "metadata": {},
     "execution_count": 5
    }
   ],
   "source": [
    "debt_data.head()"
   ]
  },
  {
   "cell_type": "markdown",
   "metadata": {},
   "source": [
    "スポットレートカーブを問4-4の結果で定義する。"
   ]
  },
  {
   "cell_type": "code",
   "execution_count": 6,
   "metadata": {},
   "outputs": [],
   "source": [
    "def r(t):\n",
    "    alpha = [3.9725e-02, 1.2560e-02, 1.5246e-03, -9.4998e-04, 8.3856e-05]\n",
    "    return alpha[0] + alpha[1]*t + alpha[2]*t**2 + alpha[3]*t**3 + alpha[4]*t**4"
   ]
  },
  {
   "cell_type": "markdown",
   "metadata": {},
   "source": [
    "まずはそれぞれの債券のキャッシュ・フローを書き下す（教科書の表5.3のイメージ）"
   ]
  },
  {
   "cell_type": "code",
   "execution_count": 7,
   "metadata": {},
   "outputs": [
    {
     "output_type": "execute_result",
     "data": {
      "text/plain": "                 実在債券1    実在債券2       実在債券3       実在債券4       実在債券5  \\\n年                                                                     \n2021-11-05 -101.488356 -102.740 -102.519178 -102.883425 -103.073425   \n2022-02-15  106.625000  109.125    7.875000    8.250000    8.250000   \n2022-08-15    0.000000    0.000  107.875000  108.250000    8.250000   \n2023-02-15    0.000000    0.000    0.000000    0.000000  108.250000   \n2023-08-15    0.000000    0.000    0.000000    0.000000    0.000000   \n2024-02-15    0.000000    0.000    0.000000    0.000000    0.000000   \n2024-08-15    0.000000    0.000    0.000000    0.000000    0.000000   \n2025-02-15    0.000000    0.000    0.000000    0.000000    0.000000   \n2025-08-15    0.000000    0.000    0.000000    0.000000    0.000000   \n2026-02-15    0.000000    0.000    0.000000    0.000000    0.000000   \n\n                 実在債券6      実在債券7       実在債券8       実在債券9      実在債券10  \\\n年                                                                       \n2021-11-05 -103.261507 -102.60726 -103.995753  -99.704521 -104.273836   \n2022-02-15    8.375000    8.00000    8.750000    6.875000    8.875000   \n2022-08-15    8.375000    8.00000    8.750000    6.875000    8.875000   \n2023-02-15  108.375000    8.00000    8.750000    6.875000    8.875000   \n2023-08-15    0.000000  108.00000  108.750000    6.875000    8.875000   \n2024-02-15    0.000000    0.00000    0.000000  106.875000  108.875000   \n2024-08-15    0.000000    0.00000    0.000000    0.000000    0.000000   \n2025-02-15    0.000000    0.00000    0.000000    0.000000    0.000000   \n2025-08-15    0.000000    0.00000    0.000000    0.000000    0.000000   \n2026-02-15    0.000000    0.00000    0.000000    0.000000    0.000000   \n\n                実在債券11      実在債券12      実在債券13      実在債券14      実在債券15  \\\n年                                                                        \n2021-11-05  -98.954521 -103.657671 -100.901096 -111.657397 -103.319589   \n2022-02-15    6.875000    8.625000    7.750000   11.250000    8.500000   \n2022-08-15    6.875000    8.625000    7.750000   11.250000    8.500000   \n2023-02-15    6.875000    8.625000    7.750000   11.250000    8.500000   \n2023-08-15    6.875000    8.625000    7.750000   11.250000    8.500000   \n2024-02-15    6.875000    8.625000    7.750000   11.250000    8.500000   \n2024-08-15  106.875000  108.625000    7.750000   11.250000    8.500000   \n2025-02-15    0.000000    0.000000  107.750000  111.250000    8.500000   \n2025-08-15    0.000000    0.000000    0.000000    0.000000  108.500000   \n2026-02-15    0.000000    0.000000    0.000000    0.000000    0.000000   \n\n                実在債券16      実在債券17      実在債券18  \n年                                               \n2021-11-05 -110.198904 -101.179178 -104.993836  \n2022-02-15   10.500000    7.875000    8.875000  \n2022-08-15   10.500000    7.875000    8.875000  \n2023-02-15   10.500000    7.875000    8.875000  \n2023-08-15   10.500000    7.875000    8.875000  \n2024-02-15   10.500000    7.875000    8.875000  \n2024-08-15   10.500000    7.875000    8.875000  \n2025-02-15   10.500000    7.875000    8.875000  \n2025-08-15  110.500000    7.875000    8.875000  \n2026-02-15    0.000000  107.875000  108.875000  ",
      "text/html": "<div>\n<style scoped>\n    .dataframe tbody tr th:only-of-type {\n        vertical-align: middle;\n    }\n\n    .dataframe tbody tr th {\n        vertical-align: top;\n    }\n\n    .dataframe thead th {\n        text-align: right;\n    }\n</style>\n<table border=\"1\" class=\"dataframe\">\n  <thead>\n    <tr style=\"text-align: right;\">\n      <th></th>\n      <th>実在債券1</th>\n      <th>実在債券2</th>\n      <th>実在債券3</th>\n      <th>実在債券4</th>\n      <th>実在債券5</th>\n      <th>実在債券6</th>\n      <th>実在債券7</th>\n      <th>実在債券8</th>\n      <th>実在債券9</th>\n      <th>実在債券10</th>\n      <th>実在債券11</th>\n      <th>実在債券12</th>\n      <th>実在債券13</th>\n      <th>実在債券14</th>\n      <th>実在債券15</th>\n      <th>実在債券16</th>\n      <th>実在債券17</th>\n      <th>実在債券18</th>\n    </tr>\n    <tr>\n      <th>年</th>\n      <th></th>\n      <th></th>\n      <th></th>\n      <th></th>\n      <th></th>\n      <th></th>\n      <th></th>\n      <th></th>\n      <th></th>\n      <th></th>\n      <th></th>\n      <th></th>\n      <th></th>\n      <th></th>\n      <th></th>\n      <th></th>\n      <th></th>\n      <th></th>\n    </tr>\n  </thead>\n  <tbody>\n    <tr>\n      <th>2021-11-05</th>\n      <td>-101.488356</td>\n      <td>-102.740</td>\n      <td>-102.519178</td>\n      <td>-102.883425</td>\n      <td>-103.073425</td>\n      <td>-103.261507</td>\n      <td>-102.60726</td>\n      <td>-103.995753</td>\n      <td>-99.704521</td>\n      <td>-104.273836</td>\n      <td>-98.954521</td>\n      <td>-103.657671</td>\n      <td>-100.901096</td>\n      <td>-111.657397</td>\n      <td>-103.319589</td>\n      <td>-110.198904</td>\n      <td>-101.179178</td>\n      <td>-104.993836</td>\n    </tr>\n    <tr>\n      <th>2022-02-15</th>\n      <td>106.625000</td>\n      <td>109.125</td>\n      <td>7.875000</td>\n      <td>8.250000</td>\n      <td>8.250000</td>\n      <td>8.375000</td>\n      <td>8.00000</td>\n      <td>8.750000</td>\n      <td>6.875000</td>\n      <td>8.875000</td>\n      <td>6.875000</td>\n      <td>8.625000</td>\n      <td>7.750000</td>\n      <td>11.250000</td>\n      <td>8.500000</td>\n      <td>10.500000</td>\n      <td>7.875000</td>\n      <td>8.875000</td>\n    </tr>\n    <tr>\n      <th>2022-08-15</th>\n      <td>0.000000</td>\n      <td>0.000</td>\n      <td>107.875000</td>\n      <td>108.250000</td>\n      <td>8.250000</td>\n      <td>8.375000</td>\n      <td>8.00000</td>\n      <td>8.750000</td>\n      <td>6.875000</td>\n      <td>8.875000</td>\n      <td>6.875000</td>\n      <td>8.625000</td>\n      <td>7.750000</td>\n      <td>11.250000</td>\n      <td>8.500000</td>\n      <td>10.500000</td>\n      <td>7.875000</td>\n      <td>8.875000</td>\n    </tr>\n    <tr>\n      <th>2023-02-15</th>\n      <td>0.000000</td>\n      <td>0.000</td>\n      <td>0.000000</td>\n      <td>0.000000</td>\n      <td>108.250000</td>\n      <td>108.375000</td>\n      <td>8.00000</td>\n      <td>8.750000</td>\n      <td>6.875000</td>\n      <td>8.875000</td>\n      <td>6.875000</td>\n      <td>8.625000</td>\n      <td>7.750000</td>\n      <td>11.250000</td>\n      <td>8.500000</td>\n      <td>10.500000</td>\n      <td>7.875000</td>\n      <td>8.875000</td>\n    </tr>\n    <tr>\n      <th>2023-08-15</th>\n      <td>0.000000</td>\n      <td>0.000</td>\n      <td>0.000000</td>\n      <td>0.000000</td>\n      <td>0.000000</td>\n      <td>0.000000</td>\n      <td>108.00000</td>\n      <td>108.750000</td>\n      <td>6.875000</td>\n      <td>8.875000</td>\n      <td>6.875000</td>\n      <td>8.625000</td>\n      <td>7.750000</td>\n      <td>11.250000</td>\n      <td>8.500000</td>\n      <td>10.500000</td>\n      <td>7.875000</td>\n      <td>8.875000</td>\n    </tr>\n    <tr>\n      <th>2024-02-15</th>\n      <td>0.000000</td>\n      <td>0.000</td>\n      <td>0.000000</td>\n      <td>0.000000</td>\n      <td>0.000000</td>\n      <td>0.000000</td>\n      <td>0.00000</td>\n      <td>0.000000</td>\n      <td>106.875000</td>\n      <td>108.875000</td>\n      <td>6.875000</td>\n      <td>8.625000</td>\n      <td>7.750000</td>\n      <td>11.250000</td>\n      <td>8.500000</td>\n      <td>10.500000</td>\n      <td>7.875000</td>\n      <td>8.875000</td>\n    </tr>\n    <tr>\n      <th>2024-08-15</th>\n      <td>0.000000</td>\n      <td>0.000</td>\n      <td>0.000000</td>\n      <td>0.000000</td>\n      <td>0.000000</td>\n      <td>0.000000</td>\n      <td>0.00000</td>\n      <td>0.000000</td>\n      <td>0.000000</td>\n      <td>0.000000</td>\n      <td>106.875000</td>\n      <td>108.625000</td>\n      <td>7.750000</td>\n      <td>11.250000</td>\n      <td>8.500000</td>\n      <td>10.500000</td>\n      <td>7.875000</td>\n      <td>8.875000</td>\n    </tr>\n    <tr>\n      <th>2025-02-15</th>\n      <td>0.000000</td>\n      <td>0.000</td>\n      <td>0.000000</td>\n      <td>0.000000</td>\n      <td>0.000000</td>\n      <td>0.000000</td>\n      <td>0.00000</td>\n      <td>0.000000</td>\n      <td>0.000000</td>\n      <td>0.000000</td>\n      <td>0.000000</td>\n      <td>0.000000</td>\n      <td>107.750000</td>\n      <td>111.250000</td>\n      <td>8.500000</td>\n      <td>10.500000</td>\n      <td>7.875000</td>\n      <td>8.875000</td>\n    </tr>\n    <tr>\n      <th>2025-08-15</th>\n      <td>0.000000</td>\n      <td>0.000</td>\n      <td>0.000000</td>\n      <td>0.000000</td>\n      <td>0.000000</td>\n      <td>0.000000</td>\n      <td>0.00000</td>\n      <td>0.000000</td>\n      <td>0.000000</td>\n      <td>0.000000</td>\n      <td>0.000000</td>\n      <td>0.000000</td>\n      <td>0.000000</td>\n      <td>0.000000</td>\n      <td>108.500000</td>\n      <td>110.500000</td>\n      <td>7.875000</td>\n      <td>8.875000</td>\n    </tr>\n    <tr>\n      <th>2026-02-15</th>\n      <td>0.000000</td>\n      <td>0.000</td>\n      <td>0.000000</td>\n      <td>0.000000</td>\n      <td>0.000000</td>\n      <td>0.000000</td>\n      <td>0.00000</td>\n      <td>0.000000</td>\n      <td>0.000000</td>\n      <td>0.000000</td>\n      <td>0.000000</td>\n      <td>0.000000</td>\n      <td>0.000000</td>\n      <td>0.000000</td>\n      <td>0.000000</td>\n      <td>0.000000</td>\n      <td>107.875000</td>\n      <td>108.875000</td>\n    </tr>\n  </tbody>\n</table>\n</div>"
     },
     "metadata": {},
     "execution_count": 7
    }
   ],
   "source": [
    "data = [[now] + list(-bond_data['価格'])]\n",
    "for i, t in enumerate(debt_data['支払日']):\n",
    "    datum = [t]\n",
    "    for j in bond_data.itertuples():\n",
    "        datum.append(j.クーポン if j.満期日>t else j.クーポン+100 if j.満期日==t else 0)\n",
    "    data.append(datum)\n",
    "\n",
    "cash_flow = pd.DataFrame(data, columns=['年']+['実在債券{0}'.format(i+1) for i in range(len(bond_data))]).set_index('年')\n",
    "cash_flow"
   ]
  },
  {
   "cell_type": "markdown",
   "metadata": {},
   "source": [
    "## (a)簡単なキャッシュ・フロー・マッチング\n",
    "ここに、余剰資金を運用するための人工的な債券のキャッシュ・フローを追加する。<br>\n",
    " 今回は金利が$0$なので、例えば$i$期間後から$i+1$期間後までの間の再投資を表現するキャッシュ・フローは\n",
    "\\begin{align}\n",
    "(0,0,\\cdots,0,-1,1,0,\\cdots,0 )\n",
    "\\end{align}\n",
    "となる。($i=0,1,2,\\cdots,n-1$)"
   ]
  },
  {
   "cell_type": "code",
   "execution_count": 8,
   "metadata": {},
   "outputs": [
    {
     "output_type": "execute_result",
     "data": {
      "text/plain": "                 実在債券1    実在債券2       実在債券3       実在債券4       実在債券5  \\\n年                                                                     \n2021-11-05 -101.488356 -102.740 -102.519178 -102.883425 -103.073425   \n2022-02-15  106.625000  109.125    7.875000    8.250000    8.250000   \n2022-08-15    0.000000    0.000  107.875000  108.250000    8.250000   \n2023-02-15    0.000000    0.000    0.000000    0.000000  108.250000   \n2023-08-15    0.000000    0.000    0.000000    0.000000    0.000000   \n2024-02-15    0.000000    0.000    0.000000    0.000000    0.000000   \n2024-08-15    0.000000    0.000    0.000000    0.000000    0.000000   \n2025-02-15    0.000000    0.000    0.000000    0.000000    0.000000   \n2025-08-15    0.000000    0.000    0.000000    0.000000    0.000000   \n2026-02-15    0.000000    0.000    0.000000    0.000000    0.000000   \n\n                 実在債券6      実在債券7       実在債券8       実在債券9      実在債券10  ...    \\\n年                                                                      ...     \n2021-11-05 -103.261507 -102.60726 -103.995753  -99.704521 -104.273836  ...     \n2022-02-15    8.375000    8.00000    8.750000    6.875000    8.875000  ...     \n2022-08-15    8.375000    8.00000    8.750000    6.875000    8.875000  ...     \n2023-02-15  108.375000    8.00000    8.750000    6.875000    8.875000  ...     \n2023-08-15    0.000000  108.00000  108.750000    6.875000    8.875000  ...     \n2024-02-15    0.000000    0.00000    0.000000  106.875000  108.875000  ...     \n2024-08-15    0.000000    0.00000    0.000000    0.000000    0.000000  ...     \n2025-02-15    0.000000    0.00000    0.000000    0.000000    0.000000  ...     \n2025-08-15    0.000000    0.00000    0.000000    0.000000    0.000000  ...     \n2026-02-15    0.000000    0.00000    0.000000    0.000000    0.000000  ...     \n\n                実在債券18  人工債券1  人工債券2  人工債券3  人工債券4  人工債券5  人工債券6  人工債券7  \\\n年                                                                         \n2021-11-05 -104.993836     -1      0      0      0      0      0      0   \n2022-02-15    8.875000      1     -1      0      0      0      0      0   \n2022-08-15    8.875000      0      1     -1      0      0      0      0   \n2023-02-15    8.875000      0      0      1     -1      0      0      0   \n2023-08-15    8.875000      0      0      0      1     -1      0      0   \n2024-02-15    8.875000      0      0      0      0      1     -1      0   \n2024-08-15    8.875000      0      0      0      0      0      1     -1   \n2025-02-15    8.875000      0      0      0      0      0      0      1   \n2025-08-15    8.875000      0      0      0      0      0      0      0   \n2026-02-15  108.875000      0      0      0      0      0      0      0   \n\n            人工債券8  人工債券9  \n年                         \n2021-11-05      0      0  \n2022-02-15      0      0  \n2022-08-15      0      0  \n2023-02-15      0      0  \n2023-08-15      0      0  \n2024-02-15      0      0  \n2024-08-15      0      0  \n2025-02-15     -1      0  \n2025-08-15      1     -1  \n2026-02-15      0      1  \n\n[10 rows x 27 columns]",
      "text/html": "<div>\n<style scoped>\n    .dataframe tbody tr th:only-of-type {\n        vertical-align: middle;\n    }\n\n    .dataframe tbody tr th {\n        vertical-align: top;\n    }\n\n    .dataframe thead th {\n        text-align: right;\n    }\n</style>\n<table border=\"1\" class=\"dataframe\">\n  <thead>\n    <tr style=\"text-align: right;\">\n      <th></th>\n      <th>実在債券1</th>\n      <th>実在債券2</th>\n      <th>実在債券3</th>\n      <th>実在債券4</th>\n      <th>実在債券5</th>\n      <th>実在債券6</th>\n      <th>実在債券7</th>\n      <th>実在債券8</th>\n      <th>実在債券9</th>\n      <th>実在債券10</th>\n      <th>...</th>\n      <th>実在債券18</th>\n      <th>人工債券1</th>\n      <th>人工債券2</th>\n      <th>人工債券3</th>\n      <th>人工債券4</th>\n      <th>人工債券5</th>\n      <th>人工債券6</th>\n      <th>人工債券7</th>\n      <th>人工債券8</th>\n      <th>人工債券9</th>\n    </tr>\n    <tr>\n      <th>年</th>\n      <th></th>\n      <th></th>\n      <th></th>\n      <th></th>\n      <th></th>\n      <th></th>\n      <th></th>\n      <th></th>\n      <th></th>\n      <th></th>\n      <th></th>\n      <th></th>\n      <th></th>\n      <th></th>\n      <th></th>\n      <th></th>\n      <th></th>\n      <th></th>\n      <th></th>\n      <th></th>\n      <th></th>\n    </tr>\n  </thead>\n  <tbody>\n    <tr>\n      <th>2021-11-05</th>\n      <td>-101.488356</td>\n      <td>-102.740</td>\n      <td>-102.519178</td>\n      <td>-102.883425</td>\n      <td>-103.073425</td>\n      <td>-103.261507</td>\n      <td>-102.60726</td>\n      <td>-103.995753</td>\n      <td>-99.704521</td>\n      <td>-104.273836</td>\n      <td>...</td>\n      <td>-104.993836</td>\n      <td>-1</td>\n      <td>0</td>\n      <td>0</td>\n      <td>0</td>\n      <td>0</td>\n      <td>0</td>\n      <td>0</td>\n      <td>0</td>\n      <td>0</td>\n    </tr>\n    <tr>\n      <th>2022-02-15</th>\n      <td>106.625000</td>\n      <td>109.125</td>\n      <td>7.875000</td>\n      <td>8.250000</td>\n      <td>8.250000</td>\n      <td>8.375000</td>\n      <td>8.00000</td>\n      <td>8.750000</td>\n      <td>6.875000</td>\n      <td>8.875000</td>\n      <td>...</td>\n      <td>8.875000</td>\n      <td>1</td>\n      <td>-1</td>\n      <td>0</td>\n      <td>0</td>\n      <td>0</td>\n      <td>0</td>\n      <td>0</td>\n      <td>0</td>\n      <td>0</td>\n    </tr>\n    <tr>\n      <th>2022-08-15</th>\n      <td>0.000000</td>\n      <td>0.000</td>\n      <td>107.875000</td>\n      <td>108.250000</td>\n      <td>8.250000</td>\n      <td>8.375000</td>\n      <td>8.00000</td>\n      <td>8.750000</td>\n      <td>6.875000</td>\n      <td>8.875000</td>\n      <td>...</td>\n      <td>8.875000</td>\n      <td>0</td>\n      <td>1</td>\n      <td>-1</td>\n      <td>0</td>\n      <td>0</td>\n      <td>0</td>\n      <td>0</td>\n      <td>0</td>\n      <td>0</td>\n    </tr>\n    <tr>\n      <th>2023-02-15</th>\n      <td>0.000000</td>\n      <td>0.000</td>\n      <td>0.000000</td>\n      <td>0.000000</td>\n      <td>108.250000</td>\n      <td>108.375000</td>\n      <td>8.00000</td>\n      <td>8.750000</td>\n      <td>6.875000</td>\n      <td>8.875000</td>\n      <td>...</td>\n      <td>8.875000</td>\n      <td>0</td>\n      <td>0</td>\n      <td>1</td>\n      <td>-1</td>\n      <td>0</td>\n      <td>0</td>\n      <td>0</td>\n      <td>0</td>\n      <td>0</td>\n    </tr>\n    <tr>\n      <th>2023-08-15</th>\n      <td>0.000000</td>\n      <td>0.000</td>\n      <td>0.000000</td>\n      <td>0.000000</td>\n      <td>0.000000</td>\n      <td>0.000000</td>\n      <td>108.00000</td>\n      <td>108.750000</td>\n      <td>6.875000</td>\n      <td>8.875000</td>\n      <td>...</td>\n      <td>8.875000</td>\n      <td>0</td>\n      <td>0</td>\n      <td>0</td>\n      <td>1</td>\n      <td>-1</td>\n      <td>0</td>\n      <td>0</td>\n      <td>0</td>\n      <td>0</td>\n    </tr>\n    <tr>\n      <th>2024-02-15</th>\n      <td>0.000000</td>\n      <td>0.000</td>\n      <td>0.000000</td>\n      <td>0.000000</td>\n      <td>0.000000</td>\n      <td>0.000000</td>\n      <td>0.00000</td>\n      <td>0.000000</td>\n      <td>106.875000</td>\n      <td>108.875000</td>\n      <td>...</td>\n      <td>8.875000</td>\n      <td>0</td>\n      <td>0</td>\n      <td>0</td>\n      <td>0</td>\n      <td>1</td>\n      <td>-1</td>\n      <td>0</td>\n      <td>0</td>\n      <td>0</td>\n    </tr>\n    <tr>\n      <th>2024-08-15</th>\n      <td>0.000000</td>\n      <td>0.000</td>\n      <td>0.000000</td>\n      <td>0.000000</td>\n      <td>0.000000</td>\n      <td>0.000000</td>\n      <td>0.00000</td>\n      <td>0.000000</td>\n      <td>0.000000</td>\n      <td>0.000000</td>\n      <td>...</td>\n      <td>8.875000</td>\n      <td>0</td>\n      <td>0</td>\n      <td>0</td>\n      <td>0</td>\n      <td>0</td>\n      <td>1</td>\n      <td>-1</td>\n      <td>0</td>\n      <td>0</td>\n    </tr>\n    <tr>\n      <th>2025-02-15</th>\n      <td>0.000000</td>\n      <td>0.000</td>\n      <td>0.000000</td>\n      <td>0.000000</td>\n      <td>0.000000</td>\n      <td>0.000000</td>\n      <td>0.00000</td>\n      <td>0.000000</td>\n      <td>0.000000</td>\n      <td>0.000000</td>\n      <td>...</td>\n      <td>8.875000</td>\n      <td>0</td>\n      <td>0</td>\n      <td>0</td>\n      <td>0</td>\n      <td>0</td>\n      <td>0</td>\n      <td>1</td>\n      <td>-1</td>\n      <td>0</td>\n    </tr>\n    <tr>\n      <th>2025-08-15</th>\n      <td>0.000000</td>\n      <td>0.000</td>\n      <td>0.000000</td>\n      <td>0.000000</td>\n      <td>0.000000</td>\n      <td>0.000000</td>\n      <td>0.00000</td>\n      <td>0.000000</td>\n      <td>0.000000</td>\n      <td>0.000000</td>\n      <td>...</td>\n      <td>8.875000</td>\n      <td>0</td>\n      <td>0</td>\n      <td>0</td>\n      <td>0</td>\n      <td>0</td>\n      <td>0</td>\n      <td>0</td>\n      <td>1</td>\n      <td>-1</td>\n    </tr>\n    <tr>\n      <th>2026-02-15</th>\n      <td>0.000000</td>\n      <td>0.000</td>\n      <td>0.000000</td>\n      <td>0.000000</td>\n      <td>0.000000</td>\n      <td>0.000000</td>\n      <td>0.00000</td>\n      <td>0.000000</td>\n      <td>0.000000</td>\n      <td>0.000000</td>\n      <td>...</td>\n      <td>108.875000</td>\n      <td>0</td>\n      <td>0</td>\n      <td>0</td>\n      <td>0</td>\n      <td>0</td>\n      <td>0</td>\n      <td>0</td>\n      <td>0</td>\n      <td>1</td>\n    </tr>\n  </tbody>\n</table>\n<p>10 rows × 27 columns</p>\n</div>"
     },
     "metadata": {},
     "execution_count": 8
    }
   ],
   "source": [
    "for i in range(len(cash_flow)-1):\n",
    "    datum = [0]*(len(debt_data)+1)\n",
    "    datum[i] = -1\n",
    "    datum[i+1] = 1\n",
    "    cash_flow['人工債券{0}'.format(i+1)]=datum\n",
    "cash_flow"
   ]
  },
  {
   "cell_type": "markdown",
   "metadata": {},
   "source": [
    "利用可能な債券の数を$m$、$j$番目の債券の価格を$p_j$とする。<br>\n",
    "債務の生じる期間を$n$期間とし、$i$期間後の債務を$y_i$、$j$番目の債券の$i$期間後のクーポン(とあれば満期返戻価格)を$c_{ij}$とする。<br>\n",
    "$j$番目の債券の保有量を$x_j$とした時、\n",
    "\\begin{align}\n",
    "\\min_{\\bf x}&\\sum_{j=1}^mp_jx_j\\\\\n",
    "s.t.\\ \\sum_{j=1}^mc_{ij}x_j\\geq& y_i\\ \\ (i=1,2,\\cdots,n)\\\\\n",
    "x_j\\geq& 0\\ \\ (j=1,2,\\cdots,m)\n",
    "\\end{align}"
   ]
  },
  {
   "cell_type": "code",
   "execution_count": 9,
   "metadata": {},
   "outputs": [],
   "source": [
    "from pulp import *\n",
    "m = LpProblem() # 最小化問題として定式化\n",
    "x = [LpVariable('x{0}'.format(i+1), lowBound=0) for i in range(len(cash_flow.columns))] # 正の変数xの設定\n",
    "m += - (np.array(cash_flow[cash_flow.index==now])[0]*x).sum()  # 目的関数\n",
    "for i, t in enumerate(debt_data['支払日']):\n",
    "    # i期間後に生じる債務\n",
    "    y = debt_data['債務価格'][i]\n",
    "    # それぞれの債券でi期間後に得られるリターン\n",
    "    c = np.array(cash_flow[cash_flow.index==t])[0]\n",
    "    # 制約条件\n",
    "    m += (c*x).sum() >= y"
   ]
  },
  {
   "cell_type": "code",
   "execution_count": 10,
   "metadata": {},
   "outputs": [
    {
     "output_type": "execute_result",
     "data": {
      "text/plain": "1"
     },
     "metadata": {},
     "execution_count": 10
    }
   ],
   "source": [
    "m.solve() # ソルバーの実行"
   ]
  },
  {
   "cell_type": "code",
   "execution_count": 66,
   "metadata": {},
   "outputs": [
    {
     "output_type": "execute_result",
     "data": {
      "text/plain": "18"
     },
     "metadata": {},
     "execution_count": 66
    }
   ],
   "source": []
  },
  {
   "cell_type": "code",
   "execution_count": 11,
   "metadata": {},
   "outputs": [
    {
     "output_type": "execute_result",
     "data": {
      "text/plain": "                 (a)\n実在債券1       0.000000\n実在債券2       0.000000\n実在債券3       0.000000\n実在債券4     117.899790\n実在債券5       0.000000\n実在債券6       0.000000\n実在債券7       0.000000\n実在債券8     167.353260\n実在債券9       0.000000\n実在債券10      0.000000\n実在債券11      0.000000\n実在債券12      0.000000\n実在債券13      0.000000\n実在債券14    129.960120\n実在債券15      0.000000\n実在債券16      0.000000\n実在債券17      0.000000\n実在債券18    135.881100\n総費用     58311.649147",
      "text/html": "<div>\n<style scoped>\n    .dataframe tbody tr th:only-of-type {\n        vertical-align: middle;\n    }\n\n    .dataframe tbody tr th {\n        vertical-align: top;\n    }\n\n    .dataframe thead th {\n        text-align: right;\n    }\n</style>\n<table border=\"1\" class=\"dataframe\">\n  <thead>\n    <tr style=\"text-align: right;\">\n      <th></th>\n      <th>(a)</th>\n    </tr>\n  </thead>\n  <tbody>\n    <tr>\n      <th>実在債券1</th>\n      <td>0.000000</td>\n    </tr>\n    <tr>\n      <th>実在債券2</th>\n      <td>0.000000</td>\n    </tr>\n    <tr>\n      <th>実在債券3</th>\n      <td>0.000000</td>\n    </tr>\n    <tr>\n      <th>実在債券4</th>\n      <td>117.899790</td>\n    </tr>\n    <tr>\n      <th>実在債券5</th>\n      <td>0.000000</td>\n    </tr>\n    <tr>\n      <th>実在債券6</th>\n      <td>0.000000</td>\n    </tr>\n    <tr>\n      <th>実在債券7</th>\n      <td>0.000000</td>\n    </tr>\n    <tr>\n      <th>実在債券8</th>\n      <td>167.353260</td>\n    </tr>\n    <tr>\n      <th>実在債券9</th>\n      <td>0.000000</td>\n    </tr>\n    <tr>\n      <th>実在債券10</th>\n      <td>0.000000</td>\n    </tr>\n    <tr>\n      <th>実在債券11</th>\n      <td>0.000000</td>\n    </tr>\n    <tr>\n      <th>実在債券12</th>\n      <td>0.000000</td>\n    </tr>\n    <tr>\n      <th>実在債券13</th>\n      <td>0.000000</td>\n    </tr>\n    <tr>\n      <th>実在債券14</th>\n      <td>129.960120</td>\n    </tr>\n    <tr>\n      <th>実在債券15</th>\n      <td>0.000000</td>\n    </tr>\n    <tr>\n      <th>実在債券16</th>\n      <td>0.000000</td>\n    </tr>\n    <tr>\n      <th>実在債券17</th>\n      <td>0.000000</td>\n    </tr>\n    <tr>\n      <th>実在債券18</th>\n      <td>135.881100</td>\n    </tr>\n    <tr>\n      <th>総費用</th>\n      <td>58311.649147</td>\n    </tr>\n  </tbody>\n</table>\n</div>"
     },
     "metadata": {},
     "execution_count": 11
    }
   ],
   "source": [
    "ans_a = pd.DataFrame(data=[value(x[i]) for i in range(len(bond_data.index))], columns=['(a)'], index=cash_flow.columns[:len(bond_data.index)])\n",
    "ans_a.loc['総費用'] = sum([value(x[i])*bond_data['価格'][i] for i in range(len(bond_data))])\n",
    "ans_a"
   ]
  },
  {
   "cell_type": "markdown",
   "metadata": {},
   "source": [
    "これが費用最小のポートフォリオとなる。"
   ]
  },
  {
   "cell_type": "markdown",
   "metadata": {},
   "source": [
    "## (b)複雑なキャッシュ・フロー・マッチング"
   ]
  },
  {
   "cell_type": "markdown",
   "metadata": {},
   "source": [
    "余剰資金を運用するための人工的な債券のキャッシュ・フローを追加する。<br>\n",
    "連続金利でのフォワードレートは\n",
    "\\begin{align}\n",
    "f_{t_1,t_2} = \\frac{r(t_2)t_2-r(t_1)t_1}{t_2-t_1}\n",
    "\\end{align}\n",
    "である。ただし、現在(2021/11/5)から$i$回目の配当支払日までの時間を$t_i$年とする。<br>\n",
    "なので、例えば$i$期間後から$i+1$期間後までの間の再投資を表現するキャッシュ・フローは\n",
    "\\begin{align}\n",
    "(0,0,\\cdots,0,-1,1+f_{t_i,t_{i+1}},0,\\cdots,0 )\n",
    "\\end{align}"
   ]
  },
  {
   "cell_type": "code",
   "execution_count": 12,
   "metadata": {},
   "outputs": [
    {
     "output_type": "execute_result",
     "data": {
      "text/plain": "                 実在債券1    実在債券2       実在債券3       実在債券4       実在債券5  \\\n年                                                                     \n2021-11-05 -101.488356 -102.740 -102.519178 -102.883425 -103.073425   \n2022-02-15  106.625000  109.125    7.875000    8.250000    8.250000   \n2022-08-15    0.000000    0.000  107.875000  108.250000    8.250000   \n2023-02-15    0.000000    0.000    0.000000    0.000000  108.250000   \n2023-08-15    0.000000    0.000    0.000000    0.000000    0.000000   \n2024-02-15    0.000000    0.000    0.000000    0.000000    0.000000   \n2024-08-15    0.000000    0.000    0.000000    0.000000    0.000000   \n2025-02-15    0.000000    0.000    0.000000    0.000000    0.000000   \n2025-08-15    0.000000    0.000    0.000000    0.000000    0.000000   \n2026-02-15    0.000000    0.000    0.000000    0.000000    0.000000   \n\n                 実在債券6      実在債券7       実在債券8       実在債券9      実在債券10  \\\n年                                                                       \n2021-11-05 -103.261507 -102.60726 -103.995753  -99.704521 -104.273836   \n2022-02-15    8.375000    8.00000    8.750000    6.875000    8.875000   \n2022-08-15    8.375000    8.00000    8.750000    6.875000    8.875000   \n2023-02-15  108.375000    8.00000    8.750000    6.875000    8.875000   \n2023-08-15    0.000000  108.00000  108.750000    6.875000    8.875000   \n2024-02-15    0.000000    0.00000    0.000000  106.875000  108.875000   \n2024-08-15    0.000000    0.00000    0.000000    0.000000    0.000000   \n2025-02-15    0.000000    0.00000    0.000000    0.000000    0.000000   \n2025-08-15    0.000000    0.00000    0.000000    0.000000    0.000000   \n2026-02-15    0.000000    0.00000    0.000000    0.000000    0.000000   \n\n              ...         実在債券18     人工債券1     人工債券2     人工債券3     人工債券4  \\\n年             ...                                                          \n2021-11-05    ...    -104.993836 -1.000000  0.000000  0.000000  0.000000   \n2022-02-15    ...       8.875000  1.043334 -1.000000  0.000000  0.000000   \n2022-08-15    ...       8.875000  0.000000  1.053706 -1.000000  0.000000   \n2023-02-15    ...       8.875000  0.000000  0.000000  1.066613 -1.000000   \n2023-08-15    ...       8.875000  0.000000  0.000000  0.000000  1.077363   \n2024-02-15    ...       8.875000  0.000000  0.000000  0.000000  0.000000   \n2024-08-15    ...       8.875000  0.000000  0.000000  0.000000  0.000000   \n2025-02-15    ...       8.875000  0.000000  0.000000  0.000000  0.000000   \n2025-08-15    ...       8.875000  0.000000  0.000000  0.000000  0.000000   \n2026-02-15    ...     108.875000  0.000000  0.000000  0.000000  0.000000   \n\n               人工債券5     人工債券6     人工債券7     人工債券8     人工債券9  \n年                                                             \n2021-11-05  0.000000  0.000000  0.000000  0.000000  0.000000  \n2022-02-15  0.000000  0.000000  0.000000  0.000000  0.000000  \n2022-08-15  0.000000  0.000000  0.000000  0.000000  0.000000  \n2023-02-15  0.000000  0.000000  0.000000  0.000000  0.000000  \n2023-08-15 -1.000000  0.000000  0.000000  0.000000  0.000000  \n2024-02-15  1.084698 -1.000000  0.000000  0.000000  0.000000  \n2024-08-15  0.000000  1.088025 -1.000000  0.000000  0.000000  \n2025-02-15  0.000000  0.000000  1.087318 -1.000000  0.000000  \n2025-08-15  0.000000  0.000000  0.000000  1.083259 -1.000000  \n2026-02-15  0.000000  0.000000  0.000000  0.000000  1.077113  \n\n[10 rows x 27 columns]",
      "text/html": "<div>\n<style scoped>\n    .dataframe tbody tr th:only-of-type {\n        vertical-align: middle;\n    }\n\n    .dataframe tbody tr th {\n        vertical-align: top;\n    }\n\n    .dataframe thead th {\n        text-align: right;\n    }\n</style>\n<table border=\"1\" class=\"dataframe\">\n  <thead>\n    <tr style=\"text-align: right;\">\n      <th></th>\n      <th>実在債券1</th>\n      <th>実在債券2</th>\n      <th>実在債券3</th>\n      <th>実在債券4</th>\n      <th>実在債券5</th>\n      <th>実在債券6</th>\n      <th>実在債券7</th>\n      <th>実在債券8</th>\n      <th>実在債券9</th>\n      <th>実在債券10</th>\n      <th>...</th>\n      <th>実在債券18</th>\n      <th>人工債券1</th>\n      <th>人工債券2</th>\n      <th>人工債券3</th>\n      <th>人工債券4</th>\n      <th>人工債券5</th>\n      <th>人工債券6</th>\n      <th>人工債券7</th>\n      <th>人工債券8</th>\n      <th>人工債券9</th>\n    </tr>\n    <tr>\n      <th>年</th>\n      <th></th>\n      <th></th>\n      <th></th>\n      <th></th>\n      <th></th>\n      <th></th>\n      <th></th>\n      <th></th>\n      <th></th>\n      <th></th>\n      <th></th>\n      <th></th>\n      <th></th>\n      <th></th>\n      <th></th>\n      <th></th>\n      <th></th>\n      <th></th>\n      <th></th>\n      <th></th>\n      <th></th>\n    </tr>\n  </thead>\n  <tbody>\n    <tr>\n      <th>2021-11-05</th>\n      <td>-101.488356</td>\n      <td>-102.740</td>\n      <td>-102.519178</td>\n      <td>-102.883425</td>\n      <td>-103.073425</td>\n      <td>-103.261507</td>\n      <td>-102.60726</td>\n      <td>-103.995753</td>\n      <td>-99.704521</td>\n      <td>-104.273836</td>\n      <td>...</td>\n      <td>-104.993836</td>\n      <td>-1.000000</td>\n      <td>0.000000</td>\n      <td>0.000000</td>\n      <td>0.000000</td>\n      <td>0.000000</td>\n      <td>0.000000</td>\n      <td>0.000000</td>\n      <td>0.000000</td>\n      <td>0.000000</td>\n    </tr>\n    <tr>\n      <th>2022-02-15</th>\n      <td>106.625000</td>\n      <td>109.125</td>\n      <td>7.875000</td>\n      <td>8.250000</td>\n      <td>8.250000</td>\n      <td>8.375000</td>\n      <td>8.00000</td>\n      <td>8.750000</td>\n      <td>6.875000</td>\n      <td>8.875000</td>\n      <td>...</td>\n      <td>8.875000</td>\n      <td>1.043334</td>\n      <td>-1.000000</td>\n      <td>0.000000</td>\n      <td>0.000000</td>\n      <td>0.000000</td>\n      <td>0.000000</td>\n      <td>0.000000</td>\n      <td>0.000000</td>\n      <td>0.000000</td>\n    </tr>\n    <tr>\n      <th>2022-08-15</th>\n      <td>0.000000</td>\n      <td>0.000</td>\n      <td>107.875000</td>\n      <td>108.250000</td>\n      <td>8.250000</td>\n      <td>8.375000</td>\n      <td>8.00000</td>\n      <td>8.750000</td>\n      <td>6.875000</td>\n      <td>8.875000</td>\n      <td>...</td>\n      <td>8.875000</td>\n      <td>0.000000</td>\n      <td>1.053706</td>\n      <td>-1.000000</td>\n      <td>0.000000</td>\n      <td>0.000000</td>\n      <td>0.000000</td>\n      <td>0.000000</td>\n      <td>0.000000</td>\n      <td>0.000000</td>\n    </tr>\n    <tr>\n      <th>2023-02-15</th>\n      <td>0.000000</td>\n      <td>0.000</td>\n      <td>0.000000</td>\n      <td>0.000000</td>\n      <td>108.250000</td>\n      <td>108.375000</td>\n      <td>8.00000</td>\n      <td>8.750000</td>\n      <td>6.875000</td>\n      <td>8.875000</td>\n      <td>...</td>\n      <td>8.875000</td>\n      <td>0.000000</td>\n      <td>0.000000</td>\n      <td>1.066613</td>\n      <td>-1.000000</td>\n      <td>0.000000</td>\n      <td>0.000000</td>\n      <td>0.000000</td>\n      <td>0.000000</td>\n      <td>0.000000</td>\n    </tr>\n    <tr>\n      <th>2023-08-15</th>\n      <td>0.000000</td>\n      <td>0.000</td>\n      <td>0.000000</td>\n      <td>0.000000</td>\n      <td>0.000000</td>\n      <td>0.000000</td>\n      <td>108.00000</td>\n      <td>108.750000</td>\n      <td>6.875000</td>\n      <td>8.875000</td>\n      <td>...</td>\n      <td>8.875000</td>\n      <td>0.000000</td>\n      <td>0.000000</td>\n      <td>0.000000</td>\n      <td>1.077363</td>\n      <td>-1.000000</td>\n      <td>0.000000</td>\n      <td>0.000000</td>\n      <td>0.000000</td>\n      <td>0.000000</td>\n    </tr>\n    <tr>\n      <th>2024-02-15</th>\n      <td>0.000000</td>\n      <td>0.000</td>\n      <td>0.000000</td>\n      <td>0.000000</td>\n      <td>0.000000</td>\n      <td>0.000000</td>\n      <td>0.00000</td>\n      <td>0.000000</td>\n      <td>106.875000</td>\n      <td>108.875000</td>\n      <td>...</td>\n      <td>8.875000</td>\n      <td>0.000000</td>\n      <td>0.000000</td>\n      <td>0.000000</td>\n      <td>0.000000</td>\n      <td>1.084698</td>\n      <td>-1.000000</td>\n      <td>0.000000</td>\n      <td>0.000000</td>\n      <td>0.000000</td>\n    </tr>\n    <tr>\n      <th>2024-08-15</th>\n      <td>0.000000</td>\n      <td>0.000</td>\n      <td>0.000000</td>\n      <td>0.000000</td>\n      <td>0.000000</td>\n      <td>0.000000</td>\n      <td>0.00000</td>\n      <td>0.000000</td>\n      <td>0.000000</td>\n      <td>0.000000</td>\n      <td>...</td>\n      <td>8.875000</td>\n      <td>0.000000</td>\n      <td>0.000000</td>\n      <td>0.000000</td>\n      <td>0.000000</td>\n      <td>0.000000</td>\n      <td>1.088025</td>\n      <td>-1.000000</td>\n      <td>0.000000</td>\n      <td>0.000000</td>\n    </tr>\n    <tr>\n      <th>2025-02-15</th>\n      <td>0.000000</td>\n      <td>0.000</td>\n      <td>0.000000</td>\n      <td>0.000000</td>\n      <td>0.000000</td>\n      <td>0.000000</td>\n      <td>0.00000</td>\n      <td>0.000000</td>\n      <td>0.000000</td>\n      <td>0.000000</td>\n      <td>...</td>\n      <td>8.875000</td>\n      <td>0.000000</td>\n      <td>0.000000</td>\n      <td>0.000000</td>\n      <td>0.000000</td>\n      <td>0.000000</td>\n      <td>0.000000</td>\n      <td>1.087318</td>\n      <td>-1.000000</td>\n      <td>0.000000</td>\n    </tr>\n    <tr>\n      <th>2025-08-15</th>\n      <td>0.000000</td>\n      <td>0.000</td>\n      <td>0.000000</td>\n      <td>0.000000</td>\n      <td>0.000000</td>\n      <td>0.000000</td>\n      <td>0.00000</td>\n      <td>0.000000</td>\n      <td>0.000000</td>\n      <td>0.000000</td>\n      <td>...</td>\n      <td>8.875000</td>\n      <td>0.000000</td>\n      <td>0.000000</td>\n      <td>0.000000</td>\n      <td>0.000000</td>\n      <td>0.000000</td>\n      <td>0.000000</td>\n      <td>0.000000</td>\n      <td>1.083259</td>\n      <td>-1.000000</td>\n    </tr>\n    <tr>\n      <th>2026-02-15</th>\n      <td>0.000000</td>\n      <td>0.000</td>\n      <td>0.000000</td>\n      <td>0.000000</td>\n      <td>0.000000</td>\n      <td>0.000000</td>\n      <td>0.00000</td>\n      <td>0.000000</td>\n      <td>0.000000</td>\n      <td>0.000000</td>\n      <td>...</td>\n      <td>108.875000</td>\n      <td>0.000000</td>\n      <td>0.000000</td>\n      <td>0.000000</td>\n      <td>0.000000</td>\n      <td>0.000000</td>\n      <td>0.000000</td>\n      <td>0.000000</td>\n      <td>0.000000</td>\n      <td>1.077113</td>\n    </tr>\n  </tbody>\n</table>\n<p>10 rows × 27 columns</p>\n</div>"
     },
     "metadata": {},
     "execution_count": 12
    }
   ],
   "source": [
    "t = np.array([(cash_flow.index[i] - cash_flow.index[0]).days/365 for i in range(len(cash_flow))])\n",
    "for i in range(len(cash_flow)-1):\n",
    "    datum = [0]*(len(debt_data)+1)\n",
    "    datum[i] = -1\n",
    "    datum[i+1] = 1 + (r(t[i+1])*t[i+1] - r(t[i])*t[i])/(t[i+1] - t[i])\n",
    "    cash_flow['人工債券{0}'.format(i+1)]=datum\n",
    "cash_flow"
   ]
  },
  {
   "cell_type": "markdown",
   "metadata": {},
   "source": [
    "この状態で(a)と同じ最適化を行う。以下再掲\n",
    "\n",
    "利用可能な債券の数を$m$、$j$番目の債券の価格を$p_j$とする。<br>\n",
    "債務の生じる期間を$n$期間とし、$i$期間後の債務を$y_i$、$j$番目の債券の$i$期間後のクーポン(とあれば満期返戻価格)を$c_{ij}$とする。<br>\n",
    "$j$番目の債券の保有量を$x_j$とした時、\n",
    "\\begin{align}\n",
    "\\min_{\\bf x}&\\sum_{j=1}^mp_jx_j\\\\\n",
    "s.t.\\ \\sum_{j=1}^mc_{ij}x_j\\geq& y_i\\ \\ (i=1,2,\\cdots,n)\\\\\n",
    "x_j\\geq& 0\\ \\ (j=1,2,\\cdots,m)\n",
    "\\end{align}"
   ]
  },
  {
   "cell_type": "code",
   "execution_count": 13,
   "metadata": {},
   "outputs": [],
   "source": [
    "m = LpProblem() # 最小化問題として定式化\n",
    "x = [LpVariable('x{0}'.format(i+1), lowBound=0) for i in range(len(cash_flow.columns))] # 正の変数xの設定\n",
    "m += - (np.array(cash_flow[cash_flow.index==now])[0]*x).sum()  # 目的関数\n",
    "for i, t in enumerate(debt_data['支払日']):\n",
    "    # i期間後に生じる債務\n",
    "    y = debt_data['債務価格'][i]\n",
    "    # それぞれの債券でi期間後に得られるリターン\n",
    "    c = np.array(cash_flow[cash_flow.index==t])[0]\n",
    "    # 制約条件\n",
    "    m += (c*x).sum() >= y"
   ]
  },
  {
   "cell_type": "code",
   "execution_count": 14,
   "metadata": {},
   "outputs": [
    {
     "output_type": "execute_result",
     "data": {
      "text/plain": "1"
     },
     "metadata": {},
     "execution_count": 14
    }
   ],
   "source": [
    "m.solve() # ソルバーの実行\n"
   ]
  },
  {
   "cell_type": "code",
   "execution_count": 15,
   "metadata": {
    "tags": []
   },
   "outputs": [
    {
     "output_type": "execute_result",
     "data": {
      "text/plain": "                 (b)\n実在債券1       0.000000\n実在債券2       0.000000\n実在債券3       0.000000\n実在債券4     113.808320\n実在債券5       0.000000\n実在債券6       0.000000\n実在債券7       0.000000\n実在債券8     161.003330\n実在債券9       0.000000\n実在債券10      0.000000\n実在債券11      0.000000\n実在債券12      0.000000\n実在債券13      0.000000\n実在債券14    255.585690\n実在債券15      0.000000\n実在債券16      0.000000\n実在債券17      0.000000\n実在債券18      0.000000\n総費用     56990.685246",
      "text/html": "<div>\n<style scoped>\n    .dataframe tbody tr th:only-of-type {\n        vertical-align: middle;\n    }\n\n    .dataframe tbody tr th {\n        vertical-align: top;\n    }\n\n    .dataframe thead th {\n        text-align: right;\n    }\n</style>\n<table border=\"1\" class=\"dataframe\">\n  <thead>\n    <tr style=\"text-align: right;\">\n      <th></th>\n      <th>(b)</th>\n    </tr>\n  </thead>\n  <tbody>\n    <tr>\n      <th>実在債券1</th>\n      <td>0.000000</td>\n    </tr>\n    <tr>\n      <th>実在債券2</th>\n      <td>0.000000</td>\n    </tr>\n    <tr>\n      <th>実在債券3</th>\n      <td>0.000000</td>\n    </tr>\n    <tr>\n      <th>実在債券4</th>\n      <td>113.808320</td>\n    </tr>\n    <tr>\n      <th>実在債券5</th>\n      <td>0.000000</td>\n    </tr>\n    <tr>\n      <th>実在債券6</th>\n      <td>0.000000</td>\n    </tr>\n    <tr>\n      <th>実在債券7</th>\n      <td>0.000000</td>\n    </tr>\n    <tr>\n      <th>実在債券8</th>\n      <td>161.003330</td>\n    </tr>\n    <tr>\n      <th>実在債券9</th>\n      <td>0.000000</td>\n    </tr>\n    <tr>\n      <th>実在債券10</th>\n      <td>0.000000</td>\n    </tr>\n    <tr>\n      <th>実在債券11</th>\n      <td>0.000000</td>\n    </tr>\n    <tr>\n      <th>実在債券12</th>\n      <td>0.000000</td>\n    </tr>\n    <tr>\n      <th>実在債券13</th>\n      <td>0.000000</td>\n    </tr>\n    <tr>\n      <th>実在債券14</th>\n      <td>255.585690</td>\n    </tr>\n    <tr>\n      <th>実在債券15</th>\n      <td>0.000000</td>\n    </tr>\n    <tr>\n      <th>実在債券16</th>\n      <td>0.000000</td>\n    </tr>\n    <tr>\n      <th>実在債券17</th>\n      <td>0.000000</td>\n    </tr>\n    <tr>\n      <th>実在債券18</th>\n      <td>0.000000</td>\n    </tr>\n    <tr>\n      <th>総費用</th>\n      <td>56990.685246</td>\n    </tr>\n  </tbody>\n</table>\n</div>"
     },
     "metadata": {},
     "execution_count": 15
    }
   ],
   "source": [
    "ans_b = pd.DataFrame(data=[value(x[i]) for i in range(len(bond_data.index))], columns=['(b)'], index=cash_flow.columns[:len(bond_data.index)])\n",
    "ans_b.loc['総費用'] = sum([value(x[i])*bond_data['価格'][i] for i in range(len(bond_data))])\n",
    "ans_b"
   ]
  },
  {
   "cell_type": "markdown",
   "metadata": {},
   "source": [
    "これが費用最小のポートフォリオとなる。"
   ]
  },
  {
   "cell_type": "markdown",
   "metadata": {},
   "source": [
    "## (c)デュレーション・マッチング\n",
    "期間$i$における$j$番目の債券のキャッシュフローを$c_{ij}$、債務のキャッシュフローを$y_i$とする。<br>\n",
    "また現在から$i$期間後までの時間を$t_i$年とする。"
   ]
  },
  {
   "cell_type": "code",
   "execution_count": 16,
   "metadata": {},
   "outputs": [],
   "source": [
    "# 時間\n",
    "t = np.array([(cash_flow.index[i] - cash_flow.index[0]).days/365 for i in range(len(cash_flow))])\n",
    "# 債券のキャッシュフローを格納した行列\n",
    "c = np.array(cash_flow.loc[:, cash_flow.columns.str.contains('実在')])\n",
    "# 債務のキャッシュフローを格納した行列\n",
    "y = np.append(0, np.array(debt_data['債務価格']))"
   ]
  },
  {
   "cell_type": "markdown",
   "metadata": {},
   "source": [
    "$j$番目の債券の現在価値を$PV_j$、債務の現在価値を$PV$とすると、\n",
    "\\begin{align}\n",
    "PV_j = \\sum_{i=1}^nc_{ij}e^{-r(t_i)t_i}\\\\\n",
    "PV = \\sum_{i=1}^ny_ie^{-r(t_i)t_i}\n",
    "\\end{align}"
   ]
  },
  {
   "cell_type": "code",
   "execution_count": 17,
   "metadata": {},
   "outputs": [],
   "source": [
    "# 債券の現在価値(bond)\n",
    "PVb = (np.exp(-r(t[1:])*t[1:])*c[1:].T).sum(axis=1)\n",
    "# 債務の現在価値(debt)\n",
    "PVd = (np.exp(-r(t[1:])*t[1:])*y[1:]).sum()"
   ]
  },
  {
   "cell_type": "markdown",
   "metadata": {},
   "source": [
    "また、期間構造のパラメータ$\\alpha_k$の変化に対して守る場合、$j$番目の債券のデュレーションを$D^{(k)}_j$、債務のデュレーションを$D^{(k)}$とすると、\n",
    "\\begin{align}\n",
    "D^{(k)}_j &= -\\frac{1}{PV_j}\\frac{d}{d\\alpha_k}PV_j\\\\\n",
    "&=-\\frac{1}{PV_j}\\sum_{i=1}^nc_{ij}\\frac{d}{d\\alpha_k}e^{-r(t_i)t_i}\\\\\n",
    "&=-\\frac{1}{PV_j}\\sum_{i=1}^nc_{ij}e^{-r(t_i)t_i}(-t_i^kt_i)\\\\\n",
    "&= \\frac{1}{PV_j}\\sum_{i=1}^nt_i^{k+1}c_{ij}e^{-r(t_i)t_i}\\\\\n",
    "D^{(k)} &= -\\frac{1}{PV}\\frac{d}{d\\alpha_k}PV\\\\\n",
    " &= -\\frac{1}{PV}\\frac{d}{d\\alpha_k}\\sum_{i=1}^ny_ie^{-r(t_i)t_i}\\\\\n",
    " &= \\frac{1}{PV}\\sum_{i=1}^nt_i^{k+1}y_ie^{-r(t_i)t_i}\\\\\n",
    "\\end{align}"
   ]
  },
  {
   "cell_type": "code",
   "execution_count": 18,
   "metadata": {},
   "outputs": [],
   "source": [
    "# 債券のデュレーション\n",
    "Db = np.empty((5, len(bond_data)))\n",
    "for k in range(5):\n",
    "    Db[k] = (t**(k+1)*c.T*np.exp(-r(t)*t)).sum(axis=1)/PVb\n",
    "# 債務のデュレーション\n",
    "Dd = np.empty((5))\n",
    "for k in range(5):\n",
    "    Dd[k] = (t**(k+1)*y*np.exp(-r(t)*t)).sum()/PVd"
   ]
  },
  {
   "cell_type": "markdown",
   "metadata": {},
   "source": [
    "したがって$j$番目の債券の購入単位を$x_j$とすると、ケース$l$の場合におけるイミュナイズの方程式は、\n",
    "\\begin{align}\n",
    "\\sum_{j=1}^mx_jPV_j &= PV\\\\\n",
    "\\sum_{j=1}^mx_jPV_jD^{(k)}_j &= PVD^{(k)}\\ \\ \\ (k=0,1,\\cdots,l-1)\n",
    "\\end{align}"
   ]
  },
  {
   "cell_type": "markdown",
   "metadata": {},
   "source": [
    "これを制約として、初期の購入価格を最小にする最小問題を解けば良い。\n",
    "\\begin{align}\n",
    "\\min_{\\bf x}\\sum_{j=1}^mx_jp_j\n",
    "\\end{align}"
   ]
  },
  {
   "cell_type": "code",
   "execution_count": 19,
   "metadata": {
    "tags": []
   },
   "outputs": [],
   "source": [
    "ans_df = pd.DataFrame(data=[], columns=['ケース{0}'.format(l) for l in range(1,6)], index=ans_a.index)\n",
    "for l in range(1,6):\n",
    "    m = LpProblem() # 最小化問題として定式化\n",
    "    x = [LpVariable('x{0}'.format(i+1), lowBound=0) for i in range(len(bond_data))] # 正の変数xの設定\n",
    "    m += (bond_data['価格']*x).sum() # 目的関数\n",
    "    m += (PVb*x).sum() == PVd # 現在価値の制約\n",
    "    for k in range(l):\n",
    "        m += (Db[k]*PVb*x).sum() == PVd*Dd[k] # デュレーションの制約\n",
    "    m.solve() # ソルバーの実行\n",
    "\n",
    "    ans_df['ケース{0}'.format(l)] = [value(x[i]) for i in range(len(x))]+[([value(x[i]) for i in range(len(x))]*bond_data['価格']).sum()]"
   ]
  },
  {
   "cell_type": "code",
   "execution_count": 20,
   "metadata": {},
   "outputs": [
    {
     "output_type": "execute_result",
     "data": {
      "text/plain": "                ケース1          ケース2          ケース3          ケース4          ケース5\n実在債券1       0.000000      0.000000      0.000000      0.000000      0.000000\n実在債券2      98.393866    104.526970      0.000000      2.712146      0.000000\n実在債券3       0.000000      0.000000      0.000000      0.000000     26.812528\n実在債券4       0.000000      0.000000      0.000000      0.000000      0.000000\n実在債券5       0.000000      0.000000      0.000000      0.000000    219.963900\n実在債券6       0.000000      0.000000    220.656520    204.228400      0.000000\n実在債券7       0.000000      0.000000      0.000000      0.000000      0.000000\n実在債券8       0.000000      0.000000     18.123733     36.189765      0.000000\n実在債券9       0.000000      0.000000      0.000000      0.000000      0.000000\n実在債券10      0.000000      0.000000      0.000000      0.000000      0.000000\n実在債券11      0.000000      0.000000      0.000000      0.000000     80.017317\n実在債券12      0.000000      0.000000      0.000000      0.000000      0.000000\n実在債券13      0.000000      0.000000      0.000000      0.000000    125.741980\n実在債券14    411.328220    376.261050    166.638300    160.999850      0.000000\n実在債券15      0.000000      0.000000      0.000000      0.000000      0.000000\n実在債券16      0.000000     30.610358      0.000000      0.000000      0.000000\n実在債券17      0.000000      0.000000      0.000000      0.000000    381.355710\n実在債券18      0.000000      0.000000    134.298440    136.118980   -235.751860\n総費用     56036.824258  56124.658337  57377.023214  57399.638104  59859.574887",
      "text/html": "<div>\n<style scoped>\n    .dataframe tbody tr th:only-of-type {\n        vertical-align: middle;\n    }\n\n    .dataframe tbody tr th {\n        vertical-align: top;\n    }\n\n    .dataframe thead th {\n        text-align: right;\n    }\n</style>\n<table border=\"1\" class=\"dataframe\">\n  <thead>\n    <tr style=\"text-align: right;\">\n      <th></th>\n      <th>ケース1</th>\n      <th>ケース2</th>\n      <th>ケース3</th>\n      <th>ケース4</th>\n      <th>ケース5</th>\n    </tr>\n  </thead>\n  <tbody>\n    <tr>\n      <th>実在債券1</th>\n      <td>0.000000</td>\n      <td>0.000000</td>\n      <td>0.000000</td>\n      <td>0.000000</td>\n      <td>0.000000</td>\n    </tr>\n    <tr>\n      <th>実在債券2</th>\n      <td>98.393866</td>\n      <td>104.526970</td>\n      <td>0.000000</td>\n      <td>2.712146</td>\n      <td>0.000000</td>\n    </tr>\n    <tr>\n      <th>実在債券3</th>\n      <td>0.000000</td>\n      <td>0.000000</td>\n      <td>0.000000</td>\n      <td>0.000000</td>\n      <td>26.812528</td>\n    </tr>\n    <tr>\n      <th>実在債券4</th>\n      <td>0.000000</td>\n      <td>0.000000</td>\n      <td>0.000000</td>\n      <td>0.000000</td>\n      <td>0.000000</td>\n    </tr>\n    <tr>\n      <th>実在債券5</th>\n      <td>0.000000</td>\n      <td>0.000000</td>\n      <td>0.000000</td>\n      <td>0.000000</td>\n      <td>219.963900</td>\n    </tr>\n    <tr>\n      <th>実在債券6</th>\n      <td>0.000000</td>\n      <td>0.000000</td>\n      <td>220.656520</td>\n      <td>204.228400</td>\n      <td>0.000000</td>\n    </tr>\n    <tr>\n      <th>実在債券7</th>\n      <td>0.000000</td>\n      <td>0.000000</td>\n      <td>0.000000</td>\n      <td>0.000000</td>\n      <td>0.000000</td>\n    </tr>\n    <tr>\n      <th>実在債券8</th>\n      <td>0.000000</td>\n      <td>0.000000</td>\n      <td>18.123733</td>\n      <td>36.189765</td>\n      <td>0.000000</td>\n    </tr>\n    <tr>\n      <th>実在債券9</th>\n      <td>0.000000</td>\n      <td>0.000000</td>\n      <td>0.000000</td>\n      <td>0.000000</td>\n      <td>0.000000</td>\n    </tr>\n    <tr>\n      <th>実在債券10</th>\n      <td>0.000000</td>\n      <td>0.000000</td>\n      <td>0.000000</td>\n      <td>0.000000</td>\n      <td>0.000000</td>\n    </tr>\n    <tr>\n      <th>実在債券11</th>\n      <td>0.000000</td>\n      <td>0.000000</td>\n      <td>0.000000</td>\n      <td>0.000000</td>\n      <td>80.017317</td>\n    </tr>\n    <tr>\n      <th>実在債券12</th>\n      <td>0.000000</td>\n      <td>0.000000</td>\n      <td>0.000000</td>\n      <td>0.000000</td>\n      <td>0.000000</td>\n    </tr>\n    <tr>\n      <th>実在債券13</th>\n      <td>0.000000</td>\n      <td>0.000000</td>\n      <td>0.000000</td>\n      <td>0.000000</td>\n      <td>125.741980</td>\n    </tr>\n    <tr>\n      <th>実在債券14</th>\n      <td>411.328220</td>\n      <td>376.261050</td>\n      <td>166.638300</td>\n      <td>160.999850</td>\n      <td>0.000000</td>\n    </tr>\n    <tr>\n      <th>実在債券15</th>\n      <td>0.000000</td>\n      <td>0.000000</td>\n      <td>0.000000</td>\n      <td>0.000000</td>\n      <td>0.000000</td>\n    </tr>\n    <tr>\n      <th>実在債券16</th>\n      <td>0.000000</td>\n      <td>30.610358</td>\n      <td>0.000000</td>\n      <td>0.000000</td>\n      <td>0.000000</td>\n    </tr>\n    <tr>\n      <th>実在債券17</th>\n      <td>0.000000</td>\n      <td>0.000000</td>\n      <td>0.000000</td>\n      <td>0.000000</td>\n      <td>381.355710</td>\n    </tr>\n    <tr>\n      <th>実在債券18</th>\n      <td>0.000000</td>\n      <td>0.000000</td>\n      <td>134.298440</td>\n      <td>136.118980</td>\n      <td>-235.751860</td>\n    </tr>\n    <tr>\n      <th>総費用</th>\n      <td>56036.824258</td>\n      <td>56124.658337</td>\n      <td>57377.023214</td>\n      <td>57399.638104</td>\n      <td>59859.574887</td>\n    </tr>\n  </tbody>\n</table>\n</div>"
     },
     "metadata": {},
     "execution_count": 20
    }
   ],
   "source": [
    "ans_df"
   ]
  },
  {
   "cell_type": "markdown",
   "metadata": {},
   "source": [
    "これがそれぞれのパターンにおいてイミュナイズされたポートフォリオの構成である。"
   ]
  },
  {
   "cell_type": "markdown",
   "metadata": {},
   "source": [
    "三つのケースを並べて表示する"
   ]
  },
  {
   "cell_type": "code",
   "execution_count": 21,
   "metadata": {},
   "outputs": [
    {
     "output_type": "execute_result",
     "data": {
      "text/plain": "                 (a)           (b)          ケース1          ケース2          ケース3  \\\n実在債券1       0.000000      0.000000      0.000000      0.000000      0.000000   \n実在債券2       0.000000      0.000000     98.393866    104.526970      0.000000   \n実在債券3       0.000000      0.000000      0.000000      0.000000      0.000000   \n実在債券4     117.899790    113.808320      0.000000      0.000000      0.000000   \n実在債券5       0.000000      0.000000      0.000000      0.000000      0.000000   \n実在債券6       0.000000      0.000000      0.000000      0.000000    220.656520   \n実在債券7       0.000000      0.000000      0.000000      0.000000      0.000000   \n実在債券8     167.353260    161.003330      0.000000      0.000000     18.123733   \n実在債券9       0.000000      0.000000      0.000000      0.000000      0.000000   \n実在債券10      0.000000      0.000000      0.000000      0.000000      0.000000   \n実在債券11      0.000000      0.000000      0.000000      0.000000      0.000000   \n実在債券12      0.000000      0.000000      0.000000      0.000000      0.000000   \n実在債券13      0.000000      0.000000      0.000000      0.000000      0.000000   \n実在債券14    129.960120    255.585690    411.328220    376.261050    166.638300   \n実在債券15      0.000000      0.000000      0.000000      0.000000      0.000000   \n実在債券16      0.000000      0.000000      0.000000     30.610358      0.000000   \n実在債券17      0.000000      0.000000      0.000000      0.000000      0.000000   \n実在債券18    135.881100      0.000000      0.000000      0.000000    134.298440   \n総費用     58311.649147  56990.685246  56036.824258  56124.658337  57377.023214   \n\n                ケース4          ケース5  \n実在債券1       0.000000      0.000000  \n実在債券2       2.712146      0.000000  \n実在債券3       0.000000     26.812528  \n実在債券4       0.000000      0.000000  \n実在債券5       0.000000    219.963900  \n実在債券6     204.228400      0.000000  \n実在債券7       0.000000      0.000000  \n実在債券8      36.189765      0.000000  \n実在債券9       0.000000      0.000000  \n実在債券10      0.000000      0.000000  \n実在債券11      0.000000     80.017317  \n実在債券12      0.000000      0.000000  \n実在債券13      0.000000    125.741980  \n実在債券14    160.999850      0.000000  \n実在債券15      0.000000      0.000000  \n実在債券16      0.000000      0.000000  \n実在債券17      0.000000    381.355710  \n実在債券18    136.118980   -235.751860  \n総費用     57399.638104  59859.574887  ",
      "text/html": "<div>\n<style scoped>\n    .dataframe tbody tr th:only-of-type {\n        vertical-align: middle;\n    }\n\n    .dataframe tbody tr th {\n        vertical-align: top;\n    }\n\n    .dataframe thead th {\n        text-align: right;\n    }\n</style>\n<table border=\"1\" class=\"dataframe\">\n  <thead>\n    <tr style=\"text-align: right;\">\n      <th></th>\n      <th>(a)</th>\n      <th>(b)</th>\n      <th>ケース1</th>\n      <th>ケース2</th>\n      <th>ケース3</th>\n      <th>ケース4</th>\n      <th>ケース5</th>\n    </tr>\n  </thead>\n  <tbody>\n    <tr>\n      <th>実在債券1</th>\n      <td>0.000000</td>\n      <td>0.000000</td>\n      <td>0.000000</td>\n      <td>0.000000</td>\n      <td>0.000000</td>\n      <td>0.000000</td>\n      <td>0.000000</td>\n    </tr>\n    <tr>\n      <th>実在債券2</th>\n      <td>0.000000</td>\n      <td>0.000000</td>\n      <td>98.393866</td>\n      <td>104.526970</td>\n      <td>0.000000</td>\n      <td>2.712146</td>\n      <td>0.000000</td>\n    </tr>\n    <tr>\n      <th>実在債券3</th>\n      <td>0.000000</td>\n      <td>0.000000</td>\n      <td>0.000000</td>\n      <td>0.000000</td>\n      <td>0.000000</td>\n      <td>0.000000</td>\n      <td>26.812528</td>\n    </tr>\n    <tr>\n      <th>実在債券4</th>\n      <td>117.899790</td>\n      <td>113.808320</td>\n      <td>0.000000</td>\n      <td>0.000000</td>\n      <td>0.000000</td>\n      <td>0.000000</td>\n      <td>0.000000</td>\n    </tr>\n    <tr>\n      <th>実在債券5</th>\n      <td>0.000000</td>\n      <td>0.000000</td>\n      <td>0.000000</td>\n      <td>0.000000</td>\n      <td>0.000000</td>\n      <td>0.000000</td>\n      <td>219.963900</td>\n    </tr>\n    <tr>\n      <th>実在債券6</th>\n      <td>0.000000</td>\n      <td>0.000000</td>\n      <td>0.000000</td>\n      <td>0.000000</td>\n      <td>220.656520</td>\n      <td>204.228400</td>\n      <td>0.000000</td>\n    </tr>\n    <tr>\n      <th>実在債券7</th>\n      <td>0.000000</td>\n      <td>0.000000</td>\n      <td>0.000000</td>\n      <td>0.000000</td>\n      <td>0.000000</td>\n      <td>0.000000</td>\n      <td>0.000000</td>\n    </tr>\n    <tr>\n      <th>実在債券8</th>\n      <td>167.353260</td>\n      <td>161.003330</td>\n      <td>0.000000</td>\n      <td>0.000000</td>\n      <td>18.123733</td>\n      <td>36.189765</td>\n      <td>0.000000</td>\n    </tr>\n    <tr>\n      <th>実在債券9</th>\n      <td>0.000000</td>\n      <td>0.000000</td>\n      <td>0.000000</td>\n      <td>0.000000</td>\n      <td>0.000000</td>\n      <td>0.000000</td>\n      <td>0.000000</td>\n    </tr>\n    <tr>\n      <th>実在債券10</th>\n      <td>0.000000</td>\n      <td>0.000000</td>\n      <td>0.000000</td>\n      <td>0.000000</td>\n      <td>0.000000</td>\n      <td>0.000000</td>\n      <td>0.000000</td>\n    </tr>\n    <tr>\n      <th>実在債券11</th>\n      <td>0.000000</td>\n      <td>0.000000</td>\n      <td>0.000000</td>\n      <td>0.000000</td>\n      <td>0.000000</td>\n      <td>0.000000</td>\n      <td>80.017317</td>\n    </tr>\n    <tr>\n      <th>実在債券12</th>\n      <td>0.000000</td>\n      <td>0.000000</td>\n      <td>0.000000</td>\n      <td>0.000000</td>\n      <td>0.000000</td>\n      <td>0.000000</td>\n      <td>0.000000</td>\n    </tr>\n    <tr>\n      <th>実在債券13</th>\n      <td>0.000000</td>\n      <td>0.000000</td>\n      <td>0.000000</td>\n      <td>0.000000</td>\n      <td>0.000000</td>\n      <td>0.000000</td>\n      <td>125.741980</td>\n    </tr>\n    <tr>\n      <th>実在債券14</th>\n      <td>129.960120</td>\n      <td>255.585690</td>\n      <td>411.328220</td>\n      <td>376.261050</td>\n      <td>166.638300</td>\n      <td>160.999850</td>\n      <td>0.000000</td>\n    </tr>\n    <tr>\n      <th>実在債券15</th>\n      <td>0.000000</td>\n      <td>0.000000</td>\n      <td>0.000000</td>\n      <td>0.000000</td>\n      <td>0.000000</td>\n      <td>0.000000</td>\n      <td>0.000000</td>\n    </tr>\n    <tr>\n      <th>実在債券16</th>\n      <td>0.000000</td>\n      <td>0.000000</td>\n      <td>0.000000</td>\n      <td>30.610358</td>\n      <td>0.000000</td>\n      <td>0.000000</td>\n      <td>0.000000</td>\n    </tr>\n    <tr>\n      <th>実在債券17</th>\n      <td>0.000000</td>\n      <td>0.000000</td>\n      <td>0.000000</td>\n      <td>0.000000</td>\n      <td>0.000000</td>\n      <td>0.000000</td>\n      <td>381.355710</td>\n    </tr>\n    <tr>\n      <th>実在債券18</th>\n      <td>135.881100</td>\n      <td>0.000000</td>\n      <td>0.000000</td>\n      <td>0.000000</td>\n      <td>134.298440</td>\n      <td>136.118980</td>\n      <td>-235.751860</td>\n    </tr>\n    <tr>\n      <th>総費用</th>\n      <td>58311.649147</td>\n      <td>56990.685246</td>\n      <td>56036.824258</td>\n      <td>56124.658337</td>\n      <td>57377.023214</td>\n      <td>57399.638104</td>\n      <td>59859.574887</td>\n    </tr>\n  </tbody>\n</table>\n</div>"
     },
     "metadata": {},
     "execution_count": 21
    }
   ],
   "source": [
    "pd.concat([ans_a, ans_b, ans_df], axis = 1, join='inner')"
   ]
  }
 ]
}