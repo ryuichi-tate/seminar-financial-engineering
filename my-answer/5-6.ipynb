{
 "metadata": {
  "language_info": {
   "codemirror_mode": {
    "name": "ipython",
    "version": 3
   },
   "file_extension": ".py",
   "mimetype": "text/x-python",
   "name": "python",
   "nbconvert_exporter": "python",
   "pygments_lexer": "ipython3",
   "version": "3.7.0-final"
  },
  "orig_nbformat": 2,
  "kernelspec": {
   "name": "python_defaultSpec_1598019500503",
   "display_name": "Python 3.7.0 64-bit ('base': conda)"
  }
 },
 "nbformat": 4,
 "nbformat_minor": 2,
 "cells": [
  {
   "cell_type": "markdown",
   "metadata": {},
   "source": [
    "# 債券プロジェクト"
   ]
  },
  {
   "cell_type": "code",
   "execution_count": 1,
   "metadata": {},
   "outputs": [],
   "source": [
    "import pandas as pd\n",
    "import datetime\n",
    "import numpy as np"
   ]
  },
  {
   "cell_type": "markdown",
   "metadata": {},
   "source": [
    "債務と債券情報の入力"
   ]
  },
  {
   "cell_type": "code",
   "execution_count": 2,
   "metadata": {},
   "outputs": [],
   "source": [
    "bond_data = pd.DataFrame(data=[\n",
    "    [6.625, datetime.date(2022, 2, 15), 100.00],\n",
    "    [9.125, datetime.date(2022, 2, 15), 100.69],\n",
    "    [7.875, datetime.date(2022, 8, 15), 100.75],\n",
    "    [8.250, datetime.date(2022, 8, 15), 101.03],\n",
    "    [8.250, datetime.date(2023, 2, 15), 101.22],\n",
    "    [8.375, datetime.date(2023, 2, 15), 101.38],\n",
    "    [8.000, datetime.date(2023, 8, 15), 100.81],\n",
    "    [8.750, datetime.date(2023, 8, 15), 102.03],\n",
    "    [6.875, datetime.date(2024, 2, 15),  98.16],\n",
    "    [8.875, datetime.date(2024, 2, 15), 102.28],\n",
    "    [6.875, datetime.date(2024, 8, 15),  97.41],\n",
    "    [8.625, datetime.date(2024, 8, 15), 101.72],\n",
    "    [7.750, datetime.date(2025, 2, 15),  99.16],\n",
    "    [11.25, datetime.date(2025, 2, 15), 109.13],\n",
    "    [8.500, datetime.date(2025, 8, 15), 101.41],\n",
    "    [10.50, datetime.date(2025, 8, 15), 107.84],\n",
    "    [7.875, datetime.date(2026, 2, 15),  99.41],\n",
    "    [8.875, datetime.date(2026, 2, 15), 103.00],\n",
    "    ],\n",
    "    columns=['クーポン', '満期日', '価格'])\n",
    "\n",
    "debt_data = pd.DataFrame(data=[\n",
    "    [datetime.date(2022, 2, 15),  2000],\n",
    "    [datetime.date(2022, 8, 15), 20000],\n",
    "    [datetime.date(2023, 2, 15),     0],\n",
    "    [datetime.date(2023, 8, 15), 25000],\n",
    "    [datetime.date(2024, 2, 15),  1000],\n",
    "    [datetime.date(2024, 8, 15),     0],\n",
    "    [datetime.date(2025, 2, 15), 20000],\n",
    "    [datetime.date(2025, 8, 15),  1000],\n",
    "    [datetime.date(2026, 2, 15), 15000],\n",
    "    ],\n",
    "    columns=['支払日', '債務価格'])"
   ]
  },
  {
   "cell_type": "code",
   "execution_count": 3,
   "metadata": {},
   "outputs": [
    {
     "output_type": "execute_result",
     "data": {
      "text/plain": "    クーポン         満期日      価格\n0  6.625  2022-02-15  100.00\n1  9.125  2022-02-15  100.69\n2  7.875  2022-08-15  100.75\n3  8.250  2022-08-15  101.03\n4  8.250  2023-02-15  101.22",
      "text/html": "<div>\n<style scoped>\n    .dataframe tbody tr th:only-of-type {\n        vertical-align: middle;\n    }\n\n    .dataframe tbody tr th {\n        vertical-align: top;\n    }\n\n    .dataframe thead th {\n        text-align: right;\n    }\n</style>\n<table border=\"1\" class=\"dataframe\">\n  <thead>\n    <tr style=\"text-align: right;\">\n      <th></th>\n      <th>クーポン</th>\n      <th>満期日</th>\n      <th>価格</th>\n    </tr>\n  </thead>\n  <tbody>\n    <tr>\n      <th>0</th>\n      <td>6.625</td>\n      <td>2022-02-15</td>\n      <td>100.00</td>\n    </tr>\n    <tr>\n      <th>1</th>\n      <td>9.125</td>\n      <td>2022-02-15</td>\n      <td>100.69</td>\n    </tr>\n    <tr>\n      <th>2</th>\n      <td>7.875</td>\n      <td>2022-08-15</td>\n      <td>100.75</td>\n    </tr>\n    <tr>\n      <th>3</th>\n      <td>8.250</td>\n      <td>2022-08-15</td>\n      <td>101.03</td>\n    </tr>\n    <tr>\n      <th>4</th>\n      <td>8.250</td>\n      <td>2023-02-15</td>\n      <td>101.22</td>\n    </tr>\n  </tbody>\n</table>\n</div>"
     },
     "metadata": {},
     "execution_count": 3
    }
   ],
   "source": [
    "bond_data.head()"
   ]
  },
  {
   "cell_type": "code",
   "execution_count": 4,
   "metadata": {},
   "outputs": [
    {
     "output_type": "execute_result",
     "data": {
      "text/plain": "          支払日   債務価格\n0  2022-02-15   2000\n1  2022-08-15  20000\n2  2023-02-15      0\n3  2023-08-15  25000\n4  2024-02-15   1000",
      "text/html": "<div>\n<style scoped>\n    .dataframe tbody tr th:only-of-type {\n        vertical-align: middle;\n    }\n\n    .dataframe tbody tr th {\n        vertical-align: top;\n    }\n\n    .dataframe thead th {\n        text-align: right;\n    }\n</style>\n<table border=\"1\" class=\"dataframe\">\n  <thead>\n    <tr style=\"text-align: right;\">\n      <th></th>\n      <th>支払日</th>\n      <th>債務価格</th>\n    </tr>\n  </thead>\n  <tbody>\n    <tr>\n      <th>0</th>\n      <td>2022-02-15</td>\n      <td>2000</td>\n    </tr>\n    <tr>\n      <th>1</th>\n      <td>2022-08-15</td>\n      <td>20000</td>\n    </tr>\n    <tr>\n      <th>2</th>\n      <td>2023-02-15</td>\n      <td>0</td>\n    </tr>\n    <tr>\n      <th>3</th>\n      <td>2023-08-15</td>\n      <td>25000</td>\n    </tr>\n    <tr>\n      <th>4</th>\n      <td>2024-02-15</td>\n      <td>1000</td>\n    </tr>\n  </tbody>\n</table>\n</div>"
     },
     "metadata": {},
     "execution_count": 4
    }
   ],
   "source": [
    "debt_data.head()"
   ]
  },
  {
   "cell_type": "markdown",
   "metadata": {},
   "source": [
    "スポットレートカーブを問4-4の結果で定義する。"
   ]
  },
  {
   "cell_type": "code",
   "execution_count": 5,
   "metadata": {},
   "outputs": [],
   "source": [
    "def r(t):\n",
    "    alpha = [3.9725e-02, 1.2560e-02, 1.5246e-03, -9.4998e-04, 8.3856e-05]\n",
    "    return alpha[0] + alpha[1]*t + alpha[2]*t**2 + alpha[3]*t**3 + alpha[4]*t**4"
   ]
  },
  {
   "cell_type": "markdown",
   "metadata": {},
   "source": [
    "## (a)簡単なキャッシュ・フロー・マッチング\n",
    "利用可能な債券の数を$m$、$j$番目の債券の価格を$p_j$とする。<br>\n",
    "債務の生じる期間を$n$期間とし、$i$期間後の債務を$y_i$、$j$番目の債券の$i$期間後のクーポン(とあれば満期返戻価格)を$c_{ij}$とする。<br>\n",
    "$j$番目の債券の保有量を$x_j$とした時、\n",
    "\\begin{align}\n",
    "\\min_{\\bf x}&\\sum_{j=1}^mp_jx_j\\\\\n",
    "s.t.\\ \\sum_{j=1}^mc_{ij}x_j\\geq& y_i\\ \\ (i=1,2,\\cdots,n)\\\\\n",
    "x_j\\geq& 0\\ \\ (j=1,2,\\cdots,m)\n",
    "\\end{align}"
   ]
  },
  {
   "cell_type": "code",
   "execution_count": 6,
   "metadata": {
    "tags": []
   },
   "outputs": [],
   "source": [
    "from pulp import *\n",
    "m = LpProblem() # 最小化問題として定式化\n",
    "x = [LpVariable('x{0}'.format(i+1), lowBound=0) for i in range(len(bond_data))] # 正の変数xの設定\n",
    "m += (bond_data['価格']*x).sum() # 目的関数\n",
    "for i, t in enumerate(debt_data['支払日']):\n",
    "    # i期間後に生じる債務\n",
    "    y = debt_data['債務価格'][i]\n",
    "    # それぞれの債券でi期間後に得られるリターン\n",
    "    c = bond_data['クーポン'].where(bond_data['満期日']>=t, 0) + (bond_data['満期日']==t)*100\n",
    "    # 制約条件\n",
    "    m += (c*x).sum() >= y"
   ]
  },
  {
   "cell_type": "code",
   "execution_count": 7,
   "metadata": {},
   "outputs": [
    {
     "output_type": "execute_result",
     "data": {
      "text/plain": "1"
     },
     "metadata": {},
     "execution_count": 7
    }
   ],
   "source": [
    "m.solve() # ソルバーの実行"
   ]
  },
  {
   "cell_type": "code",
   "execution_count": 8,
   "metadata": {
    "tags": []
   },
   "outputs": [
    {
     "output_type": "stream",
     "name": "stdout",
     "text": "x1 0.0\nx2 0.0\nx3 0.0\nx4 145.32327\nx5 0.0\nx6 0.0\nx7 0.0\nx8 207.31244\nx9 0.0\nx10 0.0\nx11 0.0\nx12 0.0\nx13 175.45227\nx14 0.0\nx15 0.0\nx16 0.0\nx17 139.04983\nx18 0.0\n"
    }
   ],
   "source": [
    "for i in range(len(x)):\n",
    "    print(x[i], value(x[i]))"
   ]
  },
  {
   "cell_type": "markdown",
   "metadata": {},
   "source": [
    "これが費用最小のポートフォリオとなる。総費用は、"
   ]
  },
  {
   "cell_type": "code",
   "execution_count": 9,
   "metadata": {},
   "outputs": [
    {
     "output_type": "execute_result",
     "data": {
      "text/plain": "67054.8889148"
     },
     "metadata": {},
     "execution_count": 9
    }
   ],
   "source": [
    "sum([value(x[i])*bond_data['価格'][i] for i in range(len(bond_data))])"
   ]
  },
  {
   "cell_type": "markdown",
   "metadata": {},
   "source": [
    "## (b)複雑なキャッシュ・フロー・マッチング\n",
    "まずはそれぞれの債券のキャッシュ・フローを書き下す（教科書の表5.3のイメージ）"
   ]
  },
  {
   "cell_type": "code",
   "execution_count": 10,
   "metadata": {
    "tags": []
   },
   "outputs": [
    {
     "output_type": "execute_result",
     "data": {
      "text/plain": "            年    実在債券1    実在債券2    実在債券3   実在債券4   実在債券5    実在債券6   実在債券7  \\\n0  2021-08-15 -100.000 -100.690 -100.750 -101.03 -101.22 -101.380 -100.81   \n1  2022-02-15  106.625  109.125    7.875    8.25    8.25    8.375    8.00   \n2  2022-08-15    0.000    0.000  107.875  108.25    8.25    8.375    8.00   \n3  2023-02-15    0.000    0.000    0.000    0.00  108.25  108.375    8.00   \n4  2023-08-15    0.000    0.000    0.000    0.00    0.00    0.000  108.00   \n5  2024-02-15    0.000    0.000    0.000    0.00    0.00    0.000    0.00   \n6  2024-08-15    0.000    0.000    0.000    0.00    0.00    0.000    0.00   \n7  2025-02-15    0.000    0.000    0.000    0.00    0.00    0.000    0.00   \n8  2025-08-15    0.000    0.000    0.000    0.00    0.00    0.000    0.00   \n9  2026-02-15    0.000    0.000    0.000    0.00    0.00    0.000    0.00   \n\n    実在債券8    実在債券9   実在債券10   実在債券11   実在債券12  実在債券13  実在債券14  実在債券15  実在債券16  \\\n0 -102.03  -98.160 -102.280  -97.410 -101.720  -99.16 -109.13 -101.41 -107.84   \n1    8.75    6.875    8.875    6.875    8.625    7.75   11.25    8.50   10.50   \n2    8.75    6.875    8.875    6.875    8.625    7.75   11.25    8.50   10.50   \n3    8.75    6.875    8.875    6.875    8.625    7.75   11.25    8.50   10.50   \n4  108.75    6.875    8.875    6.875    8.625    7.75   11.25    8.50   10.50   \n5    0.00  106.875  108.875    6.875    8.625    7.75   11.25    8.50   10.50   \n6    0.00    0.000    0.000  106.875  108.625    7.75   11.25    8.50   10.50   \n7    0.00    0.000    0.000    0.000    0.000  107.75  111.25    8.50   10.50   \n8    0.00    0.000    0.000    0.000    0.000    0.00    0.00  108.50  110.50   \n9    0.00    0.000    0.000    0.000    0.000    0.00    0.00    0.00    0.00   \n\n    実在債券17   実在債券18  \n0  -99.410 -103.000  \n1    7.875    8.875  \n2    7.875    8.875  \n3    7.875    8.875  \n4    7.875    8.875  \n5    7.875    8.875  \n6    7.875    8.875  \n7    7.875    8.875  \n8    7.875    8.875  \n9  107.875  108.875  ",
      "text/html": "<div>\n<style scoped>\n    .dataframe tbody tr th:only-of-type {\n        vertical-align: middle;\n    }\n\n    .dataframe tbody tr th {\n        vertical-align: top;\n    }\n\n    .dataframe thead th {\n        text-align: right;\n    }\n</style>\n<table border=\"1\" class=\"dataframe\">\n  <thead>\n    <tr style=\"text-align: right;\">\n      <th></th>\n      <th>年</th>\n      <th>実在債券1</th>\n      <th>実在債券2</th>\n      <th>実在債券3</th>\n      <th>実在債券4</th>\n      <th>実在債券5</th>\n      <th>実在債券6</th>\n      <th>実在債券7</th>\n      <th>実在債券8</th>\n      <th>実在債券9</th>\n      <th>実在債券10</th>\n      <th>実在債券11</th>\n      <th>実在債券12</th>\n      <th>実在債券13</th>\n      <th>実在債券14</th>\n      <th>実在債券15</th>\n      <th>実在債券16</th>\n      <th>実在債券17</th>\n      <th>実在債券18</th>\n    </tr>\n  </thead>\n  <tbody>\n    <tr>\n      <th>0</th>\n      <td>2021-08-15</td>\n      <td>-100.000</td>\n      <td>-100.690</td>\n      <td>-100.750</td>\n      <td>-101.03</td>\n      <td>-101.22</td>\n      <td>-101.380</td>\n      <td>-100.81</td>\n      <td>-102.03</td>\n      <td>-98.160</td>\n      <td>-102.280</td>\n      <td>-97.410</td>\n      <td>-101.720</td>\n      <td>-99.16</td>\n      <td>-109.13</td>\n      <td>-101.41</td>\n      <td>-107.84</td>\n      <td>-99.410</td>\n      <td>-103.000</td>\n    </tr>\n    <tr>\n      <th>1</th>\n      <td>2022-02-15</td>\n      <td>106.625</td>\n      <td>109.125</td>\n      <td>7.875</td>\n      <td>8.25</td>\n      <td>8.25</td>\n      <td>8.375</td>\n      <td>8.00</td>\n      <td>8.75</td>\n      <td>6.875</td>\n      <td>8.875</td>\n      <td>6.875</td>\n      <td>8.625</td>\n      <td>7.75</td>\n      <td>11.25</td>\n      <td>8.50</td>\n      <td>10.50</td>\n      <td>7.875</td>\n      <td>8.875</td>\n    </tr>\n    <tr>\n      <th>2</th>\n      <td>2022-08-15</td>\n      <td>0.000</td>\n      <td>0.000</td>\n      <td>107.875</td>\n      <td>108.25</td>\n      <td>8.25</td>\n      <td>8.375</td>\n      <td>8.00</td>\n      <td>8.75</td>\n      <td>6.875</td>\n      <td>8.875</td>\n      <td>6.875</td>\n      <td>8.625</td>\n      <td>7.75</td>\n      <td>11.25</td>\n      <td>8.50</td>\n      <td>10.50</td>\n      <td>7.875</td>\n      <td>8.875</td>\n    </tr>\n    <tr>\n      <th>3</th>\n      <td>2023-02-15</td>\n      <td>0.000</td>\n      <td>0.000</td>\n      <td>0.000</td>\n      <td>0.00</td>\n      <td>108.25</td>\n      <td>108.375</td>\n      <td>8.00</td>\n      <td>8.75</td>\n      <td>6.875</td>\n      <td>8.875</td>\n      <td>6.875</td>\n      <td>8.625</td>\n      <td>7.75</td>\n      <td>11.25</td>\n      <td>8.50</td>\n      <td>10.50</td>\n      <td>7.875</td>\n      <td>8.875</td>\n    </tr>\n    <tr>\n      <th>4</th>\n      <td>2023-08-15</td>\n      <td>0.000</td>\n      <td>0.000</td>\n      <td>0.000</td>\n      <td>0.00</td>\n      <td>0.00</td>\n      <td>0.000</td>\n      <td>108.00</td>\n      <td>108.75</td>\n      <td>6.875</td>\n      <td>8.875</td>\n      <td>6.875</td>\n      <td>8.625</td>\n      <td>7.75</td>\n      <td>11.25</td>\n      <td>8.50</td>\n      <td>10.50</td>\n      <td>7.875</td>\n      <td>8.875</td>\n    </tr>\n    <tr>\n      <th>5</th>\n      <td>2024-02-15</td>\n      <td>0.000</td>\n      <td>0.000</td>\n      <td>0.000</td>\n      <td>0.00</td>\n      <td>0.00</td>\n      <td>0.000</td>\n      <td>0.00</td>\n      <td>0.00</td>\n      <td>106.875</td>\n      <td>108.875</td>\n      <td>6.875</td>\n      <td>8.625</td>\n      <td>7.75</td>\n      <td>11.25</td>\n      <td>8.50</td>\n      <td>10.50</td>\n      <td>7.875</td>\n      <td>8.875</td>\n    </tr>\n    <tr>\n      <th>6</th>\n      <td>2024-08-15</td>\n      <td>0.000</td>\n      <td>0.000</td>\n      <td>0.000</td>\n      <td>0.00</td>\n      <td>0.00</td>\n      <td>0.000</td>\n      <td>0.00</td>\n      <td>0.00</td>\n      <td>0.000</td>\n      <td>0.000</td>\n      <td>106.875</td>\n      <td>108.625</td>\n      <td>7.75</td>\n      <td>11.25</td>\n      <td>8.50</td>\n      <td>10.50</td>\n      <td>7.875</td>\n      <td>8.875</td>\n    </tr>\n    <tr>\n      <th>7</th>\n      <td>2025-02-15</td>\n      <td>0.000</td>\n      <td>0.000</td>\n      <td>0.000</td>\n      <td>0.00</td>\n      <td>0.00</td>\n      <td>0.000</td>\n      <td>0.00</td>\n      <td>0.00</td>\n      <td>0.000</td>\n      <td>0.000</td>\n      <td>0.000</td>\n      <td>0.000</td>\n      <td>107.75</td>\n      <td>111.25</td>\n      <td>8.50</td>\n      <td>10.50</td>\n      <td>7.875</td>\n      <td>8.875</td>\n    </tr>\n    <tr>\n      <th>8</th>\n      <td>2025-08-15</td>\n      <td>0.000</td>\n      <td>0.000</td>\n      <td>0.000</td>\n      <td>0.00</td>\n      <td>0.00</td>\n      <td>0.000</td>\n      <td>0.00</td>\n      <td>0.00</td>\n      <td>0.000</td>\n      <td>0.000</td>\n      <td>0.000</td>\n      <td>0.000</td>\n      <td>0.00</td>\n      <td>0.00</td>\n      <td>108.50</td>\n      <td>110.50</td>\n      <td>7.875</td>\n      <td>8.875</td>\n    </tr>\n    <tr>\n      <th>9</th>\n      <td>2026-02-15</td>\n      <td>0.000</td>\n      <td>0.000</td>\n      <td>0.000</td>\n      <td>0.00</td>\n      <td>0.00</td>\n      <td>0.000</td>\n      <td>0.00</td>\n      <td>0.00</td>\n      <td>0.000</td>\n      <td>0.000</td>\n      <td>0.000</td>\n      <td>0.000</td>\n      <td>0.00</td>\n      <td>0.00</td>\n      <td>0.00</td>\n      <td>0.00</td>\n      <td>107.875</td>\n      <td>108.875</td>\n    </tr>\n  </tbody>\n</table>\n</div>"
     },
     "metadata": {},
     "execution_count": 10
    }
   ],
   "source": [
    "data = [[datetime.date(2021,8,15)] + list(-bond_data['価格'])]\n",
    "for i, t in enumerate(debt_data['支払日']):\n",
    "    datum = [t]\n",
    "    for j in bond_data.itertuples():\n",
    "        datum.append(j.クーポン if j.満期日>t else j.クーポン+100 if j.満期日==t else 0)\n",
    "    data.append(datum)\n",
    "\n",
    "cash_flow = pd.DataFrame(data, columns=['年']+['実在債券{0}'.format(i+1) for i in range(len(bond_data))])#.set_index('年')\n",
    "cash_flow"
   ]
  },
  {
   "cell_type": "markdown",
   "metadata": {},
   "source": [
    "ここに、余剰資金を運用するための人工的な債券のキャッシュ・フローを追加する。<br>\n",
    "連続金利でのフォワードレートは\n",
    "\\begin{align}\n",
    "f_{t_1,t_2} = \\frac{r(t_2)t_2-r(t_1)t_1}{t_2-t_1}\n",
    "\\end{align}\n",
    "である。ただし、現在(2021/8/15)から$i$期間後までの時間を$t_i$年とする。<br>\n",
    "なので、例えば$i$期間後から$i+1$期間後までの間の再投資を表現するキャッシュ・フローは\n",
    "\\begin{align}\n",
    "(0,0,\\cdots,0,-1,1+f_{t_i,t_{i+1}},0,\\cdots,0 )\n",
    "\\end{align}"
   ]
  },
  {
   "cell_type": "code",
   "execution_count": 11,
   "metadata": {
    "tags": []
   },
   "outputs": [
    {
     "output_type": "execute_result",
     "data": {
      "text/plain": "            年    実在債券1    実在債券2    実在債券3   実在債券4   実在債券5    実在債券6   実在債券7  \\\n0  2021-08-15 -100.000 -100.690 -100.750 -101.03 -101.22 -101.380 -100.81   \n1  2022-02-15  106.625  109.125    7.875    8.25    8.25    8.375    8.00   \n2  2022-08-15    0.000    0.000  107.875  108.25    8.25    8.375    8.00   \n3  2023-02-15    0.000    0.000    0.000    0.00  108.25  108.375    8.00   \n4  2023-08-15    0.000    0.000    0.000    0.00    0.00    0.000  108.00   \n5  2024-02-15    0.000    0.000    0.000    0.00    0.00    0.000    0.00   \n6  2024-08-15    0.000    0.000    0.000    0.00    0.00    0.000    0.00   \n7  2025-02-15    0.000    0.000    0.000    0.00    0.00    0.000    0.00   \n8  2025-08-15    0.000    0.000    0.000    0.00    0.00    0.000    0.00   \n9  2026-02-15    0.000    0.000    0.000    0.00    0.00    0.000    0.00   \n\n    実在債券8    実在債券9    ...      実在債券18     人工債券1     人工債券2     人工債券3     人工債券4  \\\n0 -102.03  -98.160    ...    -103.000 -1.000000  0.000000  0.000000  0.000000   \n1    8.75    6.875    ...       8.875  1.046328 -1.000000  0.000000  0.000000   \n2    8.75    6.875    ...       8.875  0.000000  1.059669 -1.000000  0.000000   \n3    8.75    6.875    ...       8.875  0.000000  0.000000  1.071797 -1.000000   \n4  108.75    6.875    ...       8.875  0.000000  0.000000  0.000000  1.081134   \n5    0.00  106.875    ...       8.875  0.000000  0.000000  0.000000  0.000000   \n6    0.00    0.000    ...       8.875  0.000000  0.000000  0.000000  0.000000   \n7    0.00    0.000    ...       8.875  0.000000  0.000000  0.000000  0.000000   \n8    0.00    0.000    ...       8.875  0.000000  0.000000  0.000000  0.000000   \n9    0.00    0.000    ...     108.875  0.000000  0.000000  0.000000  0.000000   \n\n    人工債券5     人工債券6     人工債券7     人工債券8     人工債券9  \n0  0.0000  0.000000  0.000000  0.000000  0.000000  \n1  0.0000  0.000000  0.000000  0.000000  0.000000  \n2  0.0000  0.000000  0.000000  0.000000  0.000000  \n3  0.0000  0.000000  0.000000  0.000000  0.000000  \n4 -1.0000  0.000000  0.000000  0.000000  0.000000  \n5  1.0867 -1.000000  0.000000  0.000000  0.000000  \n6  0.0000  1.088183 -1.000000  0.000000  0.000000  \n7  0.0000  0.000000  1.085847 -1.000000  0.000000  \n8  0.0000  0.000000  0.000000  1.080656 -1.000000  \n9  0.0000  0.000000  0.000000  0.000000  1.074159  \n\n[10 rows x 28 columns]",
      "text/html": "<div>\n<style scoped>\n    .dataframe tbody tr th:only-of-type {\n        vertical-align: middle;\n    }\n\n    .dataframe tbody tr th {\n        vertical-align: top;\n    }\n\n    .dataframe thead th {\n        text-align: right;\n    }\n</style>\n<table border=\"1\" class=\"dataframe\">\n  <thead>\n    <tr style=\"text-align: right;\">\n      <th></th>\n      <th>年</th>\n      <th>実在債券1</th>\n      <th>実在債券2</th>\n      <th>実在債券3</th>\n      <th>実在債券4</th>\n      <th>実在債券5</th>\n      <th>実在債券6</th>\n      <th>実在債券7</th>\n      <th>実在債券8</th>\n      <th>実在債券9</th>\n      <th>...</th>\n      <th>実在債券18</th>\n      <th>人工債券1</th>\n      <th>人工債券2</th>\n      <th>人工債券3</th>\n      <th>人工債券4</th>\n      <th>人工債券5</th>\n      <th>人工債券6</th>\n      <th>人工債券7</th>\n      <th>人工債券8</th>\n      <th>人工債券9</th>\n    </tr>\n  </thead>\n  <tbody>\n    <tr>\n      <th>0</th>\n      <td>2021-08-15</td>\n      <td>-100.000</td>\n      <td>-100.690</td>\n      <td>-100.750</td>\n      <td>-101.03</td>\n      <td>-101.22</td>\n      <td>-101.380</td>\n      <td>-100.81</td>\n      <td>-102.03</td>\n      <td>-98.160</td>\n      <td>...</td>\n      <td>-103.000</td>\n      <td>-1.000000</td>\n      <td>0.000000</td>\n      <td>0.000000</td>\n      <td>0.000000</td>\n      <td>0.0000</td>\n      <td>0.000000</td>\n      <td>0.000000</td>\n      <td>0.000000</td>\n      <td>0.000000</td>\n    </tr>\n    <tr>\n      <th>1</th>\n      <td>2022-02-15</td>\n      <td>106.625</td>\n      <td>109.125</td>\n      <td>7.875</td>\n      <td>8.25</td>\n      <td>8.25</td>\n      <td>8.375</td>\n      <td>8.00</td>\n      <td>8.75</td>\n      <td>6.875</td>\n      <td>...</td>\n      <td>8.875</td>\n      <td>1.046328</td>\n      <td>-1.000000</td>\n      <td>0.000000</td>\n      <td>0.000000</td>\n      <td>0.0000</td>\n      <td>0.000000</td>\n      <td>0.000000</td>\n      <td>0.000000</td>\n      <td>0.000000</td>\n    </tr>\n    <tr>\n      <th>2</th>\n      <td>2022-08-15</td>\n      <td>0.000</td>\n      <td>0.000</td>\n      <td>107.875</td>\n      <td>108.25</td>\n      <td>8.25</td>\n      <td>8.375</td>\n      <td>8.00</td>\n      <td>8.75</td>\n      <td>6.875</td>\n      <td>...</td>\n      <td>8.875</td>\n      <td>0.000000</td>\n      <td>1.059669</td>\n      <td>-1.000000</td>\n      <td>0.000000</td>\n      <td>0.0000</td>\n      <td>0.000000</td>\n      <td>0.000000</td>\n      <td>0.000000</td>\n      <td>0.000000</td>\n    </tr>\n    <tr>\n      <th>3</th>\n      <td>2023-02-15</td>\n      <td>0.000</td>\n      <td>0.000</td>\n      <td>0.000</td>\n      <td>0.00</td>\n      <td>108.25</td>\n      <td>108.375</td>\n      <td>8.00</td>\n      <td>8.75</td>\n      <td>6.875</td>\n      <td>...</td>\n      <td>8.875</td>\n      <td>0.000000</td>\n      <td>0.000000</td>\n      <td>1.071797</td>\n      <td>-1.000000</td>\n      <td>0.0000</td>\n      <td>0.000000</td>\n      <td>0.000000</td>\n      <td>0.000000</td>\n      <td>0.000000</td>\n    </tr>\n    <tr>\n      <th>4</th>\n      <td>2023-08-15</td>\n      <td>0.000</td>\n      <td>0.000</td>\n      <td>0.000</td>\n      <td>0.00</td>\n      <td>0.00</td>\n      <td>0.000</td>\n      <td>108.00</td>\n      <td>108.75</td>\n      <td>6.875</td>\n      <td>...</td>\n      <td>8.875</td>\n      <td>0.000000</td>\n      <td>0.000000</td>\n      <td>0.000000</td>\n      <td>1.081134</td>\n      <td>-1.0000</td>\n      <td>0.000000</td>\n      <td>0.000000</td>\n      <td>0.000000</td>\n      <td>0.000000</td>\n    </tr>\n    <tr>\n      <th>5</th>\n      <td>2024-02-15</td>\n      <td>0.000</td>\n      <td>0.000</td>\n      <td>0.000</td>\n      <td>0.00</td>\n      <td>0.00</td>\n      <td>0.000</td>\n      <td>0.00</td>\n      <td>0.00</td>\n      <td>106.875</td>\n      <td>...</td>\n      <td>8.875</td>\n      <td>0.000000</td>\n      <td>0.000000</td>\n      <td>0.000000</td>\n      <td>0.000000</td>\n      <td>1.0867</td>\n      <td>-1.000000</td>\n      <td>0.000000</td>\n      <td>0.000000</td>\n      <td>0.000000</td>\n    </tr>\n    <tr>\n      <th>6</th>\n      <td>2024-08-15</td>\n      <td>0.000</td>\n      <td>0.000</td>\n      <td>0.000</td>\n      <td>0.00</td>\n      <td>0.00</td>\n      <td>0.000</td>\n      <td>0.00</td>\n      <td>0.00</td>\n      <td>0.000</td>\n      <td>...</td>\n      <td>8.875</td>\n      <td>0.000000</td>\n      <td>0.000000</td>\n      <td>0.000000</td>\n      <td>0.000000</td>\n      <td>0.0000</td>\n      <td>1.088183</td>\n      <td>-1.000000</td>\n      <td>0.000000</td>\n      <td>0.000000</td>\n    </tr>\n    <tr>\n      <th>7</th>\n      <td>2025-02-15</td>\n      <td>0.000</td>\n      <td>0.000</td>\n      <td>0.000</td>\n      <td>0.00</td>\n      <td>0.00</td>\n      <td>0.000</td>\n      <td>0.00</td>\n      <td>0.00</td>\n      <td>0.000</td>\n      <td>...</td>\n      <td>8.875</td>\n      <td>0.000000</td>\n      <td>0.000000</td>\n      <td>0.000000</td>\n      <td>0.000000</td>\n      <td>0.0000</td>\n      <td>0.000000</td>\n      <td>1.085847</td>\n      <td>-1.000000</td>\n      <td>0.000000</td>\n    </tr>\n    <tr>\n      <th>8</th>\n      <td>2025-08-15</td>\n      <td>0.000</td>\n      <td>0.000</td>\n      <td>0.000</td>\n      <td>0.00</td>\n      <td>0.00</td>\n      <td>0.000</td>\n      <td>0.00</td>\n      <td>0.00</td>\n      <td>0.000</td>\n      <td>...</td>\n      <td>8.875</td>\n      <td>0.000000</td>\n      <td>0.000000</td>\n      <td>0.000000</td>\n      <td>0.000000</td>\n      <td>0.0000</td>\n      <td>0.000000</td>\n      <td>0.000000</td>\n      <td>1.080656</td>\n      <td>-1.000000</td>\n    </tr>\n    <tr>\n      <th>9</th>\n      <td>2026-02-15</td>\n      <td>0.000</td>\n      <td>0.000</td>\n      <td>0.000</td>\n      <td>0.00</td>\n      <td>0.00</td>\n      <td>0.000</td>\n      <td>0.00</td>\n      <td>0.00</td>\n      <td>0.000</td>\n      <td>...</td>\n      <td>108.875</td>\n      <td>0.000000</td>\n      <td>0.000000</td>\n      <td>0.000000</td>\n      <td>0.000000</td>\n      <td>0.0000</td>\n      <td>0.000000</td>\n      <td>0.000000</td>\n      <td>0.000000</td>\n      <td>1.074159</td>\n    </tr>\n  </tbody>\n</table>\n<p>10 rows × 28 columns</p>\n</div>"
     },
     "metadata": {},
     "execution_count": 11
    }
   ],
   "source": [
    "t = cash_flow['年']\n",
    "for i in range(len(cash_flow)-1):\n",
    "    ti = (t[i]-t[0]).days/365\n",
    "    ti_ = (t[i+1]-t[0]).days/365\n",
    "    datum = [0]*(len(debt_data)+1)\n",
    "    datum[i] = -1\n",
    "    datum[i+1] = 1 + (r(ti_)*ti_ - r(ti)*ti)/(ti_ - ti)\n",
    "    cash_flow['人工債券{0}'.format(i+1)]=datum\n",
    "cash_flow"
   ]
  },
  {
   "cell_type": "markdown",
   "metadata": {},
   "source": [
    "この状態で(a)と同じ最適化を行う。以下再掲\n",
    "\n",
    "利用可能な債券の数を$m$、$j$番目の債券の価格を$p_j$とする。<br>\n",
    "債務の生じる期間を$n$期間とし、$i$期間後の債務を$y_i$、$j$番目の債券の$i$期間後のクーポン(とあれば満期返戻価格)を$c_{ij}$とする。<br>\n",
    "$j$番目の債券の保有量を$x_j$とした時、\n",
    "\\begin{align}\n",
    "\\min_{\\bf x}&\\sum_{j=1}^mp_jx_j\\\\\n",
    "s.t.\\ \\sum_{j=1}^mc_{ij}x_j\\geq& y_i\\ \\ (i=1,2,\\cdots,n)\\\\\n",
    "x_j\\geq& 0\\ \\ (j=1,2,\\cdots,m)\n",
    "\\end{align}"
   ]
  },
  {
   "cell_type": "code",
   "execution_count": 12,
   "metadata": {},
   "outputs": [],
   "source": [
    "m = LpProblem() # 最小化問題として定式化\n",
    "x = [LpVariable('x{0}'.format(i+1), lowBound=0) for i in range(len(cash_flow.columns)-1)] # 正の変数xの設定\n",
    "m += (np.array(-cash_flow[cash_flow.index==0].loc[:, cash_flow.columns.str.contains('債券')])*x).sum()  # 目的関数\n",
    "for i, t in enumerate(debt_data['支払日']):\n",
    "    # i期間後に生じる債務\n",
    "    y = debt_data['債務価格'][i]\n",
    "    # それぞれの債券でi期間後に得られるリターン\n",
    "    c = np.array(cash_flow[cash_flow['年']==t].loc[:, cash_flow.columns.str.contains('債券')])\n",
    "    # 制約条件\n",
    "    m += (c*x).sum() >= y"
   ]
  },
  {
   "cell_type": "code",
   "execution_count": 13,
   "metadata": {},
   "outputs": [
    {
     "output_type": "execute_result",
     "data": {
      "text/plain": "1"
     },
     "metadata": {},
     "execution_count": 13
    }
   ],
   "source": [
    "m.solve() # ソルバーの実行\n"
   ]
  },
  {
   "cell_type": "code",
   "execution_count": 14,
   "metadata": {
    "tags": []
   },
   "outputs": [
    {
     "output_type": "stream",
     "name": "stdout",
     "text": "x1 0.0\nx2 0.0\nx3 0.0\nx4 113.57254\nx5 0.0\nx6 0.0\nx7 0.0\nx8 160.75726\nx9 0.0\nx10 0.0\nx11 0.0\nx12 0.0\nx13 0.0\nx14 256.13805\nx15 0.0\nx16 0.0\nx17 0.0\nx18 0.0\nx19 0.0\nx20 3225.1526\nx21 0.0\nx22 4288.1791\nx23 0.0\nx24 1881.5531\nx25 4929.0278\nx26 13847.526\nx27 13964.411\n"
    }
   ],
   "source": [
    "for i in range(len(x)):\n",
    "    print(x[i], value(x[i]))"
   ]
  },
  {
   "cell_type": "markdown",
   "metadata": {},
   "source": [
    "実際の債券のポートフォリオのみ表示すれば、"
   ]
  },
  {
   "cell_type": "code",
   "execution_count": 15,
   "metadata": {
    "tags": []
   },
   "outputs": [
    {
     "output_type": "stream",
     "name": "stdout",
     "text": "x1 0.0\nx2 0.0\nx3 0.0\nx4 113.57254\nx5 0.0\nx6 0.0\nx7 0.0\nx8 160.75726\nx9 0.0\nx10 0.0\nx11 0.0\nx12 0.0\nx13 0.0\nx14 256.13805\nx15 0.0\nx16 0.0\nx17 0.0\nx18 0.0\n"
    }
   ],
   "source": [
    "for i in range(len(bond_data)):\n",
    "    print(x[i], value(x[i]))"
   ]
  },
  {
   "cell_type": "markdown",
   "metadata": {},
   "source": [
    "これが費用最小のポートフォリオとなる。総費用は、"
   ]
  },
  {
   "cell_type": "code",
   "execution_count": 16,
   "metadata": {},
   "outputs": [
    {
     "output_type": "execute_result",
     "data": {
      "text/plain": "55828.6423505"
     },
     "metadata": {},
     "execution_count": 16
    }
   ],
   "source": [
    "sum([value(x[i])*bond_data['価格'][i] for i in range(len(bond_data))])"
   ]
  },
  {
   "cell_type": "markdown",
   "metadata": {},
   "source": [
    "## (c)デュレーション・マッチング\n",
    "期間$i$における$j$番目の債券のキャッシュフローを$c_{ij}$、債務のキャッシュフローを$y_i$とする。<br>\n",
    "また現在から$i$期間後までの時間を$t_i$年とする。"
   ]
  },
  {
   "cell_type": "code",
   "execution_count": 17,
   "metadata": {},
   "outputs": [],
   "source": [
    "# 時間\n",
    "t = np.array([(cash_flow['年'][i] - cash_flow['年'][0]).days/365 for i in range(len(cash_flow))])\n",
    "# 債券のキャッシュフローを格納した行列\n",
    "c = np.array(cash_flow.loc[:, cash_flow.columns.str.contains('実在')])\n",
    "# 債務のキャッシュフローを格納した行列\n",
    "y = np.append(0, np.array(debt_data['債務価格']))"
   ]
  },
  {
   "cell_type": "markdown",
   "metadata": {},
   "source": [
    "$j$番目の債券の現在価値を$PV_j$、債務の現在価値を$PV$とすると、\n",
    "\\begin{align}\n",
    "PV_j = \\sum_{i=1}^nc_{ij}e^{-r(t_i)t_i}\\\\\n",
    "PV = \\sum_{i=1}^ny_ie^{-r(t_i)t_i}\n",
    "\\end{align}"
   ]
  },
  {
   "cell_type": "code",
   "execution_count": 18,
   "metadata": {},
   "outputs": [],
   "source": [
    "# 債券の現在価値(bond)\n",
    "PVb = (np.exp(-r(t[1:])*t[1:])*c[1:].T).sum(axis=1)\n",
    "# 債務の現在価値(debt)\n",
    "PVd = (np.exp(-r(t[1:])*t[1:])*y[1:]).sum()"
   ]
  },
  {
   "cell_type": "markdown",
   "metadata": {},
   "source": [
    "また、ケース$k$として、期間構造のパラメータ$\\alpha_k$の変化に対して守る場合、$j$番目の債券のデュレーションを$D^{(k)}_j$、債務のデュレーションを$D^{(k)}$とすると、\n",
    "\\begin{align}\n",
    "D^{(k)}_j &= -\\frac{1}{PV_j}\\frac{d}{d\\alpha_k}PV_j\\\\\n",
    "&=-\\frac{1}{PV_j}\\sum_{i=1}^nc_{ij}\\frac{d}{d\\alpha_k}e^{-r(t_i)t_i}\\\\\n",
    "&=-\\frac{1}{PV_j}\\sum_{i=1}^nc_{ij}e^{-r(t_i)t_i}(-t_i^kt_i)\\\\\n",
    "&= \\frac{1}{PV_j}\\sum_{i=1}^nt_i^{k+1}c_{ij}e^{-r(t_i)t_i}\\\\\n",
    "D^{(k)} &= -\\frac{1}{PV}\\frac{d}{d\\alpha_k}PV\\\\\n",
    " &= -\\frac{1}{PV}\\frac{d}{d\\alpha_k}\\sum_{i=1}^ny_ie^{-r(t_i)t_i}\\\\\n",
    " &= \\frac{1}{PV}\\sum_{i=1}^nt_i^{k+1}y_ie^{-r(t_i)t_i}\\\\\n",
    "\\end{align}"
   ]
  },
  {
   "cell_type": "code",
   "execution_count": 19,
   "metadata": {},
   "outputs": [],
   "source": [
    "# 債券のデュレーション\n",
    "Db = np.empty((5, len(bond_data)))\n",
    "for k in range(5):\n",
    "    Db[k] = (t**(k+1)*c.T*np.exp(-r(t)*t)).sum(axis=1)/PVb\n",
    "# 債務のデュレーション\n",
    "Dd = np.empty((5))\n",
    "for k in range(5):\n",
    "    Dd[k] = (t**(k+1)*y*np.exp(-r(t)*t)).sum()/PVd"
   ]
  },
  {
   "cell_type": "markdown",
   "metadata": {},
   "source": [
    "したがって$j$番目の債券の購入単位を$x_j$とすると、ケース$k$の場合におけるイミュナイズの方程式は、\n",
    "\\begin{align}\n",
    "\\sum_{j=1}^mx_jPV_j &= PV\\\\\n",
    "\\sum_{j=1}^mx_jPV_jD^{(k)}_j &= PVD^{(k)}\\\\\n",
    "\\end{align}"
   ]
  },
  {
   "cell_type": "markdown",
   "metadata": {},
   "source": [
    "これを制約として、初期の購入価格を最小にする最小問題を解けば良い。\n",
    "\\begin{align}\n",
    "\\min_{\\bf x}\\sum_{j=1}^mx_jp_j\n",
    "\\end{align}"
   ]
  },
  {
   "cell_type": "code",
   "execution_count": 20,
   "metadata": {
    "tags": []
   },
   "outputs": [],
   "source": [
    "ans_df = pd.DataFrame(data=[], columns=['ケース{0}'.format(k+1) for k in range(5)], index=['x{0}'.format(j+1) for j in range(len(bond_data))]+['費用'])\n",
    "for k in range(5):\n",
    "    m = LpProblem() # 最小化問題として定式化\n",
    "    x = [LpVariable('x{0}'.format(i+1), lowBound=0) for i in range(len(bond_data))] # 正の変数xの設定\n",
    "    m += (bond_data['価格']*x).sum() # 目的関数\n",
    "    m += (PVb*x).sum() == PVd # 現在価値の制約\n",
    "    m += (Db[k]*PVb*x).sum() == PVd*Dd[k] # デュレーションの制約\n",
    "    m.solve() # ソルバーの実行\n",
    "\n",
    "    ans_df['ケース{0}'.format(k+1)] = [value(x[i]) for i in range(len(x))]+[([value(x[i]) for i in range(len(x))]*bond_data['価格']).sum()]"
   ]
  },
  {
   "cell_type": "code",
   "execution_count": 21,
   "metadata": {},
   "outputs": [
    {
     "output_type": "execute_result",
     "data": {
      "text/plain": "             ケース1          ケース2          ケース3          ケース4          ケース5\nx1       0.000000      0.000000      0.000000      0.000000      0.000000\nx2      97.706900      0.000000      0.000000      0.000000      0.000000\nx3       0.000000      0.000000      0.000000      0.000000      0.000000\nx4       0.000000      0.000000      0.000000      0.000000      0.000000\nx5       0.000000      0.000000      0.000000      0.000000      0.000000\nx6       0.000000      0.000000      0.000000      0.000000      0.000000\nx7       0.000000      0.000000      0.000000      0.000000      0.000000\nx8       0.000000    130.309230      0.000000      0.000000      0.000000\nx9       0.000000      0.000000      0.000000      0.000000      0.000000\nx10      0.000000      0.000000     66.926931      0.000000      0.000000\nx11      0.000000      0.000000      0.000000      0.000000      0.000000\nx12      0.000000      0.000000      0.000000      0.000000      0.000000\nx13      0.000000      0.000000      0.000000      0.000000      0.000000\nx14    411.838090    375.743610    426.065520    435.953210    343.305940\nx15      0.000000      0.000000      0.000000      0.000000      0.000000\nx16      0.000000      0.000000      0.000000     47.128184    139.678930\nx17      0.000000      0.000000      0.000000      0.000000      0.000000\nx18      0.000000      0.000000      0.000000      0.000000      0.000000\n費用   54781.998523  54300.350896  53341.816700  52657.877170  52527.953043",
      "text/html": "<div>\n<style scoped>\n    .dataframe tbody tr th:only-of-type {\n        vertical-align: middle;\n    }\n\n    .dataframe tbody tr th {\n        vertical-align: top;\n    }\n\n    .dataframe thead th {\n        text-align: right;\n    }\n</style>\n<table border=\"1\" class=\"dataframe\">\n  <thead>\n    <tr style=\"text-align: right;\">\n      <th></th>\n      <th>ケース1</th>\n      <th>ケース2</th>\n      <th>ケース3</th>\n      <th>ケース4</th>\n      <th>ケース5</th>\n    </tr>\n  </thead>\n  <tbody>\n    <tr>\n      <th>x1</th>\n      <td>0.000000</td>\n      <td>0.000000</td>\n      <td>0.000000</td>\n      <td>0.000000</td>\n      <td>0.000000</td>\n    </tr>\n    <tr>\n      <th>x2</th>\n      <td>97.706900</td>\n      <td>0.000000</td>\n      <td>0.000000</td>\n      <td>0.000000</td>\n      <td>0.000000</td>\n    </tr>\n    <tr>\n      <th>x3</th>\n      <td>0.000000</td>\n      <td>0.000000</td>\n      <td>0.000000</td>\n      <td>0.000000</td>\n      <td>0.000000</td>\n    </tr>\n    <tr>\n      <th>x4</th>\n      <td>0.000000</td>\n      <td>0.000000</td>\n      <td>0.000000</td>\n      <td>0.000000</td>\n      <td>0.000000</td>\n    </tr>\n    <tr>\n      <th>x5</th>\n      <td>0.000000</td>\n      <td>0.000000</td>\n      <td>0.000000</td>\n      <td>0.000000</td>\n      <td>0.000000</td>\n    </tr>\n    <tr>\n      <th>x6</th>\n      <td>0.000000</td>\n      <td>0.000000</td>\n      <td>0.000000</td>\n      <td>0.000000</td>\n      <td>0.000000</td>\n    </tr>\n    <tr>\n      <th>x7</th>\n      <td>0.000000</td>\n      <td>0.000000</td>\n      <td>0.000000</td>\n      <td>0.000000</td>\n      <td>0.000000</td>\n    </tr>\n    <tr>\n      <th>x8</th>\n      <td>0.000000</td>\n      <td>130.309230</td>\n      <td>0.000000</td>\n      <td>0.000000</td>\n      <td>0.000000</td>\n    </tr>\n    <tr>\n      <th>x9</th>\n      <td>0.000000</td>\n      <td>0.000000</td>\n      <td>0.000000</td>\n      <td>0.000000</td>\n      <td>0.000000</td>\n    </tr>\n    <tr>\n      <th>x10</th>\n      <td>0.000000</td>\n      <td>0.000000</td>\n      <td>66.926931</td>\n      <td>0.000000</td>\n      <td>0.000000</td>\n    </tr>\n    <tr>\n      <th>x11</th>\n      <td>0.000000</td>\n      <td>0.000000</td>\n      <td>0.000000</td>\n      <td>0.000000</td>\n      <td>0.000000</td>\n    </tr>\n    <tr>\n      <th>x12</th>\n      <td>0.000000</td>\n      <td>0.000000</td>\n      <td>0.000000</td>\n      <td>0.000000</td>\n      <td>0.000000</td>\n    </tr>\n    <tr>\n      <th>x13</th>\n      <td>0.000000</td>\n      <td>0.000000</td>\n      <td>0.000000</td>\n      <td>0.000000</td>\n      <td>0.000000</td>\n    </tr>\n    <tr>\n      <th>x14</th>\n      <td>411.838090</td>\n      <td>375.743610</td>\n      <td>426.065520</td>\n      <td>435.953210</td>\n      <td>343.305940</td>\n    </tr>\n    <tr>\n      <th>x15</th>\n      <td>0.000000</td>\n      <td>0.000000</td>\n      <td>0.000000</td>\n      <td>0.000000</td>\n      <td>0.000000</td>\n    </tr>\n    <tr>\n      <th>x16</th>\n      <td>0.000000</td>\n      <td>0.000000</td>\n      <td>0.000000</td>\n      <td>47.128184</td>\n      <td>139.678930</td>\n    </tr>\n    <tr>\n      <th>x17</th>\n      <td>0.000000</td>\n      <td>0.000000</td>\n      <td>0.000000</td>\n      <td>0.000000</td>\n      <td>0.000000</td>\n    </tr>\n    <tr>\n      <th>x18</th>\n      <td>0.000000</td>\n      <td>0.000000</td>\n      <td>0.000000</td>\n      <td>0.000000</td>\n      <td>0.000000</td>\n    </tr>\n    <tr>\n      <th>費用</th>\n      <td>54781.998523</td>\n      <td>54300.350896</td>\n      <td>53341.816700</td>\n      <td>52657.877170</td>\n      <td>52527.953043</td>\n    </tr>\n  </tbody>\n</table>\n</div>"
     },
     "metadata": {},
     "execution_count": 21
    }
   ],
   "source": [
    "ans_df"
   ]
  },
  {
   "cell_type": "markdown",
   "metadata": {},
   "source": [
    "これがそれぞれのパターンにおいてイミュナイズされたポートフォリオの構成である。"
   ]
  }
 ]
}