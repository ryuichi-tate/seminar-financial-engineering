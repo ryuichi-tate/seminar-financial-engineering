{
 "cells": [
  {
   "cell_type": "markdown",
   "metadata": {},
   "source": [
    "# ポートフォリオ最適化"
   ]
  },
  {
   "cell_type": "markdown",
   "metadata": {},
   "source": [
    "$i$番目の資産の収益率$r_i$なので、この資産の価格を$P_i$、収益を$d_i$とすると、\n",
    "\\begin{align}\n",
    "d_i = P_i(1+r_i)\n",
    "\\end{align}\n",
    "が成り立つ。<br>\n",
    "また、無リスク資産の価格を$P_f$、収益を$d_f$とすると、\n",
    "\\begin{align}\n",
    "d_f = P_f(1+r_f)\n",
    "\\end{align}\n",
    "が成り立つ。<br>\n",
    "この時、富$W_0$をもつ投資家が解く最適化問題は,式(11.3)より\n",
    "\\begin{align}\n",
    "\\mbox{maximize}_{\\boldsymbol\\theta} &\\ \\ \\mathbb{E}[U(x)]\\\\\n",
    "s.t.\\ \\ \\ \\ \\ \\ \\ \\ &x=\\sum_{i=1}^n\\theta_id_i + \\theta_fd_f,\\\\\n",
    "&x\\geq0\\\\\n",
    "&\\sum_{i=1}^n\\theta_iP_i+\\theta_fP_f\\leq W_0\n",
    "\\end{align}\n",
    "である。"
   ]
  },
  {
   "cell_type": "markdown",
   "metadata": {},
   "source": [
    "これを書き換えると、\n",
    "\\begin{align}\n",
    "\\mbox{maximize}_{\\boldsymbol\\theta} &\\ \\ \\mathbb{E}\\left[U\\left(\\sum_{i=1}^n\\theta_id_i+\\theta_fd_f\\right)\\right]\\\\\n",
    "s.t.\\ \\ \\ \\ \\ \\ \\ \\ &\\sum_{i=1}^n\\theta_iP_i+\\theta_fP_f\\leq W_0\n",
    "\\end{align}\n",
    "となる。（教科書P.364）"
   ]
  },
  {
   "cell_type": "markdown",
   "metadata": {},
   "source": [
    "ラグランジュ未定乗数法による、ラグランジュ方程式は、\n",
    "\\begin{align}\n",
    "L=\\mathbb{E}\\left[U\\left(\\sum_{i=1}^n\\theta_id_i+\\theta_fd_f\\right)\\right]-\\lambda\\left(\\sum_{i=1}^n\\theta_iP_i+\\theta_fP_f-W_0\\right)\n",
    "\\end{align}\n",
    "なので、最適解\n",
    "\\begin{align}\n",
    "x^{\\ast}=\\sum_{i=1}^n\\theta^{\\ast}_id_i + \\theta_f^{\\ast}d_f\n",
    "\\end{align}\n",
    "は、$L$を$\\theta_i$で微分した方程式\n",
    "\\begin{align}\n",
    "\\frac{d}{d\\theta_i}L=0\n",
    "\\end{align}\n",
    "を満たす。"
   ]
  },
  {
   "cell_type": "markdown",
   "metadata": {},
   "source": [
    "したがって\n",
    "\\begin{align}\n",
    "\\mathbb{E}\\left[U'\\left(\\sum_{i=1}^n\\theta^{\\ast}_id_i+\\theta^{\\ast}_fd_f\\right)d_i\\right]-\\lambda P_i=0\n",
    "\\end{align}\n",
    "両辺を$P_i$で割る。\n",
    "\\begin{align}\n",
    "\\mathbb{E}\\left[U'\\left(\\sum_{i=1}^n\\theta^{\\ast}_id_i+\\theta^{\\ast}_fd_f\\right)(1+r_i)\\right]-\\lambda=0\\tag{1}\n",
    "\\end{align}"
   ]
  },
  {
   "cell_type": "markdown",
   "metadata": {},
   "source": [
    "また、最適解$x^{\\ast}$は、$L$を$\\theta_f$で微分した方程式\n",
    "\\begin{align}\n",
    "\\frac{d}{d\\theta_f}L=0\n",
    "\\end{align}\n",
    "も満たす。"
   ]
  },
  {
   "cell_type": "markdown",
   "metadata": {},
   "source": [
    "よって\n",
    "\\begin{align}\n",
    "\\mathbb{E}\\left[U'\\left(\\sum_{i=1}^n\\theta^{\\ast}_id_i+\\theta^{\\ast}_fd_f\\right)d_f\\right]-\\lambda P_f=0\n",
    "\\end{align}\n",
    "両辺を$P_i$で割る。\n",
    "\\begin{align}\n",
    "\\mathbb{E}\\left[U'\\left(\\sum_{i=1}^n\\theta^{\\ast}_id_i+\\theta^{\\ast}_fd_f\\right)(1+r_f)\\right]-\\lambda=0\\tag{2}\n",
    "\\end{align}"
   ]
  },
  {
   "cell_type": "markdown",
   "metadata": {},
   "source": [
    "(1)式と(2)式より、辺々引くと\n",
    "\\begin{align}\n",
    "\\mathbb{E}\\left[U'\\left(\\sum_{i=1}^n\\theta^{\\ast}_id_i+\\theta^{\\ast}_fd_f\\right)(r_i-r_i)\\right]=0\n",
    "\\end{align}\n",
    "\n",
    "\\begin{align}\n",
    "\\therefore \\mathbb{E}[U'(x^{\\ast})(r_i-r_f)]=0\n",
    "\\end{align}"
   ]
  }
 ],
 "metadata": {
  "kernelspec": {
   "display_name": "Python 3",
   "language": "python",
   "name": "python3"
  },
  "language_info": {
   "codemirror_mode": {
    "name": "ipython",
    "version": 3
   },
   "file_extension": ".py",
   "mimetype": "text/x-python",
   "name": "python",
   "nbconvert_exporter": "python",
   "pygments_lexer": "ipython3",
   "version": "3.7.0"
  }
 },
 "nbformat": 4,
 "nbformat_minor": 2
}
