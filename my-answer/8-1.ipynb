{
 "cells": [
  {
   "cell_type": "markdown",
   "metadata": {},
   "source": [
    "# 単純なポートフォリオ"
   ]
  },
  {
   "cell_type": "markdown",
   "metadata": {},
   "source": [
    "## (a)"
   ]
  },
  {
   "cell_type": "code",
   "execution_count": null,
   "metadata": {},
   "outputs": [],
   "source": []
  },
  {
   "cell_type": "code",
   "execution_count": 19,
   "metadata": {},
   "outputs": [],
   "source": [
    "import numpy as np\n",
    "np.set_printoptions(precision=4)"
   ]
  },
  {
   "cell_type": "markdown",
   "metadata": {},
   "source": [
    "CAPMの公式より\n",
    "\\begin{align}\n",
    "\\bar r_i = r_f + \\beta_i(\\bar r_M - r_f)\n",
    "\\end{align}"
   ]
  },
  {
   "cell_type": "markdown",
   "metadata": {},
   "source": [
    "ポートフォリオの期待収益率を$\\bar r_p$とすると、\n",
    "\\begin{align}\n",
    "\\bar r_p &= \\sum_i w_i \\bar r_i\\\\\n",
    "&= \\sum_i w_i \\left\\{r_f + \\beta_i(\\bar r_M - r_f)\\right\\}\\\\\n",
    "&= r_f +  \\sum_iw_i\\beta_i(\\bar r_M - r_f)\\\\\n",
    "&= 0.1144\n",
    "\\end{align}"
   ]
  },
  {
   "cell_type": "code",
   "execution_count": 20,
   "metadata": {},
   "outputs": [],
   "source": [
    "r_M = 0.12\n",
    "r_f = 0.05\n",
    "beta = np.array([[1.10],[0.80],[1.00]])\n",
    "w = np.array([[0.2],[0.5],[0.3]])\n",
    "r_p = r_f + ( w*beta*(r_M - r_f) ).sum()"
   ]
  },
  {
   "cell_type": "code",
   "execution_count": 21,
   "metadata": {},
   "outputs": [
    {
     "name": "stdout",
     "output_type": "stream",
     "text": [
      "r_p = 0.1144\n"
     ]
    }
   ],
   "source": [
    "print('r_p = {:.4g}'.format(r_p))"
   ]
  },
  {
   "cell_type": "markdown",
   "metadata": {},
   "source": [
    "## (b)"
   ]
  },
  {
   "cell_type": "markdown",
   "metadata": {},
   "source": [
    " 1-factor model より\n",
    " \\begin{align}\n",
    " r_i = a_i + b_ir_M + e_i\\ \\ \\ \\ (f=r_M)\n",
    " \\end{align}"
   ]
  },
  {
   "cell_type": "markdown",
   "metadata": {},
   "source": [
    "$r_i$と$r_M$の共分散を計算すると、\n",
    "\\begin{align}\n",
    "Cov[r_i, r_M] &= Cov[a_i + b_ir_M + e_i, r_M]\\\\\n",
    "&= b_iVar[r_M] + Cov[e_i, r_M]\\\\\n",
    "&= b_iVar[r_M]\\ \\ \\ \\ \\ (\\because誤差項e_iとファクターf=r_Mは独立という仮定)\\\\\n",
    "\\sigma_{iM} &= b_i\\sigma_M^2\\\\\n",
    "\\therefore b_i &= \\frac{\\sigma_{iM}}{\\sigma_M^2}=\\beta_i\n",
    "\\end{align}"
   ]
  },
  {
   "cell_type": "markdown",
   "metadata": {},
   "source": [
    "ポートフォリオの収益率の標準偏差を$\\sigma_p$とすると、\n",
    "\\begin{align}\n",
    "\\sigma_p^2 &= Var[r_p]\\\\\n",
    "&= Var\\left[\\sum_{i}w_ir_i\\right]\\\\\n",
    "&= Var\\left[\\sum_{i}w_i(a_i + \\beta_ir_M + e_i)\\right]\\\\\n",
    "&= Var\\left[\\sum_{i}w_ia_i + \\sum_{i}w_i\\beta_ir_M + \\sum_{i}w_ie_i\\right]\\\\\n",
    "&= Var\\left[\\sum_{i}w_i\\beta_ir_M\\right] +  Var\\left[\\sum_{i}w_ie_i\\right]\\ \\ \\ \\ \\ (\\because誤差項e_iとファクターf=r_Mは独立)\\\\\n",
    "&= \\left(\\sum_{i}w_i\\beta_i\\right)^2\\sigma_M^2 + \\sum_iw_i^2\\sigma_{e_i}^2\\\\\n",
    "&= 0.02776\\\\\n",
    "\\sigma_p &= 0.1666\n",
    "\\end{align}"
   ]
  },
  {
   "cell_type": "code",
   "execution_count": 41,
   "metadata": {
    "scrolled": false
   },
   "outputs": [],
   "source": [
    "sigma_M = 0.18\n",
    "sigma_e = np.array([[0.07],[0.023],[0.01]])\n",
    "sigma_p2 = ((w*beta).sum() )**2*sigma_M**2 + (w**2*sigma_e**2).sum()\n",
    "sigma_p = np.sqrt(sigma_p2)"
   ]
  },
  {
   "cell_type": "code",
   "execution_count": 44,
   "metadata": {},
   "outputs": [
    {
     "name": "stdout",
     "output_type": "stream",
     "text": [
      "sigma_p = 0.1666\n"
     ]
    }
   ],
   "source": [
    "print('sigma_p = {:.4g}'.format(sigma_p))"
   ]
  }
 ],
 "metadata": {
  "kernelspec": {
   "display_name": "Python 3",
   "language": "python",
   "name": "python3"
  },
  "language_info": {
   "codemirror_mode": {
    "name": "ipython",
    "version": 3
   },
   "file_extension": ".py",
   "mimetype": "text/x-python",
   "name": "python",
   "nbconvert_exporter": "python",
   "pygments_lexer": "ipython3",
   "version": "3.7.0"
  }
 },
 "nbformat": 4,
 "nbformat_minor": 2
}
