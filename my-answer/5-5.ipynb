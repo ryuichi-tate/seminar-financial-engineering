{
 "metadata": {
  "language_info": {
   "codemirror_mode": {
    "name": "ipython",
    "version": 3
   },
   "file_extension": ".py",
   "mimetype": "text/x-python",
   "name": "python",
   "nbconvert_exporter": "python",
   "pygments_lexer": "ipython3",
   "version": 3
  },
  "orig_nbformat": 2
 },
 "nbformat": 4,
 "nbformat_minor": 2,
 "cells": [
  {
   "cell_type": "markdown",
   "metadata": {},
   "source": [
    "# 3項格子"
   ]
  },
  {
   "cell_type": "markdown",
   "metadata": {},
   "source": [
    "3項格子の場合は、期間が$1$進むとノードの増加量が$2$増加する。（ずっと上、もしくはずっと下を選択し続けた場合の分）<br>\n",
    "つまり$n$期間目に増えるノード数は$2n+1$個なので、$n$期間後のノード数の合計は\n",
    "\\begin{align}\n",
    "S_n = \\sum_{k=0}^n2k+1 = \\frac{n+1}{2}(1+2n+1) = (n+1)^2\n",
    "\\end{align}\n",
    "\\begin{align}\n",
    "\\therefore S_3 = 16\n",
    "\\end{align}"
   ]
  },
  {
   "cell_type": "markdown",
   "metadata": {},
   "source": [
    "3項ツリーの場合は、期間が$1$進むとノードの増加量が$3$倍になる。<br>\n",
    "つまり$k$期間目に増えるノード数は$3^k$個なので、$n$期間後のノード数の合計は\n",
    "\\begin{align}\n",
    "S_n = \\sum_{k=0}^n3^k = \\frac{3^{n+1}-1}{3-1}\n",
    "\\end{align}\n",
    "\\begin{align}\n",
    "\\therefore S_3 = 40\n",
    "\\end{align}"
   ]
  }
 ]
}