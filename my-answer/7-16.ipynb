{
 "metadata": {
  "language_info": {
   "codemirror_mode": {
    "name": "ipython",
    "version": 3
   },
   "file_extension": ".py",
   "mimetype": "text/x-python",
   "name": "python",
   "nbconvert_exporter": "python",
   "pygments_lexer": "ipython3",
   "version": 3
  },
  "orig_nbformat": 2
 },
 "nbformat": 4,
 "nbformat_minor": 2,
 "cells": [
  {
   "source": [
    "# 分離空間"
   ],
   "cell_type": "markdown",
   "metadata": {}
  },
  {
   "source": [
    "$x$を$\\mathcal{M}$上へ射影したポイントにある資産を$\\pi_{\\mathcal{M}}$とおく。<br>\n",
    "$x$を$\\mathcal{N}$上へ射影したポイントにある資産を$\\pi_{\\mathcal{N}}$とおく。<br>"
   ],
   "cell_type": "markdown",
   "metadata": {}
  },
  {
   "source": [
    "射影したという事実から、$\\mathcal{M}$上の任意の資産を$m_{\\mathcal{M}}$、$\\mathcal{N}$上の任意の資産を$m_{\\mathcal{N}}$とすると、\n",
    "\\begin{align}\n",
    "\\mathbb{E}[(x-\\pi_{\\mathcal{M}})m_{\\mathcal{M}}] &= 0\\ \\ \\rightarrow\\ \\ \\mathbb{E}[xm_{\\mathcal{M}}] = \\mathbb{E}[\\pi_{\\mathcal{M}}m_{\\mathcal{M}}]\\tag{*}\\\\\n",
    "\\mathbb{E}[(x-\\pi_{\\mathcal{N}})m_{\\mathcal{N}}] &= 0\\ \\ \\rightarrow\\ \\ \\mathbb{E}[xm_{\\mathcal{N}}] = \\mathbb{E}[\\pi_{\\mathcal{N}}m_{\\mathcal{N}}]\\tag{**}\n",
    "\\end{align}"
   ],
   "cell_type": "markdown",
   "metadata": {}
  },
  {
   "source": [
    "$m_{\\mathcal{N}}\\in\\mathcal{N}\\subset\\mathcal{M}$より$m_{\\mathcal{N}}\\in\\mathcal{M}$なので、\n",
    "\\begin{align}\n",
    "\\mathbb{E}[(x-\\pi_{\\mathcal{M}})m_{\\mathcal{N}}] = 0\\tag{*}\\\\\n",
    "\\end{align}"
   ],
   "cell_type": "markdown",
   "metadata": {}
  }
 ]
}