{
 "metadata": {
  "language_info": {
   "codemirror_mode": {
    "name": "ipython",
    "version": 3
   },
   "file_extension": ".py",
   "mimetype": "text/x-python",
   "name": "python",
   "nbconvert_exporter": "python",
   "pygments_lexer": "ipython3",
   "version": "3.7.0-final"
  },
  "orig_nbformat": 2,
  "kernelspec": {
   "name": "Python 3.7.0 64-bit ('anaconda3-5.3.1': pyenv)",
   "display_name": "Python 3.7.0 64-bit ('anaconda3-5.3.1': pyenv)",
   "metadata": {
    "interpreter": {
     "hash": "69a136449174336f9e0368e6e2a94f5fcdb528bd494f723889be5ddb2edd6305"
    }
   }
  }
 },
 "nbformat": 4,
 "nbformat_minor": 2,
 "cells": [
  {
   "source": [
    "# Wizards"
   ],
   "cell_type": "markdown",
   "metadata": {}
  },
  {
   "source": [
    "## (a)"
   ],
   "cell_type": "markdown",
   "metadata": {}
  },
  {
   "source": [
    "このプロジェクトの収益率を$r_p$、その期待値を$\\bar r_p$とする。\n",
    "\\begin{align}\n",
    "\\bar r_p = \\mathbb{E}[r_p] = \\mathbb{E}\\left[\\frac{p}{c}-1\\right]\n",
    "\\end{align}\n",
    "条件より、確率変数$c$と確率変数$p$は無相関なので、\n",
    "\\begin{align}\n",
    "\\bar r_p &= \\mathbb{E}[p]\\mathbb{E}\\left[\\frac{1}{c}\\right]-1\\\\\n",
    "\\\\\n",
    "&= \\bar p \\times (\\frac{1}{2000}\\cdot\\frac{1}{2} + \\frac{1}{1600}\\cdot\\frac{1}{2}) -1\\\\\n",
    "\\\\\n",
    "&= 0.35\n",
    "\\end{align}\n",
    "よって$35\\%$。"
   ],
   "cell_type": "markdown",
   "metadata": {}
  },
  {
   "cell_type": "code",
   "execution_count": 2,
   "metadata": {},
   "outputs": [
    {
     "output_type": "execute_result",
     "data": {
      "text/plain": [
       "0.3500000000000001"
      ]
     },
     "metadata": {},
     "execution_count": 2
    }
   ],
   "source": [
    "r_p = 2400*(1/2000*1/2+1/1600*1/2)-1\n",
    "r_p"
   ]
  },
  {
   "source": [
    "## (b)"
   ],
   "cell_type": "markdown",
   "metadata": {}
  },
  {
   "source": [
    "\\begin{align}\n",
    "\\sigma_{pM} &= Cov[r_p,\\ r_M]\\\\\n",
    "\\\\\n",
    "&= \\mathbb{E}[(r_p - \\bar r_p)(r_M - \\bar r_M)]\\\\\n",
    "\\\\\n",
    "&= \\mathbb{E}\\left[\\left\\{\\left(\\frac{p}{c}-1\\right) - \\mathbb{E}\\left[\\frac{p}{c}-1\\right]\\right\\}(r_M - \\bar r_M)\\right]\\\\\n",
    "\\\\\n",
    "&= \\mathbb{E}\\left[\\left(\\frac{p}{c}-\\bar p\\cdot\\mathbb{E}\\left[\\frac{1}{c}\\right]\\right)(r_M - \\bar r_M)\\right]\n",
    "\\end{align}\n",
    "確率変数$c$は最終価格$p$とも市場$r_M$とも無相関なので、\n",
    "\\begin{align}\n",
    "\\sigma_{pM}&= \\mathbb{E}\\left[\\frac{1}{p}\\right]\\cdot\\mathbb{E}\\left[(p-\\bar p)(r_M - \\bar r_M)\\right]\\\\\n",
    "\\\\\n",
    "&= (\\frac{1}{2000\\times10^4}\\cdot\\frac{1}{2} + \\frac{1}{1600\\times10^4}\\cdot\\frac{1}{2})\\cdot 2\\times10^7\\sigma_M^2\\\\\n",
    "\\\\\n",
    "&= 1.125\\sigma_M^2\n",
    "\\end{align}"
   ],
   "cell_type": "markdown",
   "metadata": {}
  },
  {
   "cell_type": "code",
   "execution_count": 5,
   "metadata": {},
   "outputs": [
    {
     "output_type": "execute_result",
     "data": {
      "text/plain": [
       "1.125"
      ]
     },
     "metadata": {},
     "execution_count": 5
    }
   ],
   "source": [
    "sigma_pM = (1/(2000*10**4)/2 + (1/(1600*10**4)/2))*2*10**7\n",
    "sigma_pM"
   ]
  },
  {
   "source": [
    "よって\n",
    "\\begin{align}\n",
    "\\beta_{pM} = \\frac{\\sigma_{pM}}{\\sigma_M^2} = 1.125\n",
    "\\end{align}"
   ],
   "cell_type": "markdown",
   "metadata": {}
  },
  {
   "source": [
    "## (c)"
   ],
   "cell_type": "markdown",
   "metadata": {}
  },
  {
   "source": [
    "CAPMによるプロジェクト$p$の価格付けは、\n",
    "\\begin{align}\n",
    "\\bar r_p - r_f &= \\beta_{pM}(\\bar r_M - r_f)\\\\\n",
    "\\\\\n",
    "\\bar r_p &= r_f + \\beta_{pM}(\\bar r_M - r_f)\\\\\n",
    "\\\\\n",
    "&= 0.09 + 1.125\\cdot(0.33 - 0.09)\\\\\n",
    "\\\\\n",
    "&= 0.36\n",
    "\\end{align}\n",
    "より、$36\\%$なので、プロジェクトの期待収益率$35\\%$よりもCAPMによる期待収益率の方が高くなる。すなわち受け入れるべきではない。"
   ],
   "cell_type": "markdown",
   "metadata": {}
  },
  {
   "cell_type": "code",
   "execution_count": 8,
   "metadata": {},
   "outputs": [
    {
     "output_type": "execute_result",
     "data": {
      "text/plain": [
       "0.36"
      ]
     },
     "metadata": {},
     "execution_count": 8
    }
   ],
   "source": [
    "0.09 + 1.125*(0.33 - 0.09)"
   ]
  }
 ]
}