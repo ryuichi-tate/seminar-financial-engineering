{
 "metadata": {
  "language_info": {
   "codemirror_mode": {
    "name": "ipython",
    "version": 3
   },
   "file_extension": ".py",
   "mimetype": "text/x-python",
   "name": "python",
   "nbconvert_exporter": "python",
   "pygments_lexer": "ipython3",
   "version": 3
  },
  "orig_nbformat": 2,
  "kernelspec": {
   "name": "python_defaultSpec_1597101110638",
   "display_name": "Python 3.7.0 64-bit ('base': conda)"
  }
 },
 "nbformat": 4,
 "nbformat_minor": 2,
 "cells": [
  {
   "cell_type": "markdown",
   "metadata": {},
   "source": [
    "# 問 4-10 オレンジ郡の憂鬱"
   ]
  },
  {
   "cell_type": "markdown",
   "metadata": {},
   "source": [
    "## 追加の説明\n",
    "- ポートフォリオは10年の期間を維持するために毎年再構築されていると仮定する。\n",
    "- 借入額は毎年125億ドルで維持していると仮定する。\n",
    "- オレンジ郡は、その年の初めに確定されていた金利で預金利息を支払うと仮定する。"
   ]
  },
  {
   "cell_type": "code",
   "execution_count": 17,
   "metadata": {},
   "outputs": [],
   "source": [
    "import numpy as np"
   ]
  },
  {
   "cell_type": "markdown",
   "metadata": {},
   "source": [
    "### ウォール・ストリートから125億ドルを借りなかった場合"
   ]
  },
  {
   "cell_type": "markdown",
   "metadata": {},
   "source": [
    "まず、もしウォール・ストリートから125億ドルを借りてこれを長期の確定利付債券に投資する、といったことを行わず、お預かりしている資金75億ドルをそのまま短期金利で増やした場合、6年後は、\n",
    "\\begin{align}\n",
    "75\\times 1.060 \\times 1.055 \\times 1.050 \\times 1.045 \\times 1.040 \\times 1.060 = 101.4528805290\n",
    "\\end{align}\n",
    "約101億ドルになる。"
   ]
  },
  {
   "cell_type": "code",
   "execution_count": 18,
   "metadata": {},
   "outputs": [
    {
     "output_type": "execute_result",
     "data": {
      "text/plain": "101.45288052899998"
     },
     "metadata": {},
     "execution_count": 18
    }
   ],
   "source": [
    "75*1.06*1.055*1.05*1.045*1.04*1.06"
   ]
  },
  {
   "cell_type": "markdown",
   "metadata": {},
   "source": [
    "### ウォール・ストリートから125億ドル借りた場合"
   ]
  },
  {
   "cell_type": "markdown",
   "metadata": {},
   "source": [
    "次に、問題文にある通りウォール・ストリートから借りた125億ドルと合わせた200億ドルを、デュレーションが10で平均利息が8.5%のポートフォリオに投資した場合を考える。\n",
    "\n",
    "$n$年度初めのポートフォリオの価値を$P(n)$とする。$P(1)=200$"
   ]
  },
  {
   "cell_type": "code",
   "execution_count": 19,
   "metadata": {},
   "outputs": [],
   "source": [
    "P = np.zeros(7)\n",
    "P[0] = 200"
   ]
  },
  {
   "cell_type": "markdown",
   "metadata": {},
   "source": [
    "今、このポートフォリオのデュレーション$D$が$10$なので、その修正デュレーションは\n",
    "\\begin{align}\n",
    "D_M &= \\frac{1}{1+\\lambda(n)}D\\\\\n",
    "\\end{align}\n",
    "ただし、$\\lambda(n)$は第$n$年度におけるこのポートフォリオの平均利率で、$\\frac{1}{2}\\%$づつ下がり、$2\\%$下がったら$2\\%$上がる。($\\lambda(1)=0.085$)"
   ]
  },
  {
   "cell_type": "code",
   "execution_count": 20,
   "metadata": {},
   "outputs": [
    {
     "output_type": "execute_result",
     "data": {
      "text/plain": "array([0.085, 0.08 , 0.075, 0.07 , 0.065, 0.085, 0.105])"
     },
     "metadata": {},
     "execution_count": 20
    }
   ],
   "source": [
    "lam = np.arange(0.085, 0.055, -0.005)\n",
    "lam[5] = lam[4]+0.02\n",
    "lam[6] = lam[5]+0.02\n",
    "lam"
   ]
  },
  {
   "cell_type": "markdown",
   "metadata": {},
   "source": [
    "また、第$n$年度のウォール・ストリートの証券会社への利息払いの利率を$r(n)$とする。"
   ]
  },
  {
   "cell_type": "code",
   "execution_count": 21,
   "metadata": {},
   "outputs": [
    {
     "output_type": "execute_result",
     "data": {
      "text/plain": "array([0.07 , 0.065, 0.06 , 0.055, 0.05 , 0.07 ])"
     },
     "metadata": {},
     "execution_count": 21
    }
   ],
   "source": [
    "r = np.arange(0.07, 0.045, -0.005)\n",
    "r[5] = r[4]+0.02\n",
    "r"
   ]
  },
  {
   "cell_type": "markdown",
   "metadata": {},
   "source": [
    "教科書P.75の(3.5)式より、ポートフォリオの現在価値を$P$とすると、\n",
    "\\begin{align}\n",
    "D_M &= -\\frac{1}{P}\\frac{dP}{d\\lambda}\\\\\n",
    "\\\\\n",
    "&\\simeq-\\frac{1}{P}\\frac{\\Delta P}{\\Delta\\lambda}\\\\\n",
    "\\\\\n",
    "\\Delta P &\\simeq - P \\Delta\\lambda D_M\\\\\n",
    "\\\\\n",
    "&= \\frac{- P \\Delta\\lambda D}{1+\\lambda}\n",
    "\\end{align}"
   ]
  },
  {
   "cell_type": "markdown",
   "metadata": {},
   "source": [
    "したがって、このポートフォリオの$n+1$年後の価値は、$n$年後時点での価値にこの変化とポートフォリオのクーポンを加算し、ウォール・ストリートへの利息払いを引いた値となる。\n",
    "\\begin{align}\n",
    "P(n+1) &= P(n)+\\Delta P+P(n)\\lambda(n) - 125r(n) \\\\\n",
    "&= P(n)+\\frac{- P(n) \\Delta\\lambda D}{1+\\lambda(n)}+P(n)\\lambda(n) - 125r(n)\n",
    "\\end{align}"
   ]
  },
  {
   "cell_type": "code",
   "execution_count": 22,
   "metadata": {},
   "outputs": [
    {
     "output_type": "execute_result",
     "data": {
      "text/plain": "array([200.        , 217.46658986, 236.80681473, 258.08159629,\n       281.3321957 , 240.5364512 , 207.8935332 ])"
     },
     "metadata": {},
     "execution_count": 22
    }
   ],
   "source": [
    "for n in range(6):\n",
    "    P[n+1] = P[n] + (-P[n]*(lam[n+1]-lam[n])*10)/(1+lam[n]) + P[n]*lam[n] - 125*r[n]\n",
    "P"
   ]
  },
  {
   "cell_type": "markdown",
   "metadata": {},
   "source": [
    "（確かに金利が上昇し始めてからポートフォリオの価値が下がり始めてる）"
   ]
  },
  {
   "cell_type": "markdown",
   "metadata": {},
   "source": [
    "したがって、初年度の収益率は\n",
    "\\begin{align}\n",
    "\\frac{P(2) - P(1)}{P(1)-125} = 23.28\\%\n",
    "\\end{align}"
   ]
  },
  {
   "cell_type": "code",
   "execution_count": 23,
   "metadata": {},
   "outputs": [
    {
     "output_type": "execute_result",
     "data": {
      "text/plain": "0.232887864823349"
     },
     "metadata": {},
     "execution_count": 23
    }
   ],
   "source": [
    "(P[1]-P[0])/(P[0]-125)"
   ]
  },
  {
   "cell_type": "markdown",
   "metadata": {},
   "source": [
    "6年後における収益率は\n",
    "\\begin{align}\n",
    "\\frac{P(7) - P(1)}{P(1)-125} = 10.52\\%\n",
    "\\end{align}"
   ]
  },
  {
   "cell_type": "code",
   "execution_count": 27,
   "metadata": {},
   "outputs": [
    {
     "output_type": "execute_result",
     "data": {
      "text/plain": "0.10524710939444239"
     },
     "metadata": {},
     "execution_count": 27
    }
   ],
   "source": [
    "(P[6]-P[0])/(P[0]-125)"
   ]
  }
 ]
}