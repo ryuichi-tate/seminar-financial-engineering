{
 "metadata": {
  "language_info": {
   "codemirror_mode": {
    "name": "ipython",
    "version": 3
   },
   "file_extension": ".py",
   "mimetype": "text/x-python",
   "name": "python",
   "nbconvert_exporter": "python",
   "pygments_lexer": "ipython3",
   "version": 3
  },
  "orig_nbformat": 2
 },
 "nbformat": 4,
 "nbformat_minor": 2,
 "cells": [
  {
   "source": [
    "# 特異なケース"
   ],
   "cell_type": "markdown",
   "metadata": {}
  },
  {
   "source": [
    "教科書P.215の式(6.10)\n",
    "\\begin{align}\n",
    "\\sum_{i=1}^n\\sigma_{ki}v_i = \\bar r_k - r_f\\ \\ \\ (k=1,2,\\cdots,n)\\tag{6.10}\n",
    "\\end{align}\n",
    "より、\n",
    "\\begin{align}\n",
    "\\sigma_1^2v_1 + \\sigma_{12}v_2 = \\bar r_1 - r_f\\\\\n",
    "\\sigma_{12}v_1 + \\sigma_2^2v_2 = \\bar r_2 - r_f\\\\\n",
    "\\end{align}\n",
    "r_1とr_2は無相関でどちらも分散が$1$なので\n",
    "\\begin{align}\n",
    "v_1 = \\bar r_1 - r_f\\\\\n",
    "v_2 = \\bar r_2 - r_f\\\\\n",
    "\\end{align}\n",
    "\\begin{align}\n",
    "\\therefore w_1 &= \\frac{\\bar r_1 - r_f}{\\bar r_1 + \\bar r_2 - 2r_f}\\\\\n",
    "w_2 &= \\frac{\\bar r_2 - r_f}{\\bar r_1 + \\bar r_2 - 2r_f}\\\\\n",
    "\\end{align}"
   ],
   "cell_type": "markdown",
   "metadata": {}
  },
  {
   "source": [
    "また式の形より、少なくとも$r_f = (\\bar r_1 + \\bar r_2)/2$の時はマーケットポートフォリオが計算できないことがわかる。"
   ],
   "cell_type": "markdown",
   "metadata": {}
  }
 ]
}