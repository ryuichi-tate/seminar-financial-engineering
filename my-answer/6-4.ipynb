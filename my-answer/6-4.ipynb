{
 "metadata": {
  "language_info": {
   "codemirror_mode": {
    "name": "ipython",
    "version": 3
   },
   "file_extension": ".py",
   "mimetype": "text/x-python",
   "name": "python",
   "nbconvert_exporter": "python",
   "pygments_lexer": "ipython3",
   "version": "3.7.0-final"
  },
  "orig_nbformat": 2,
  "kernelspec": {
   "name": "python3",
   "display_name": "Python 3"
  }
 },
 "nbformat": 4,
 "nbformat_minor": 2,
 "cells": [
  {
   "source": [
    "# 2つの株"
   ],
   "cell_type": "markdown",
   "metadata": {}
  },
  {
   "source": [
    "期待収益率$\\bar r_1$の株式の比率を$\\alpha$、もう一方の株式の比率を$(1-\\alpha)$とするポートフォリオの期待収益率を$\\bar r$、標準偏差を$\\sigma$とする。\n",
    "\\begin{align}\n",
    "\\bar r &= \\alpha\\bar r_1 + (1-\\alpha)\\bar r_2\\\\\n",
    "\\\\\n",
    "\\sigma^2 &= \\sigma_1^2\\alpha^2 +2\\alpha(1-\\alpha)\\sigma_{12} + (1-\\alpha)^2\\sigma_2^2\\\\\n",
    "\\\\\n",
    "&= (\\sigma_1^2-2\\sigma_{12}+\\sigma_2^2)\\alpha^2 - 2(\\sigma_2^2 - \\sigma_{12}) + \\sigma_2^2\n",
    "\\\\\n",
    "&= (\\sigma_1^2-2\\sigma_{12}+\\sigma_2^2)(\\alpha - \\frac{\\sigma_2^2 - \\sigma_{12}}{\\sigma_1^2-2\\sigma_{12}+\\sigma_2^2})^2 + \\mbox{Const.}\n",
    " \\end{align}"
   ],
   "cell_type": "markdown",
   "metadata": {}
  },
  {
   "source": [
    "よって$\\alpha = \\frac{\\sigma_2^2 - \\sigma_{12}}{\\sigma_1^2-2\\sigma_{12}+\\sigma_2^2}$の時にポートフォリオの分散は最小になるので、株式1には$\\frac{\\sigma_2^2 - \\sigma_{12}}{\\sigma_1^2-2\\sigma_{12}+\\sigma_2^2}$、株式2には$\\frac{\\sigma_1^2 - \\sigma_{12}}{\\sigma_1^2-2\\sigma_{12}+\\sigma_2^2}$の割合で投資をすれば良い。"
   ],
   "cell_type": "markdown",
   "metadata": {}
  },
  {
   "source": [
    "また、この時の期待収益率は\n",
    "\\begin{align}\n",
    "\\bar r &= \\alpha\\bar r_1 + (1-\\alpha)\\bar r_2\\\\\n",
    "\\\\\n",
    "&= \\frac{\\sigma_2^2 - \\sigma_{12}}{\\sigma_1^2-2\\sigma_{12}+\\sigma_2^2}\\bar r_1 + \\frac{\\sigma_1^2 - \\sigma_{12}}{\\sigma_1^2-2\\sigma_{12}+\\sigma_2^2}\\bar r_2\n",
    "\\end{align}\n",
    "と表せる。"
   ],
   "cell_type": "markdown",
   "metadata": {}
  }
 ]
}