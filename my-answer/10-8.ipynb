{
 "cells": [
  {
   "cell_type": "markdown",
   "metadata": {},
   "source": [
    "# CVaRとAVaRの等価性"
   ]
  },
  {
   "cell_type": "markdown",
   "metadata": {},
   "source": [
    "## (a)"
   ]
  },
  {
   "cell_type": "markdown",
   "metadata": {},
   "source": [
    "P.335 (10.10)式より\n",
    "\\begin{align}\n",
    "\\mbox{CVaR}_h(X) = \\mathbb{E}[-X|X\\leq -\\mbox{VaR}_H(X)]\n",
    "\\end{align}"
   ]
  },
  {
   "cell_type": "markdown",
   "metadata": {},
   "source": [
    "\\begin{align}\n",
    "\\mbox{CVaR}_h(X) &= \\mathbb{E}[-X|X\\leq -\\mbox{VaR}_h(X)]\\\\\n",
    "&= \\int _{-\\infty}^{\\infty}(-x)\\ f_{X|X\\leq -\\mbox{VaR}_h(X)}(x)\\ dx\\\\\n",
    "&= \\int _{-\\infty}^{\\infty}(-x)\\ \\frac{d}{dx}P[X\\leq x|X\\leq -\\mbox{VaR}_h(X)]\\ dx\\\\\n",
    "&= \\int _{-\\infty}^{\\infty}(-x)\\ \\frac{d}{dx}\\frac{P[X\\leq x,\\ X\\leq -\\mbox{VaR}_h(X)]}{P[X\\leq -\\mbox{VaR}_h(X)]}\\ dx\\\\\n",
    "&= \\int _{-\\infty}^{\\infty}(-x)\\ \\frac{d}{dx}\\frac{P[X\\leq x,\\ X\\leq -\\mbox{VaR}_h(X)]}{F( -\\mbox{VaR}_h(X))}\\ dx\\\\\n",
    "&= \\int _{-\\infty}^{\\infty}(-x)\\ \\frac{d}{dx}\\frac{P[X\\leq x,\\ X\\leq -\\mbox{VaR}_h(X)]}{F(F^{-1}(h))}\\ dx\\\\\n",
    "&= \\int _{-\\infty}^{\\infty}(-x)\\ \\frac{d}{dx}\\frac{P[X\\leq x,\\ X\\leq -\\mbox{VaR}_h(X)]}{h}\\ dx\\\\\n",
    "&= -\\frac{1}{h}\\int _{-\\infty}^{\\infty}x\\ \\frac{d}{dx}P[X\\leq x,\\ X\\leq -\\mbox{VaR}_h(X)]\\ dx\\\\\n",
    "&= -\\frac{1}{h}\\int _{-\\infty}^{-\\mbox{VaR}_h(X)}x\\ f(x)dx -\\frac{1}{h}\\int _{-\\mbox{VaR}_h(X)}^{\\infty}x\\ 0\\ dx \\\\\n",
    "&= -\\frac{1}{h}\\int _{-\\infty}^{-\\mbox{VaR}_h(X)}x\\ f(x)dx\\\\\n",
    "\\end{align}"
   ]
  },
  {
   "cell_type": "markdown",
   "metadata": {},
   "source": [
    "## (b)"
   ]
  },
  {
   "cell_type": "markdown",
   "metadata": {},
   "source": [
    "$u=F(x)$の時、\n",
    "$$du = f(x)dx$$"
   ]
  },
  {
   "cell_type": "markdown",
   "metadata": {},
   "source": [
    "(10.13)式の積分区間の上限を変換する\n",
    "\\begin{align}\n",
    "F(-\\mbox{VaR}_h(X)) = F(F^{-1}(h)) = h\n",
    "\\end{align}"
   ]
  },
  {
   "cell_type": "markdown",
   "metadata": {},
   "source": [
    "(10.13)式の積分区間の下限を変換する\n",
    "\\begin{align}\n",
    "F(-\\infty) = P[X<-\\infty] = 0\n",
    "\\end{align}"
   ]
  },
  {
   "cell_type": "markdown",
   "metadata": {},
   "source": [
    "よって$x=F^{-1}(u)$の変換をすると\n",
    "\\begin{align}\n",
    "\\mbox{CVaR}_h(X) &= -\\frac{1}{h}\\int _{-\\infty}^{-\\mbox{VaR}_h(X)}x\\ f(x)dx\\\\\n",
    "&= -\\frac{1}{h}\\int _0^h F^{-1}(u)du\n",
    "\\end{align}"
   ]
  }
 ],
 "metadata": {
  "kernelspec": {
   "display_name": "Python 3",
   "language": "python",
   "name": "python3"
  },
  "language_info": {
   "codemirror_mode": {
    "name": "ipython",
    "version": 3
   },
   "file_extension": ".py",
   "mimetype": "text/x-python",
   "name": "python",
   "nbconvert_exporter": "python",
   "pygments_lexer": "ipython3",
   "version": "3.7.0"
  }
 },
 "nbformat": 4,
 "nbformat_minor": 2
}
