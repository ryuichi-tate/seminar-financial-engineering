{
 "cells": [
  {
   "cell_type": "markdown",
   "metadata": {},
   "source": [
    "# 一様分布"
   ]
  },
  {
   "cell_type": "markdown",
   "metadata": {},
   "source": [
    "P.322 (10.3)式\n",
    "$$\n",
    "VaR_h(X) = -F^{-1}_X(h)\n",
    "$$\n",
    "を用いる"
   ]
  },
  {
   "cell_type": "markdown",
   "metadata": {},
   "source": [
    "$X\\sim U(a,b)$の時\n",
    "\\begin{align}\n",
    "f_X(x) &= \\frac{1}{b-a}\\\\\n",
    "\\\\\n",
    "F_X(x) &= \\int_a^x f_X(x)dx\\\\\n",
    "&= \\int_a^x \\frac{1}{b-a}dx\\\\\n",
    "&=  \\frac{x-a}{b-a}\\\\\n",
    "\\\\\n",
    "F^{-1}_X(x) &= (b-a)x+a\\\\\n",
    "\\\\\n",
    "VaR_h(X) &= -F^{-1}_X(h)\\\\\n",
    "&= -(b-a)h-a\n",
    "\\end{align}"
   ]
  },
  {
   "cell_type": "markdown",
   "metadata": {},
   "source": [
    "よって$X\\sim U(-40,60)$の時\n",
    "\\begin{align}\n",
    "VaR_h(X) = -100h+40\n",
    "\\end{align}"
   ]
  }
 ],
 "metadata": {
  "kernelspec": {
   "display_name": "Python 3",
   "language": "python",
   "name": "python3"
  },
  "language_info": {
   "codemirror_mode": {
    "name": "ipython",
    "version": 3
   },
   "file_extension": ".py",
   "mimetype": "text/x-python",
   "name": "python",
   "nbconvert_exporter": "python",
   "pygments_lexer": "ipython3",
   "version": "3.7.0"
  }
 },
 "nbformat": 4,
 "nbformat_minor": 2
}
