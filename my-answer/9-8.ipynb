{
 "cells": [
  {
   "cell_type": "markdown",
   "metadata": {},
   "source": [
    "# 最小分散問題の定式化"
   ]
  },
  {
   "cell_type": "markdown",
   "metadata": {},
   "source": [
    "最適化問題を解いた後の目的関数の最小値は$\\bf e$の値によって変わる。よってこの最小値を$f({\\bf e})$と表す。\n",
    "\n",
    "今回証明したいのは、不等式\n",
    "\\begin{align}\n",
    "\\mathbb{E}[f({\\bf e})] < f(\\mathbb{E}[{\\bf e}])=f(0)\n",
    "\\end{align}\n",
    "で、左辺の$\\mathbb{E}$の中身が\"Think\",右辺の値が\"Theory\"となる。"
   ]
  },
  {
   "cell_type": "markdown",
   "metadata": {},
   "source": [
    "この関数$f$が凸関数であることが言えれば、Jensenの不等式よりこの不等式は証明できる。できない"
   ]
  },
  {
   "source": [
    "$w=V^{-1}(u+eの一時式)$"
   ],
   "cell_type": "markdown",
   "metadata": {}
  },
  {
   "cell_type": "code",
   "execution_count": null,
   "metadata": {},
   "outputs": [],
   "source": []
  },
  {
   "cell_type": "code",
   "execution_count": null,
   "metadata": {},
   "outputs": [],
   "source": []
  },
  {
   "cell_type": "markdown",
   "metadata": {},
   "source": [
    "${\\bf w}$の空間で与えられた最適化問題を考えた時、もし目的関数${\\bf w}^TV{\\bf w}$が${\\bf w}$に対して凸ならば、目的関数の最小値も${\\bf e}$の変化に対して凸となる。なぜなら最適化問題における制約条件の空間（${\\bf w}$の空間）は、${\\bf w}$に対して凸である。そしてこれは${\\bf e}$に対して線形に変化するため、きっと目的関数の最小値も単調増加に違いない(笑)。\n",
    "\n",
    "そんで目的関数${\\bf w}^TV{\\bf w}$は、任意の${\\bf w}_1$${\\bf w}_2$に対して\n",
    "\\begin{align}\n",
    "\\frac{{\\bf w}_1^TV{\\bf w}_1 + {\\bf w}_2^TV{\\bf w}_2}{2} - \\left(\\frac{{\\bf w}_1+{\\bf w}_2}{2}\\right)^TV\\left(\\frac{{\\bf w}_1+{\\bf w}_2}{2}\\right) &= \\frac{1}{4}({\\bf w}_1-{\\bf w}_2)^TV({\\bf w}_1-{\\bf w}_2)\\\\\n",
    "&= \\frac{1}{4}({\\bf w}_1-{\\bf w}_2)^T\\mathbb{E}[({\\bf r}-\\mathbb{E}[{\\bf r}])({\\bf r}-\\mathbb{E}[{\\bf r}])^T]({\\bf w}_1-{\\bf w}_2)\\\\\n",
    "&= \\frac{1}{4}\\mathbb{E}[({\\bf w}_1-{\\bf w}_2)^T({\\bf r}-\\mathbb{E}[{\\bf r}])({\\bf r}-\\mathbb{E}[{\\bf r}])^T({\\bf w}_1-{\\bf w}_2)]\\\\\n",
    "&= \\frac{1}{4}\\mathbb{E}[<{\\bf w}_1-{\\bf w}_2,{\\bf r}-\\mathbb{E}[{\\bf r}]>\\cdot<{\\bf r}-\\mathbb{E}[{\\bf r}],{\\bf w}_1-{\\bf w}_2>]\\\\\n",
    "&= \\frac{1}{4}\\mathbb{E}[||{\\bf w}_1-{\\bf w}_2,{\\bf r}-\\mathbb{E}[{\\bf r}]||_2^2]\\\\\n",
    "&\\geq0\n",
    "\\end{align}\n",
    "なので凸である。"
   ]
  }
 ],
 "metadata": {
  "kernelspec": {
   "display_name": "Python 3",
   "language": "python",
   "name": "python3"
  },
  "language_info": {
   "codemirror_mode": {
    "name": "ipython",
    "version": 3
   },
   "file_extension": ".py",
   "mimetype": "text/x-python",
   "name": "python",
   "nbconvert_exporter": "python",
   "pygments_lexer": "ipython3",
   "version": "3.7.0"
  }
 },
 "nbformat": 4,
 "nbformat_minor": 2
}