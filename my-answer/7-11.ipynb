{
 "metadata": {
  "language_info": {
   "codemirror_mode": {
    "name": "ipython",
    "version": 3
   },
   "file_extension": ".py",
   "mimetype": "text/x-python",
   "name": "python",
   "nbconvert_exporter": "python",
   "pygments_lexer": "ipython3",
   "version": "3.7.0-final"
  },
  "orig_nbformat": 2,
  "kernelspec": {
   "name": "Python 3.7.0 64-bit ('anaconda3-5.3.1': pyenv)",
   "display_name": "Python 3.7.0 64-bit ('anaconda3-5.3.1': pyenv)",
   "metadata": {
    "interpreter": {
     "hash": "69a136449174336f9e0368e6e2a94f5fcdb528bd494f723889be5ddb2edd6305"
    }
   }
  }
 },
 "nbformat": 4,
 "nbformat_minor": 2,
 "cells": [
  {
   "source": [
    "# リスク分析"
   ],
   "cell_type": "markdown",
   "metadata": {}
  },
  {
   "source": [
    "## (a)"
   ],
   "cell_type": "markdown",
   "metadata": {}
  },
  {
   "source": [
    "\\begin{align}\n",
    "\\beta_a &= \\frac{\\sigma_{am}}{\\sigma_m^2} = \\frac{\\rho_{am}\\sigma_a\\sigma_m}{\\sigma_m^2} = \\frac{\\rho_{am}\\sigma_a}{\\sigma_m}\\\\\n",
    "\\\\\n",
    "&= 0.1\\times0.6/0.3 = 0.2\n",
    "\\end{align}\n",
    "\n",
    "\\begin{align}\n",
    "\\bar r_a &= r_f + \\beta_{am}(\\bar r_m - r_f) \\\\\n",
    "\\\\\n",
    "&= 0.02 + 0.2\\cdot(0.12 - 0.02)\\\\\n",
    "\\\\\n",
    "&= 0.04\n",
    "\\end{align}"
   ],
   "cell_type": "markdown",
   "metadata": {}
  },
  {
   "cell_type": "code",
   "execution_count": 5,
   "metadata": {},
   "outputs": [
    {
     "output_type": "stream",
     "name": "stdout",
     "text": [
      "0.2 0.04\n"
     ]
    }
   ],
   "source": [
    "beta_a = 0.1*0.6/0.3\n",
    "r_a = 0.02 + beta_a*(0.12-0.02)\n",
    "print(beta_a, r_a)"
   ]
  },
  {
   "source": [
    "## (b)"
   ],
   "cell_type": "markdown",
   "metadata": {}
  },
  {
   "source": [
    "教科書P.235より、\n",
    "\\begin{align}\n",
    "r_b = r_f + \\beta_b(r_m - r_f) + \\varepsilon_b\\tag{7.5}\n",
    "\\end{align}\n",
    "\n",
    "から、資産$b$の分散$\\sigma_b^2$は、\n",
    "\\begin{align}\n",
    "\\sigma_b^2 = \\beta_b^2\\sigma_m^2 + Var[\\varepsilon_b]\n",
    "\\end{align}\n",
    "と分解できる。"
   ],
   "cell_type": "markdown",
   "metadata": {}
  },
  {
   "source": [
    "$\\beta_a=\\beta_b$とすると、"
   ],
   "cell_type": "markdown",
   "metadata": {}
  },
  {
   "source": [
    "\\begin{align}\n",
    "Var[\\epsilon_b] &= \\sigma_b^2 - \\beta_b^2\\sigma_m^2\\\\\n",
    "\\\\\n",
    "&= 0.8^2 - 0.2^2\\cdot0.3^2\\\\\n",
    "\\\\\n",
    "&= 0.6364\n",
    "\\end{align}\n",
    "\n",
    "これが資産$b$の固有リスクの値。"
   ],
   "cell_type": "markdown",
   "metadata": {}
  },
  {
   "cell_type": "code",
   "execution_count": 8,
   "metadata": {},
   "outputs": [
    {
     "output_type": "execute_result",
     "data": {
      "text/plain": [
       "0.6364000000000001"
      ]
     },
     "metadata": {},
     "execution_count": 8
    }
   ],
   "source": [
    "0.8**2 - 0.2**2*0.3**2"
   ]
  },
  {
   "source": [
    "## (c)"
   ],
   "cell_type": "markdown",
   "metadata": {}
  },
  {
   "source": [
    "\\begin{align}\n",
    "Var[\\epsilon_c] &= \\sigma_c^2 - \\beta_c^2\\sigma_m^2\\\\\n",
    "\\\\\n",
    "&= \\sigma_c^2 - \\left(\\frac{\\sigma_{mc}}{\\sigma_m^2}\\right)^2\\sigma_m^2\\\\\n",
    "\\\\\n",
    "&= \\sigma_c^2 - \\left(\\frac{\\rho_{cm}\\sigma_c}{\\sigma_m}\\right)^2\\sigma_m^2\\\\\n",
    "\\\\\n",
    "&= (1-\\rho_{cm}^2)\\sigma_c^2\\\\\n",
    "\\\\\n",
    "&= 0.36\\sigma_c^2\n",
    "\\end{align}\n",
    "よって$36\\%$"
   ],
   "cell_type": "markdown",
   "metadata": {}
  },
  {
   "cell_type": "code",
   "execution_count": 9,
   "metadata": {},
   "outputs": [
    {
     "output_type": "execute_result",
     "data": {
      "text/plain": [
       "0.3599999999999999"
      ]
     },
     "metadata": {},
     "execution_count": 9
    }
   ],
   "source": [
    "1-0.8**2"
   ]
  }
 ]
}