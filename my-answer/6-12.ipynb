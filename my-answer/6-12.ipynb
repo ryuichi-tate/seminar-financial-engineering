{
 "metadata": {
  "language_info": {
   "codemirror_mode": {
    "name": "ipython",
    "version": 3
   },
   "file_extension": ".py",
   "mimetype": "text/x-python",
   "name": "python",
   "nbconvert_exporter": "python",
   "pygments_lexer": "ipython3",
   "version": 3
  },
  "orig_nbformat": 2
 },
 "nbformat": 4,
 "nbformat_minor": 2,
 "cells": [
  {
   "source": [
    "# 等価"
   ],
   "cell_type": "markdown",
   "metadata": {}
  },
  {
   "source": [
    "$R = ar + b$ より、$\\bar R_i = a\\bar r_i + b$とおく。（$\\bar R_i$は$i$番目の資産の収益率を変換したものの期待値）\n",
    "\n",
    "また全ての収益率が変換されるので、安定資産についても、$R_f = ar_f + b$と変換する。"
   ],
   "cell_type": "markdown",
   "metadata": {}
  },
  {
   "source": [
    "(6.10)式より\n",
    "\\begin{align}\n",
    "\\sum_{I=1}^n\\sigma_{ki}v_i = \\bar r_k - r_f,\\ \\ \\ (k=1,2,\\cdots,n)\\tag{1}\n",
    "\\end{align}\n",
    "また、$R$についても、\n",
    "\\begin{align}\n",
    "\\sum_{I=1}^n\\sigma_{ki}V_i = \\bar R_k - R_f,\\ \\ \\ (k=1,2,\\cdots,n)\\tag{2}\n",
    "\\end{align}\n",
    "を満たす${\\bf V}$を考えることができる。"
   ],
   "cell_type": "markdown",
   "metadata": {}
  },
  {
   "source": [
    "ここで、\n",
    "\\begin{align}\n",
    "\\Sigma &= \\left[\n",
    "  \\begin{array}{cccc}\n",
    "    \\sigma_{11} & \\sigma_{12} & \\cdots & \\sigma_{1n} \\\\\n",
    "    \\sigma_{21} & \\sigma_{22} & \\cdots & \\sigma_{2n} \\\\\n",
    "    \\vdots & \\vdots & \\ddots & \\vdots \\\\\n",
    "    \\sigma_{n1} & \\sigma_{n2} & \\cdots & \\sigma_{nn} \\\\\n",
    "  \\end{array}\n",
    "\\right]\\\\\n",
    "\\\\\n",
    "\\bar{\\bf r} &= [\\bar r_1, \\bar r_2, \\cdots, \\bar r_n]^T\\\\\n",
    "\\\\\n",
    "\\bar{\\bf R} &= [\\bar R_1, \\bar R_2, \\cdots, \\bar R_n]^T\\\\\n",
    "\\\\\n",
    "{\\bf v} &= [v_1, v_2, \\cdots, v_n]^T\\\\\n",
    "\\\\\n",
    "{\\bf V} &= [V_1, V_2, \\cdots, V_n]^T\n",
    "\\end{align}"
   ],
   "cell_type": "markdown",
   "metadata": {}
  },
  {
   "source": [
    "とすると、上の(1)式と(2)式は\n",
    "\\begin{align}\n",
    "\\Sigma{\\bf v} = \\bar {\\bf r} - r_f{\\bf 1}\\\\\n",
    "\\\\\n",
    "\\Sigma{\\bf V} = \\bar {\\bf R} - R_f{\\bf 1}\n",
    "\\end{align}\n",
    "とかける。"
   ],
   "cell_type": "markdown",
   "metadata": {}
  },
  {
   "source": [
    "よって\n",
    "\\begin{align}\n",
    "{\\bf v} &= \\Sigma^{-1}(\\bar{\\bf r} - r_f{\\bf 1})\\\\\n",
    "\\\\\n",
    "{\\bf V} &= \\Sigma^{-1}(\\bar{\\bf R} - R_f{\\bf 1})\\\\\n",
    "&= \\Sigma^{-1}\\{(a\\bar{\\bf r} + b{\\bf 1}) - (ar_f+b){\\bf 1})\\}\\\\\n",
    "&= a\\Sigma^{-1}(\\bar{\\bf r} - r_f{\\bf 1})\\\\\n",
    "&= a{\\bf v}\n",
    "\\end{align}"
   ],
   "cell_type": "markdown",
   "metadata": {}
  },
  {
   "source": [
    "${\\bf v}$を$a$倍したものが${\\bf V}$となる。ポートフォリオの比率はこの解を正規化したものになるため、定数倍されたベクトルどうしでは解が一致する。\n",
    "\n",
    "したがって全ての収益率は線形変換可能で、(6.10)と同じ式が成り立つ。"
   ],
   "cell_type": "markdown",
   "metadata": {}
  }
 ]
}