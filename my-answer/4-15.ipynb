{
 "metadata": {
  "language_info": {
   "codemirror_mode": {
    "name": "ipython",
    "version": 3
   },
   "file_extension": ".py",
   "mimetype": "text/x-python",
   "name": "python",
   "nbconvert_exporter": "python",
   "pygments_lexer": "ipython3",
   "version": 3
  },
  "orig_nbformat": 2,
  "kernelspec": {
   "name": "python_defaultSpec_1596946840500",
   "display_name": "Python 3.7.0 64-bit ('base': conda)"
  }
 },
 "nbformat": 4,
 "nbformat_minor": 2,
 "cells": [
  {
   "cell_type": "markdown",
   "metadata": {},
   "source": [
    "# 問4-15 流列のイミュニゼーション"
   ]
  },
  {
   "cell_type": "code",
   "execution_count": 1,
   "metadata": {},
   "outputs": [],
   "source": [
    "import pandas as pd\n",
    "import numpy as np"
   ]
  },
  {
   "cell_type": "markdown",
   "metadata": {},
   "source": [
    "スポットレートの入力"
   ]
  },
  {
   "cell_type": "code",
   "execution_count": 2,
   "metadata": {},
   "outputs": [],
   "source": [
    "workSheet = pd.DataFrame(data=[\n",
    "    [1, 7.670/100],\n",
    "    [2, 8.270/100],\n",
    "    [3, 8.810/100],\n",
    "    [4, 9.310/100],\n",
    "    [5, 9.750/100],\n",
    "    [6, 10.16/100],\n",
    "    [7, 10.52/100],\n",
    "    [8, 10.85/100],\n",
    "    [9, 11.15/100],\n",
    "    [10, 11.42/100],\n",
    "    [11, 11.67/100],\n",
    "    [12, 11.89/100]\n",
    "    ],\n",
    "    columns=['年', 'スポット'])"
   ]
  },
  {
   "cell_type": "code",
   "execution_count": 3,
   "metadata": {},
   "outputs": [
    {
     "output_type": "execute_result",
     "data": {
      "text/plain": "   年    スポット\n0  1  0.0767\n1  2  0.0827\n2  3  0.0881\n3  4  0.0931\n4  5  0.0975",
      "text/html": "<div>\n<style scoped>\n    .dataframe tbody tr th:only-of-type {\n        vertical-align: middle;\n    }\n\n    .dataframe tbody tr th {\n        vertical-align: top;\n    }\n\n    .dataframe thead th {\n        text-align: right;\n    }\n</style>\n<table border=\"1\" class=\"dataframe\">\n  <thead>\n    <tr style=\"text-align: right;\">\n      <th></th>\n      <th>年</th>\n      <th>スポット</th>\n    </tr>\n  </thead>\n  <tbody>\n    <tr>\n      <th>0</th>\n      <td>1</td>\n      <td>0.0767</td>\n    </tr>\n    <tr>\n      <th>1</th>\n      <td>2</td>\n      <td>0.0827</td>\n    </tr>\n    <tr>\n      <th>2</th>\n      <td>3</td>\n      <td>0.0881</td>\n    </tr>\n    <tr>\n      <th>3</th>\n      <td>4</td>\n      <td>0.0931</td>\n    </tr>\n    <tr>\n      <th>4</th>\n      <td>5</td>\n      <td>0.0975</td>\n    </tr>\n  </tbody>\n</table>\n</div>"
     },
     "metadata": {},
     "execution_count": 3
    }
   ],
   "source": [
    "workSheet.head()"
   ]
  },
  {
   "cell_type": "markdown",
   "metadata": {},
   "source": [
    "割引率の計算\n",
    "$$ d_{0,k}=(1+f_{0,k})^{-k}=(1+s_k)^{-k}$$"
   ]
  },
  {
   "cell_type": "code",
   "execution_count": 4,
   "metadata": {},
   "outputs": [],
   "source": [
    "workSheet['d']=(1+workSheet['スポット'])**(-workSheet['年'])"
   ]
  },
  {
   "cell_type": "markdown",
   "metadata": {},
   "source": [
    "債務の流列$B_0$、債券の流列$B_1$、$B_2$を入力する。"
   ]
  },
  {
   "cell_type": "code",
   "execution_count": 5,
   "metadata": {},
   "outputs": [],
   "source": [
    "workSheet['B0']=[500,900,600,500,100,100,100,50,0,0,0,0]\n",
    "workSheet['B1']=[6,6,6,6,6,6,6,6,6,6,6,106]\n",
    "workSheet['B2']=[10,10,10,10,110,0,0,0,0,0,0,0]"
   ]
  },
  {
   "cell_type": "markdown",
   "metadata": {},
   "source": [
    "それぞれのキャッシュフローの現在価値$PV$を計算する。($i\\in\\{0,1,2\\}$)\n",
    "$$PV_{i,k}=B_{i,k}\\times d_{0,k}$$\n",
    "$$PV_i=\\sum_{k=1}^nPV_{i,k}$$"
   ]
  },
  {
   "cell_type": "code",
   "execution_count": 6,
   "metadata": {},
   "outputs": [],
   "source": [
    "workSheet['PV0']=workSheet['B0']*workSheet['d']\n",
    "workSheet['PV1']=workSheet['B1']*workSheet['d']\n",
    "workSheet['PV2']=workSheet['B2']*workSheet['d']"
   ]
  },
  {
   "cell_type": "code",
   "execution_count": 7,
   "metadata": {},
   "outputs": [
    {
     "output_type": "execute_result",
     "data": {
      "text/plain": "PV0    2238.437651\nPV1      65.951416\nPV2     101.667724\ndtype: float64"
     },
     "metadata": {},
     "execution_count": 7
    }
   ],
   "source": [
    "PV = workSheet.loc[:,workSheet.columns.str.contains('PV')].sum(axis=0)\n",
    "PV"
   ]
  },
  {
   "cell_type": "markdown",
   "metadata": {},
   "source": [
    "準修正デュレーション\n",
    "$$PV'_{i,k}=k\\times (1+s_k)^{-(k+1)}B_{i,k}$$\n",
    "$$D_Q=\\frac{1}{PV_i}\\sum_{k=1}^nPV'_{i,k}$$"
   ]
  },
  {
   "cell_type": "code",
   "execution_count": 8,
   "metadata": {},
   "outputs": [],
   "source": [
    "workSheet['PV`0']=workSheet['年']*(1+workSheet['スポット'])**(-(workSheet['年']+1))*workSheet['B0']\n",
    "workSheet['PV`1']=workSheet['年']*(1+workSheet['スポット'])**(-(workSheet['年']+1))*workSheet['B1']\n",
    "workSheet['PV`2']=workSheet['年']*(1+workSheet['スポット'])**(-(workSheet['年']+1))*workSheet['B2']"
   ]
  },
  {
   "cell_type": "code",
   "execution_count": 9,
   "metadata": {},
   "outputs": [
    {
     "output_type": "execute_result",
     "data": {
      "text/plain": "D0    2.447604\nD1    7.065795\nD2    3.798104\ndtype: float64"
     },
     "metadata": {},
     "execution_count": 9
    }
   ],
   "source": [
    "D = workSheet.loc[:,workSheet.columns.str.contains('PV`')].sum(axis=0)\n",
    "D.index = PV.index\n",
    "D = D/PV\n",
    "D.index=['D0','D1','D2']\n",
    "D\u001e"
   ]
  },
  {
   "cell_type": "code",
   "execution_count": 10,
   "metadata": {},
   "outputs": [
    {
     "output_type": "execute_result",
     "data": {
      "text/plain": "     年    スポット         d   B0   B1   B2         PV0        PV1        PV2  \\\n0    1  0.0767  0.928764  500    6   10  464.381908   5.572583   9.287638   \n1    2  0.0827  0.853068  900    6   10  767.761333   5.118409   8.530681   \n2    3  0.0881  0.776236  600    6   10  465.741373   4.657414   7.762356   \n3    4  0.0931  0.700423  500    6   10  350.211519   4.202538   7.004230   \n4    5  0.0975  0.628026  100    6  110   62.802561   3.768154  69.082817   \n5    6  0.1016  0.559573  100    6    0   55.957259   3.357436   0.000000   \n6    7  0.1052  0.496494  100    6    0   49.649384   2.978963   0.000000   \n7    8  0.1085  0.438646   50    6    0   21.932312   2.631877   0.000000   \n8    9  0.1115  0.386202    0    6    0    0.000000   2.317213   0.000000   \n9   10  0.1142  0.339132    0    6    0    0.000000   2.034791   0.000000   \n10  11  0.1167  0.296960    0    6    0    0.000000   1.781762   0.000000   \n11  12  0.1189  0.259720    0  106    0    0.000000  27.530277   0.000000   \n\n           PV`0        PV`1        PV`2  \n0    431.301112    5.175613    8.626022  \n1   1418.234660    9.454898   15.758163  \n2   1284.095322   12.840953   21.401589  \n3   1281.535155   15.378422   25.630703  \n4    286.116452   17.166987  314.728097  \n5    304.778102   18.286686    0.000000  \n6    314.464069   18.867844    0.000000  \n7    158.284619   18.994154    0.000000  \n8      0.000000   18.762862    0.000000  \n9      0.000000   18.262346    0.000000  \n10     0.000000   17.551157    0.000000  \n11     0.000000  295.257237    0.000000  ",
      "text/html": "<div>\n<style scoped>\n    .dataframe tbody tr th:only-of-type {\n        vertical-align: middle;\n    }\n\n    .dataframe tbody tr th {\n        vertical-align: top;\n    }\n\n    .dataframe thead th {\n        text-align: right;\n    }\n</style>\n<table border=\"1\" class=\"dataframe\">\n  <thead>\n    <tr style=\"text-align: right;\">\n      <th></th>\n      <th>年</th>\n      <th>スポット</th>\n      <th>d</th>\n      <th>B0</th>\n      <th>B1</th>\n      <th>B2</th>\n      <th>PV0</th>\n      <th>PV1</th>\n      <th>PV2</th>\n      <th>PV`0</th>\n      <th>PV`1</th>\n      <th>PV`2</th>\n    </tr>\n  </thead>\n  <tbody>\n    <tr>\n      <th>0</th>\n      <td>1</td>\n      <td>0.0767</td>\n      <td>0.928764</td>\n      <td>500</td>\n      <td>6</td>\n      <td>10</td>\n      <td>464.381908</td>\n      <td>5.572583</td>\n      <td>9.287638</td>\n      <td>431.301112</td>\n      <td>5.175613</td>\n      <td>8.626022</td>\n    </tr>\n    <tr>\n      <th>1</th>\n      <td>2</td>\n      <td>0.0827</td>\n      <td>0.853068</td>\n      <td>900</td>\n      <td>6</td>\n      <td>10</td>\n      <td>767.761333</td>\n      <td>5.118409</td>\n      <td>8.530681</td>\n      <td>1418.234660</td>\n      <td>9.454898</td>\n      <td>15.758163</td>\n    </tr>\n    <tr>\n      <th>2</th>\n      <td>3</td>\n      <td>0.0881</td>\n      <td>0.776236</td>\n      <td>600</td>\n      <td>6</td>\n      <td>10</td>\n      <td>465.741373</td>\n      <td>4.657414</td>\n      <td>7.762356</td>\n      <td>1284.095322</td>\n      <td>12.840953</td>\n      <td>21.401589</td>\n    </tr>\n    <tr>\n      <th>3</th>\n      <td>4</td>\n      <td>0.0931</td>\n      <td>0.700423</td>\n      <td>500</td>\n      <td>6</td>\n      <td>10</td>\n      <td>350.211519</td>\n      <td>4.202538</td>\n      <td>7.004230</td>\n      <td>1281.535155</td>\n      <td>15.378422</td>\n      <td>25.630703</td>\n    </tr>\n    <tr>\n      <th>4</th>\n      <td>5</td>\n      <td>0.0975</td>\n      <td>0.628026</td>\n      <td>100</td>\n      <td>6</td>\n      <td>110</td>\n      <td>62.802561</td>\n      <td>3.768154</td>\n      <td>69.082817</td>\n      <td>286.116452</td>\n      <td>17.166987</td>\n      <td>314.728097</td>\n    </tr>\n    <tr>\n      <th>5</th>\n      <td>6</td>\n      <td>0.1016</td>\n      <td>0.559573</td>\n      <td>100</td>\n      <td>6</td>\n      <td>0</td>\n      <td>55.957259</td>\n      <td>3.357436</td>\n      <td>0.000000</td>\n      <td>304.778102</td>\n      <td>18.286686</td>\n      <td>0.000000</td>\n    </tr>\n    <tr>\n      <th>6</th>\n      <td>7</td>\n      <td>0.1052</td>\n      <td>0.496494</td>\n      <td>100</td>\n      <td>6</td>\n      <td>0</td>\n      <td>49.649384</td>\n      <td>2.978963</td>\n      <td>0.000000</td>\n      <td>314.464069</td>\n      <td>18.867844</td>\n      <td>0.000000</td>\n    </tr>\n    <tr>\n      <th>7</th>\n      <td>8</td>\n      <td>0.1085</td>\n      <td>0.438646</td>\n      <td>50</td>\n      <td>6</td>\n      <td>0</td>\n      <td>21.932312</td>\n      <td>2.631877</td>\n      <td>0.000000</td>\n      <td>158.284619</td>\n      <td>18.994154</td>\n      <td>0.000000</td>\n    </tr>\n    <tr>\n      <th>8</th>\n      <td>9</td>\n      <td>0.1115</td>\n      <td>0.386202</td>\n      <td>0</td>\n      <td>6</td>\n      <td>0</td>\n      <td>0.000000</td>\n      <td>2.317213</td>\n      <td>0.000000</td>\n      <td>0.000000</td>\n      <td>18.762862</td>\n      <td>0.000000</td>\n    </tr>\n    <tr>\n      <th>9</th>\n      <td>10</td>\n      <td>0.1142</td>\n      <td>0.339132</td>\n      <td>0</td>\n      <td>6</td>\n      <td>0</td>\n      <td>0.000000</td>\n      <td>2.034791</td>\n      <td>0.000000</td>\n      <td>0.000000</td>\n      <td>18.262346</td>\n      <td>0.000000</td>\n    </tr>\n    <tr>\n      <th>10</th>\n      <td>11</td>\n      <td>0.1167</td>\n      <td>0.296960</td>\n      <td>0</td>\n      <td>6</td>\n      <td>0</td>\n      <td>0.000000</td>\n      <td>1.781762</td>\n      <td>0.000000</td>\n      <td>0.000000</td>\n      <td>17.551157</td>\n      <td>0.000000</td>\n    </tr>\n    <tr>\n      <th>11</th>\n      <td>12</td>\n      <td>0.1189</td>\n      <td>0.259720</td>\n      <td>0</td>\n      <td>106</td>\n      <td>0</td>\n      <td>0.000000</td>\n      <td>27.530277</td>\n      <td>0.000000</td>\n      <td>0.000000</td>\n      <td>295.257237</td>\n      <td>0.000000</td>\n    </tr>\n  </tbody>\n</table>\n</div>"
     },
     "metadata": {},
     "execution_count": 10
    }
   ],
   "source": [
    "workSheet"
   ]
  },
  {
   "cell_type": "markdown",
   "metadata": {},
   "source": [
    "ポートフォリオのイミュニゼーションを行う。\n",
    "\n",
    "債券1と債券2への投資単位をそれぞれ$x_1$、$x_2$とすると、\n",
    "\n",
    "\\begin{align}\n",
    "PV_0 &= x_1PV_1 + x_2PV_2\\\\\n",
    "PV_0\\times D_0 &= x_1PV_1D_1 + x_2PV_2D_2\\\\ \n",
    "\\\\\n",
    "\\left[\\begin{matrix} PV_0 \\\\ PV_0D_0 \\end{matrix}\\right] &= \\left[\\begin{matrix} PV_1 & PV_2 \\\\ PV_1D_1 & PV_2D_2 \\end{matrix}\n",
    "\\right]\\left[\\begin{matrix} x_1 \\\\ x_2 \\end{matrix}\\right]\\\\\n",
    "\\\\\n",
    "\\left[\\begin{matrix} x_1 \\\\ x_2 \\end{matrix}\\right] &= \\left[\\begin{matrix} PV_1 & PV_2 \\\\ PV_1D_1 & PV_2D_2 \\end{matrix}\n",
    "\\right]^{-1}\\left[\\begin{matrix} PV_0 \\\\ PV_0D_0 \\end{matrix}\\right]\n",
    "\\end{align}\n"
   ]
  },
  {
   "cell_type": "code",
   "execution_count": 11,
   "metadata": {},
   "outputs": [
    {
     "output_type": "execute_result",
     "data": {
      "text/plain": "matrix([[-14.02731012],\n        [ 31.1166465 ]])"
     },
     "metadata": {},
     "execution_count": 11
    }
   ],
   "source": [
    "A = np.matrix([\n",
    "    [PV[1], PV[2]],\n",
    "    [PV[1]*D[1], PV[2]*D[2]]\n",
    "    ])\n",
    "b = np.matrix([\n",
    "    [PV[0]],\n",
    "    [PV[0]*D[0]]\n",
    "    ])\n",
    "\n",
    "x = A**-1*b\n",
    "x"
   ]
  }
 ]
}