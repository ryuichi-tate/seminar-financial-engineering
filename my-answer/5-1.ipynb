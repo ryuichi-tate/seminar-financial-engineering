{
 "metadata": {
  "language_info": {
   "codemirror_mode": {
    "name": "ipython",
    "version": 3
   },
   "file_extension": ".py",
   "mimetype": "text/x-python",
   "name": "python",
   "nbconvert_exporter": "python",
   "pygments_lexer": "ipython3",
   "version": "3.7.0-final"
  },
  "orig_nbformat": 2,
  "kernelspec": {
   "name": "python_defaultSpec_1597985849741",
   "display_name": "Python 3.7.0 64-bit ('base': conda)"
  }
 },
 "nbformat": 4,
 "nbformat_minor": 2,
 "cells": [
  {
   "cell_type": "markdown",
   "metadata": {},
   "source": [
    "# 資本予算"
   ]
  },
  {
   "cell_type": "code",
   "execution_count": 1,
   "metadata": {},
   "outputs": [],
   "source": [
    "import pandas as pd"
   ]
  },
  {
   "cell_type": "code",
   "execution_count": 2,
   "metadata": {},
   "outputs": [
    {
     "output_type": "execute_result",
     "data": {
      "text/plain": "         支出  現在価値\nプロジェクト           \n1       100   200\n2       300   500\n3       200   300\n4       150   200\n5       150   250",
      "text/html": "<div>\n<style scoped>\n    .dataframe tbody tr th:only-of-type {\n        vertical-align: middle;\n    }\n\n    .dataframe tbody tr th {\n        vertical-align: top;\n    }\n\n    .dataframe thead th {\n        text-align: right;\n    }\n</style>\n<table border=\"1\" class=\"dataframe\">\n  <thead>\n    <tr style=\"text-align: right;\">\n      <th></th>\n      <th>支出</th>\n      <th>現在価値</th>\n    </tr>\n    <tr>\n      <th>プロジェクト</th>\n      <th></th>\n      <th></th>\n    </tr>\n  </thead>\n  <tbody>\n    <tr>\n      <th>1</th>\n      <td>100</td>\n      <td>200</td>\n    </tr>\n    <tr>\n      <th>2</th>\n      <td>300</td>\n      <td>500</td>\n    </tr>\n    <tr>\n      <th>3</th>\n      <td>200</td>\n      <td>300</td>\n    </tr>\n    <tr>\n      <th>4</th>\n      <td>150</td>\n      <td>200</td>\n    </tr>\n    <tr>\n      <th>5</th>\n      <td>150</td>\n      <td>250</td>\n    </tr>\n  </tbody>\n</table>\n</div>"
     },
     "metadata": {},
     "execution_count": 2
    }
   ],
   "source": [
    "data = pd.DataFrame(data=[\n",
    "    [1, 100, 200],\n",
    "    [2, 300, 500],\n",
    "    [3, 200, 300],\n",
    "    [4, 150, 200],\n",
    "    [5, 150, 250],\n",
    "    ],\n",
    "    columns=['プロジェクト', '支出', '現在価値']).set_index('プロジェクト')\n",
    "data"
   ]
  },
  {
   "cell_type": "markdown",
   "metadata": {},
   "source": [
    "利益・費用率の計算"
   ]
  },
  {
   "cell_type": "code",
   "execution_count": 3,
   "metadata": {},
   "outputs": [
    {
     "output_type": "execute_result",
     "data": {
      "text/plain": "         支出  現在価値    利益・費用率\nプロジェクト                     \n1       100   200  2.000000\n2       300   500  1.666667\n3       200   300  1.500000\n4       150   200  1.333333\n5       150   250  1.666667",
      "text/html": "<div>\n<style scoped>\n    .dataframe tbody tr th:only-of-type {\n        vertical-align: middle;\n    }\n\n    .dataframe tbody tr th {\n        vertical-align: top;\n    }\n\n    .dataframe thead th {\n        text-align: right;\n    }\n</style>\n<table border=\"1\" class=\"dataframe\">\n  <thead>\n    <tr style=\"text-align: right;\">\n      <th></th>\n      <th>支出</th>\n      <th>現在価値</th>\n      <th>利益・費用率</th>\n    </tr>\n    <tr>\n      <th>プロジェクト</th>\n      <th></th>\n      <th></th>\n      <th></th>\n    </tr>\n  </thead>\n  <tbody>\n    <tr>\n      <th>1</th>\n      <td>100</td>\n      <td>200</td>\n      <td>2.000000</td>\n    </tr>\n    <tr>\n      <th>2</th>\n      <td>300</td>\n      <td>500</td>\n      <td>1.666667</td>\n    </tr>\n    <tr>\n      <th>3</th>\n      <td>200</td>\n      <td>300</td>\n      <td>1.500000</td>\n    </tr>\n    <tr>\n      <th>4</th>\n      <td>150</td>\n      <td>200</td>\n      <td>1.333333</td>\n    </tr>\n    <tr>\n      <th>5</th>\n      <td>150</td>\n      <td>250</td>\n      <td>1.666667</td>\n    </tr>\n  </tbody>\n</table>\n</div>"
     },
     "metadata": {},
     "execution_count": 3
    }
   ],
   "source": [
    "data['利益・費用率'] = data['現在価値']/data['支出']\n",
    "data"
   ]
  },
  {
   "cell_type": "markdown",
   "metadata": {},
   "source": [
    "利益・費用率で並び替え(sort)"
   ]
  },
  {
   "cell_type": "code",
   "execution_count": 4,
   "metadata": {},
   "outputs": [
    {
     "output_type": "execute_result",
     "data": {
      "text/plain": "         支出  現在価値    利益・費用率\nプロジェクト                     \n1       100   200  2.000000\n2       300   500  1.666667\n5       150   250  1.666667\n3       200   300  1.500000\n4       150   200  1.333333",
      "text/html": "<div>\n<style scoped>\n    .dataframe tbody tr th:only-of-type {\n        vertical-align: middle;\n    }\n\n    .dataframe tbody tr th {\n        vertical-align: top;\n    }\n\n    .dataframe thead th {\n        text-align: right;\n    }\n</style>\n<table border=\"1\" class=\"dataframe\">\n  <thead>\n    <tr style=\"text-align: right;\">\n      <th></th>\n      <th>支出</th>\n      <th>現在価値</th>\n      <th>利益・費用率</th>\n    </tr>\n    <tr>\n      <th>プロジェクト</th>\n      <th></th>\n      <th></th>\n      <th></th>\n    </tr>\n  </thead>\n  <tbody>\n    <tr>\n      <th>1</th>\n      <td>100</td>\n      <td>200</td>\n      <td>2.000000</td>\n    </tr>\n    <tr>\n      <th>2</th>\n      <td>300</td>\n      <td>500</td>\n      <td>1.666667</td>\n    </tr>\n    <tr>\n      <th>5</th>\n      <td>150</td>\n      <td>250</td>\n      <td>1.666667</td>\n    </tr>\n    <tr>\n      <th>3</th>\n      <td>200</td>\n      <td>300</td>\n      <td>1.500000</td>\n    </tr>\n    <tr>\n      <th>4</th>\n      <td>150</td>\n      <td>200</td>\n      <td>1.333333</td>\n    </tr>\n  </tbody>\n</table>\n</div>"
     },
     "metadata": {},
     "execution_count": 4
    }
   ],
   "source": [
    "sort_data = data.sort_values('利益・費用率', ascending=False)\n",
    "sort_data"
   ]
  },
  {
   "cell_type": "markdown",
   "metadata": {},
   "source": [
    "## 近似法の場合\n",
    "利益・費用率の高いプロジェクトから順に、支出の合計が600を超えるまで採択する。"
   ]
  },
  {
   "cell_type": "code",
   "execution_count": 5,
   "metadata": {},
   "outputs": [
    {
     "output_type": "execute_result",
     "data": {
      "text/plain": "           支出   現在価値    利益・費用率\nプロジェクト                        \n1       100.0  200.0  2.000000\n2       300.0  500.0  1.666667\n5       150.0  250.0  1.666667\n合計      550.0  950.0  5.333333",
      "text/html": "<div>\n<style scoped>\n    .dataframe tbody tr th:only-of-type {\n        vertical-align: middle;\n    }\n\n    .dataframe tbody tr th {\n        vertical-align: top;\n    }\n\n    .dataframe thead th {\n        text-align: right;\n    }\n</style>\n<table border=\"1\" class=\"dataframe\">\n  <thead>\n    <tr style=\"text-align: right;\">\n      <th></th>\n      <th>支出</th>\n      <th>現在価値</th>\n      <th>利益・費用率</th>\n    </tr>\n    <tr>\n      <th>プロジェクト</th>\n      <th></th>\n      <th></th>\n      <th></th>\n    </tr>\n  </thead>\n  <tbody>\n    <tr>\n      <th>1</th>\n      <td>100.0</td>\n      <td>200.0</td>\n      <td>2.000000</td>\n    </tr>\n    <tr>\n      <th>2</th>\n      <td>300.0</td>\n      <td>500.0</td>\n      <td>1.666667</td>\n    </tr>\n    <tr>\n      <th>5</th>\n      <td>150.0</td>\n      <td>250.0</td>\n      <td>1.666667</td>\n    </tr>\n    <tr>\n      <th>合計</th>\n      <td>550.0</td>\n      <td>950.0</td>\n      <td>5.333333</td>\n    </tr>\n  </tbody>\n</table>\n</div>"
     },
     "metadata": {},
     "execution_count": 5
    }
   ],
   "source": [
    "project = sort_data[sort_data['支出'].cumsum()<600]\n",
    "project.loc['合計'] = project.sum(axis=0)\n",
    "project"
   ]
  },
  {
   "cell_type": "markdown",
   "metadata": {},
   "source": [
    "よって近似法の場合はプロジェクト1, 2, 5 が採択される。"
   ]
  },
  {
   "cell_type": "markdown",
   "metadata": {},
   "source": [
    "## 最適集合の場合\n",
    "$i$番目のプロジェクトの採択の有無をバイナリ変数$x_i$（採択：1 不採択：0）、現在価値を$b_i$、支出を$c_i$とする。<br>\n",
    "最適化の定式化は、\n",
    "\\begin{align}\n",
    "\\max_{\\bf x}&\\sum_{i=1}^mb_ix_i\\\\\n",
    "s.t. &\\sum_{i=1}^mc_ix_i\\leq C\n",
    "\\end{align}"
   ]
  },
  {
   "cell_type": "code",
   "execution_count": 18,
   "metadata": {},
   "outputs": [],
   "source": [
    "from pulp import *\n",
    "m = LpProblem(sense=LpMaximize) # 最大化問題として定式化\n",
    "x = [LpVariable('x{0}'.format(i+1), cat=LpBinary) for i in range(len(data))] # 0-1の変数xの設定\n",
    "m += (data['現在価値']*x).sum() # 目的関数\n",
    "m += (data['支出']*x).sum() <= 600 # 制約条件"
   ]
  },
  {
   "cell_type": "code",
   "execution_count": 19,
   "metadata": {},
   "outputs": [
    {
     "output_type": "execute_result",
     "data": {
      "text/plain": "1"
     },
     "metadata": {},
     "execution_count": 19
    }
   ],
   "source": [
    "m.solve() # ソルバーの実行"
   ]
  },
  {
   "cell_type": "code",
   "execution_count": 36,
   "metadata": {},
   "outputs": [
    {
     "output_type": "execute_result",
     "data": {
      "text/plain": "           支出    現在価値    利益・費用率\nプロジェクト                         \n1       100.0   200.0  2.000000\n2       300.0   500.0  1.666667\n3       200.0   300.0  1.500000\n合計      600.0  1000.0  5.166667",
      "text/html": "<div>\n<style scoped>\n    .dataframe tbody tr th:only-of-type {\n        vertical-align: middle;\n    }\n\n    .dataframe tbody tr th {\n        vertical-align: top;\n    }\n\n    .dataframe thead th {\n        text-align: right;\n    }\n</style>\n<table border=\"1\" class=\"dataframe\">\n  <thead>\n    <tr style=\"text-align: right;\">\n      <th></th>\n      <th>支出</th>\n      <th>現在価値</th>\n      <th>利益・費用率</th>\n    </tr>\n    <tr>\n      <th>プロジェクト</th>\n      <th></th>\n      <th></th>\n      <th></th>\n    </tr>\n  </thead>\n  <tbody>\n    <tr>\n      <th>1</th>\n      <td>100.0</td>\n      <td>200.0</td>\n      <td>2.000000</td>\n    </tr>\n    <tr>\n      <th>2</th>\n      <td>300.0</td>\n      <td>500.0</td>\n      <td>1.666667</td>\n    </tr>\n    <tr>\n      <th>3</th>\n      <td>200.0</td>\n      <td>300.0</td>\n      <td>1.500000</td>\n    </tr>\n    <tr>\n      <th>合計</th>\n      <td>600.0</td>\n      <td>1000.0</td>\n      <td>5.166667</td>\n    </tr>\n  </tbody>\n</table>\n</div>"
     },
     "metadata": {},
     "execution_count": 36
    }
   ],
   "source": [
    "ans = [bool(value(x[i])) for i in range(len(data))]\n",
    "project = data[ans]\n",
    "project.loc['合計'] = project.sum(axis=0)\n",
    "project"
   ]
  },
  {
   "cell_type": "markdown",
   "metadata": {},
   "source": [
    "よって最適解の場合はプロジェクト1, 2, 3 が採択される。"
   ]
  }
 ]
}