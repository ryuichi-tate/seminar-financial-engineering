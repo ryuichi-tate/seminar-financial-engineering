{
 "cells": [
  {
   "cell_type": "markdown",
   "metadata": {},
   "source": [
    "# 確実同値額"
   ]
  },
  {
   "cell_type": "markdown",
   "metadata": {},
   "source": [
    "確実同値額$C$は、\n",
    "\\begin{align}\n",
    "\\mathbb{E}[U(X)] = U(C)\n",
    "\\end{align}\n",
    "を満たす正の実数。（教科書P.353参照）"
   ]
  },
  {
   "cell_type": "markdown",
   "metadata": {},
   "source": [
    "| 収入 [万ドル] | 確率 |\n",
    "| --- | --- |\n",
    "| 8 | 1/7 |\n",
    "| 9 | 1/7 |\n",
    "| 10 | 1/7 |\n",
    "| 11 | 1/7 |\n",
    "| 12 | 1/7 |\n",
    "| 13 | 1/7 |\n",
    "| 14 | 1/7 |"
   ]
  },
  {
   "cell_type": "markdown",
   "metadata": {},
   "source": [
    "\\begin{align}\n",
    "\\mathbb{E}[U(X)] &= 8^{\\frac{1}{4}}\\times\\frac{1}{7}+9^{\\frac{1}{4}}\\times\\frac{1}{7}+10^{\\frac{1}{4}}\\times\\frac{1}{7}+11^{\\frac{1}{4}}\\times\\frac{1}{7}+12^{\\frac{1}{4}}\\times\\frac{1}{7}+13^{\\frac{1}{4}}\\times\\frac{1}{7}+14^{\\frac{1}{4}}\\times\\frac{1}{7}\\\\\n",
    "&= 1.8\n",
    "\\end{align}\n",
    "\n",
    "\\begin{align}\n",
    "C &= U^{-1}(\\mathbb{E}[U(X)])\\\\\n",
    "&= 1.8^4\\\\\n",
    "&= 10.861\n",
    "\\end{align}\n",
    "よって10.861万ドル"
   ]
  },
  {
   "cell_type": "code",
   "execution_count": 1,
   "metadata": {},
   "outputs": [
    {
     "data": {
      "text/plain": [
       "10.861003827861238"
      ]
     },
     "execution_count": 1,
     "metadata": {},
     "output_type": "execute_result"
    }
   ],
   "source": [
    "sum([k**(1/4)*1/7 for k in range(8,15)])**4"
   ]
  }
 ],
 "metadata": {
  "kernelspec": {
   "display_name": "Python 3",
   "language": "python",
   "name": "python3"
  },
  "language_info": {
   "codemirror_mode": {
    "name": "ipython",
    "version": 3
   },
   "file_extension": ".py",
   "mimetype": "text/x-python",
   "name": "python",
   "nbconvert_exporter": "python",
   "pygments_lexer": "ipython3",
   "version": "3.7.0"
  }
 },
 "nbformat": 4,
 "nbformat_minor": 2
}
