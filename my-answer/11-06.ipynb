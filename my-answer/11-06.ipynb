{
 "cells": [
  {
   "cell_type": "markdown",
   "metadata": {},
   "source": [
    "# HARA"
   ]
  },
  {
   "cell_type": "markdown",
   "metadata": {},
   "source": [
    "## (a)"
   ]
  },
  {
   "cell_type": "markdown",
   "metadata": {},
   "source": [
    "\\begin{align}\n",
    "&\\lim_{\\gamma\\rightarrow1}U(x)\n",
    "\\\\\n",
    "&=\\lim_{\\gamma\\rightarrow1}\\frac{1-\\gamma}{\\gamma}\\left(\\frac{ax}{1-\\gamma}+b\\right)^{\\gamma}\\\\\n",
    "\\\\\n",
    "&= \\lim_{\\gamma\\rightarrow1}\\exp\\left[\\log\\left\\{\\frac{1-\\gamma}{\\gamma}\\left(\\frac{ax}{1-\\gamma}+b\\right)^{\\gamma}\\right\\}\\right]\n",
    "\\\\\n",
    "&= \\lim_{\\gamma\\rightarrow1}\\exp\\left[\\log(1-\\gamma)-\\log\\gamma+\\gamma\\log\\left(\\frac{ax}{1-\\gamma}+b\\right)\\right]\n",
    "\\\\\n",
    "&= \\lim_{\\gamma\\rightarrow1}\\exp\\left[\\log(1-\\gamma)-\\log\\gamma+\\gamma\\log\\left\\{(ax+b(1-\\gamma)\\right\\}-\\gamma\\log(1-\\gamma)\\right]\n",
    "\\\\\n",
    "&= \\lim_{\\gamma\\rightarrow1}\\exp\\left\\{(1-\\gamma)\\log(1-\\gamma)\\right\\}\\times\\lim_{\\gamma\\rightarrow1}\\exp(-\\log\\gamma)\\times\\lim_{\\gamma\\rightarrow1}\\exp[\\gamma\\log\\{ax+b(1-\\gamma)\\}]\n",
    "\\\\\n",
    "&= e^0\\times e^{-0}\\times ax\\\\\n",
    "&=ax\n",
    "\\end{align}"
   ]
  },
  {
   "cell_type": "markdown",
   "metadata": {},
   "source": [
    "よって$a=1$、$\\gamma\\rightarrow1$の時に$U(x)=x$となる"
   ]
  },
  {
   "cell_type": "markdown",
   "metadata": {},
   "source": [
    "## (b)"
   ]
  },
  {
   "cell_type": "markdown",
   "metadata": {},
   "source": [
    "二次式にしないといけないので$\\gamma=2$とすると、\n",
    "\\begin{align}\n",
    "U(x)&=\\frac{-1}{2}(-ax+b)^2\\\\\n",
    "\\\\\n",
    "&=-\\frac{1}{2}a^2x^2+abx-\\frac{1}{2}b^2\n",
    "\\end{align}"
   ]
  },
  {
   "cell_type": "markdown",
   "metadata": {},
   "source": [
    "$x^2$と$x$の係数を揃えるために、$a=\\sqrt{c}$,$b=\\frac{1}{\\sqrt{c}}$とすると\n",
    "\\begin{align}\n",
    "U(x)=-\\frac{1}{2}cx^2+x-\\frac{1}{2c}\n",
    "\\end{align}"
   ]
  },
  {
   "cell_type": "markdown",
   "metadata": {},
   "source": [
    "効用関数の平行移動による変換は等価な変換なので、これは$U(x)=x-\\frac{1}{2}cx^2$と等価である。\n",
    "\n",
    "よって$a=\\sqrt{c}$、$b=\\frac{1}{\\sqrt{c}}$、$\\gamma=2$の時に$U(x)=x-\\frac{1}{2}cx^2$となる。"
   ]
  },
  {
   "cell_type": "markdown",
   "metadata": {},
   "source": [
    "## (c)"
   ]
  },
  {
   "cell_type": "markdown",
   "metadata": {},
   "source": [
    "\\begin{align}\n",
    "&\\lim_{\\gamma\\rightarrow\\infty}U(x)\\\\\n",
    "&= \\lim_{\\gamma\\rightarrow\\infty}\\frac{1-\\gamma}{\\gamma}\\left(\\frac{ax}{1-\\gamma}+b\\right)^{\\gamma}\n",
    "\\end{align}"
   ]
  },
  {
   "cell_type": "markdown",
   "metadata": {},
   "source": [
    "$e^c=\\lim_{\\gamma\\rightarrow\\infty}\\left(1+\\frac{c}{\\gamma}\\right)^{\\gamma}$を使いたいので、とりあえず$b=1$とする。"
   ]
  },
  {
   "cell_type": "markdown",
   "metadata": {},
   "source": [
    "\\begin{align}\n",
    "&\\lim_{\\gamma\\rightarrow\\infty}U(x)\\\\\n",
    "&= \\lim_{\\gamma\\rightarrow\\infty}\\frac{1-\\gamma}{\\gamma}\\left(1+\\frac{ax}{1-\\gamma}\\right)^{\\gamma}\\\\\n",
    "\\\\\n",
    "&= \\lim_{\\gamma\\rightarrow\\infty}\\left(\\frac{1}{\\gamma}-1\\right)\\left(1+\\frac{-ax}{\\gamma-1}\\right)^{\\gamma-1}\\left(1+\\frac{-ax}{\\gamma-1}\\right)\\\\\n",
    "\\\\\n",
    "&= \\lim_{\\gamma\\rightarrow\\infty}\\left(\\frac{1}{\\gamma}-1\\right)\\lim_{\\gamma\\rightarrow\\infty}\\left(1+\\frac{-ax}{\\gamma-1}\\right)^{\\gamma-1}\\lim_{\\gamma\\rightarrow\\infty}\\left(1+\\frac{-ax}{\\gamma-1}\\right)\\\\\n",
    "\\\\\n",
    "&=-1\\times e^{-ax}\\\\\n",
    "&= -e^{-ax}\n",
    "\\end{align}"
   ]
  },
  {
   "cell_type": "markdown",
   "metadata": {},
   "source": [
    "よって$b=1, \\gamma\\rightarrow\\infty$"
   ]
  },
  {
   "cell_type": "markdown",
   "metadata": {},
   "source": [
    "## (d)"
   ]
  },
  {
   "cell_type": "markdown",
   "metadata": {},
   "source": [
    "$b=0$とすると、\n",
    "\\begin{align}\n",
    "U(x) &= \\frac{1-\\gamma}{\\gamma}\\left(\\frac{ax}{1-\\gamma}\\right)^{\\gamma}\\\\\n",
    "\\\\\n",
    "&=\\frac{(1-\\gamma)^{1-\\gamma}}{\\gamma}a^{\\gamma}x^{\\gamma}\\\\\n",
    "\\end{align}"
   ]
  },
  {
   "cell_type": "markdown",
   "metadata": {},
   "source": [
    "$\\gamma<1$の時、$c=\\frac{(1-\\gamma)^{1-\\gamma}}{\\gamma}a^{\\gamma}$とおくと、$c$は定数となる。"
   ]
  },
  {
   "cell_type": "markdown",
   "metadata": {},
   "source": [
    "よって$b=0, \\gamma<1, c=\\frac{(1-\\gamma)^{1-\\gamma}}{\\gamma}a^{\\gamma}$"
   ]
  },
  {
   "cell_type": "markdown",
   "metadata": {},
   "source": [
    "## (e)"
   ]
  },
  {
   "cell_type": "markdown",
   "metadata": {},
   "source": [
    "$a=1,b=0$とすると、\n",
    "\\begin{align}\n",
    "U(x) &= \\frac{1-\\gamma}{\\gamma}\\left(\\frac{x}{1-\\gamma}\\right)^{\\gamma}\\\\\n",
    "\\\\\n",
    "&=(1-\\gamma)^{1-\\gamma}\\frac{x^{\\gamma}}{\\gamma}\n",
    "\\end{align}"
   ]
  },
  {
   "cell_type": "markdown",
   "metadata": {},
   "source": [
    "効用関数は定数を足しても等価なので、定数$c=-\\frac{(1-\\gamma)^{1-\\gamma}}{\\gamma}$を足したものを改めて$U(x)$とおく。\n",
    "\\begin{align}\n",
    "U(x)=(1-\\gamma)^{1-\\gamma}\\frac{x^{\\gamma}-1}{\\gamma}\n",
    "\\end{align}"
   ]
  },
  {
   "cell_type": "markdown",
   "metadata": {},
   "source": [
    "\\begin{align}\n",
    "\\lim_{\\gamma\\rightarrow0}U (x) &=\\lim_{\\gamma\\rightarrow0}(1-\\gamma)^{1-\\gamma}\\frac{x^{\\gamma}-1}{\\gamma}\\\\\n",
    "\\\\\n",
    "&=\\lim_{\\gamma\\rightarrow0}\\frac{x^{\\gamma}-1}{\\gamma}\\\\\n",
    "\\\\\n",
    "&=\\lim_{\\gamma\\rightarrow0}\\frac{(x^{\\gamma}-1)'}{(\\gamma)'}\\\\\n",
    "\\\\\n",
    "&=\\lim_{\\gamma\\rightarrow0}\\frac{x^{\\gamma}\\log x}{1}\\\\\n",
    "&=\\log x\n",
    "\\end{align}"
   ]
  },
  {
   "cell_type": "markdown",
   "metadata": {},
   "source": [
    "よって$a=1,b=0,\\gamma\\rightarrow0$"
   ]
  },
  {
   "cell_type": "markdown",
   "metadata": {},
   "source": [
    "またArrow-Prattのリスク回避係数は\n",
    "\\begin{align}\n",
    "a(x)= -\\frac{U''(x)}{U'(x)} = -\\frac{d}{dx}\\log U'(x)\n",
    "\\end{align}"
   ]
  },
  {
   "cell_type": "markdown",
   "metadata": {},
   "source": [
    "\\begin{align}\n",
    "U'(x)=\\frac{d}{dx}U(x) &= \\frac{1-\\gamma}{\\gamma}\\gamma\\left(\\frac{ax}{1-\\gamma}+b\\right)^{\\gamma-1}\\cdot a\\\\\n",
    "\\\\\n",
    "&=a(1-\\gamma)\\left(\\frac{ax}{1-\\gamma}+b\\right)^{\\gamma-1}\n",
    "\\end{align}\n",
    "\n",
    "\\begin{align}\n",
    "\\log U'(x) = \\log a +\\log(1-\\gamma)+(1-\\gamma)\\log\\left(\\frac{ax}{1-\\gamma}+b\\right)\n",
    "\\end{align}\n",
    "\n",
    "\\begin{align}\n",
    "a(x) = -\\frac{d}{dx}\\log U'(x) &= -(1-\\gamma)\\frac{\\frac{a}{1-\\gamma}}{\\frac{ax}{1-\\gamma}+b}\\\\\n",
    "&=\\frac{1}{\\frac{-1}{1-\\gamma}x+\\frac{-b}{a}}\\\\\n",
    "&= \\frac{1}{cx+d}\n",
    "\\end{align}"
   ]
  }
 ],
 "metadata": {
  "kernelspec": {
   "display_name": "Python 3",
   "language": "python",
   "name": "python3"
  },
  "language_info": {
   "codemirror_mode": {
    "name": "ipython",
    "version": 3
   },
   "file_extension": ".py",
   "mimetype": "text/x-python",
   "name": "python",
   "nbconvert_exporter": "python",
   "pygments_lexer": "ipython3",
   "version": "3.7.0"
  }
 },
 "nbformat": 4,
 "nbformat_minor": 2
}
