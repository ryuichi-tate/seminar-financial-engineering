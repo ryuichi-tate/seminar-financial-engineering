{
 "metadata": {
  "language_info": {
   "codemirror_mode": {
    "name": "ipython",
    "version": 3
   },
   "file_extension": ".py",
   "mimetype": "text/x-python",
   "name": "python",
   "nbconvert_exporter": "python",
   "pygments_lexer": "ipython3",
   "version": 3
  },
  "orig_nbformat": 2,
  "kernelspec": {
   "name": "python_defaultSpec_1596941074961",
   "display_name": "Python 3.7.0 64-bit ('base': conda)"
  }
 },
 "nbformat": 4,
 "nbformat_minor": 2,
 "cells": [
  {
   "cell_type": "markdown",
   "metadata": {},
   "source": [
    "# 問4-11 逐次現在価値計算の例"
   ]
  },
  {
   "cell_type": "code",
   "execution_count": 1,
   "metadata": {},
   "outputs": [],
   "source": [
    "import numpy as np"
   ]
  },
  {
   "cell_type": "code",
   "execution_count": 2,
   "metadata": {},
   "outputs": [],
   "source": [
    "x = np.array([-40, 10, 10, 10, 10, 10, 10])\n",
    "s = np.array([0, 0.05, 0.053, 0.056, 0.058, 0.06, 0.061])"
   ]
  },
  {
   "cell_type": "markdown",
   "metadata": {},
   "source": [
    "割引率について、\n",
    "\n",
    "$$d_{0,j}=d_{0,i}d_{i,j}$$\n",
    "$$d_{0,k}=(1+f_{0,k})^{-k}=(1+s_k)^{-k}$$\n",
    "\n",
    "より、\n",
    "\n",
    "$$d_{i,j} = \\frac{d_{0,j}}{d_{0,i}} = \\frac{(1+s_i)^i}{(1+s_j)^j}$$"
   ]
  },
  {
   "cell_type": "code",
   "execution_count": 7,
   "metadata": {
    "tags": []
   },
   "outputs": [
    {
     "output_type": "execute_result",
     "data": {
      "text/plain": "array([[1.   , 0.952, 0.902, 0.849, 0.798, 0.747, 0.701],\n       [1.   , 1.   , 0.947, 0.892, 0.838, 0.785, 0.736],\n       [1.   , 1.   , 1.   , 0.942, 0.885, 0.829, 0.777],\n       [1.   , 1.   , 1.   , 1.   , 0.94 , 0.88 , 0.825],\n       [1.   , 1.   , 1.   , 1.   , 1.   , 0.936, 0.878],\n       [1.   , 1.   , 1.   , 1.   , 1.   , 1.   , 0.938]])"
     },
     "metadata": {},
     "execution_count": 7
    }
   ],
   "source": [
    "d = np.ones([6,7])\n",
    "for i in range(6):\n",
    "    for j in range(i,7):\n",
    "        d[i][j] = (1+s[i])**i/((1+s[j])**j)\n",
    "np.round(d,3)"
   ]
  },
  {
   "cell_type": "markdown",
   "metadata": {},
   "source": [
    "## (a)"
   ]
  },
  {
   "cell_type": "markdown",
   "metadata": {},
   "source": [
    "$$PV=\\sum_{k=0}^6x_kd_{0,k}$$"
   ]
  },
  {
   "cell_type": "code",
   "execution_count": 15,
   "metadata": {
    "tags": []
   },
   "outputs": [
    {
     "output_type": "execute_result",
     "data": {
      "text/plain": "9.498"
     },
     "metadata": {},
     "execution_count": 15
    }
   ],
   "source": [
    "PV = 0\n",
    "for k in range(7):\n",
    "    PV += x[k]*d[0,k]\n",
    "round(PV,3)"
   ]
  },
  {
   "cell_type": "markdown",
   "metadata": {},
   "source": [
    "## (b)"
   ]
  },
  {
   "cell_type": "markdown",
   "metadata": {},
   "source": [
    "現在価値の更新式\n",
    "$$PV(k)=x_k+d_{k,k+1}PV(k+1)$$\n",
    "$$PV(6)=10$$"
   ]
  },
  {
   "cell_type": "code",
   "execution_count": 17,
   "metadata": {
    "tags": []
   },
   "outputs": [
    {
     "output_type": "stream",
     "name": "stdout",
     "text": "5 19.381\n4 28.146\n3 36.453\n2 44.324\n1 51.973\n0 9.498\n"
    },
    {
     "output_type": "execute_result",
     "data": {
      "text/plain": "9.498"
     },
     "metadata": {},
     "execution_count": 17
    }
   ],
   "source": [
    "PV = np.empty([7])\n",
    "PV[6]=10\n",
    "for k in reversed(range(0, 6)):\n",
    "    PV[k] = x[k]+d[k,k+1]*PV[k+1]\n",
    "    print(k,round(PV[k],3))\n",
    "round(PV[0],3)"
   ]
  }
 ]
}